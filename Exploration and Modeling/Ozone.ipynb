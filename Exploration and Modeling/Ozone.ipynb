{
 "cells": [
  {
   "cell_type": "code",
   "execution_count": 3,
   "id": "5bc7d2ce-27c0-4c42-b047-81a9fb050eb7",
   "metadata": {},
   "outputs": [],
   "source": [
    "import pandas as pd\n",
    "import sklearn"
   ]
  },
  {
   "cell_type": "code",
   "execution_count": 4,
   "id": "1d456d8a-3248-4996-9e5d-c45b4a2d24c3",
   "metadata": {},
   "outputs": [],
   "source": [
    "df = pd.read_csv('LA o3.csv', parse_dates=['date','utc','local'], index_col='utc')"
   ]
  },
  {
   "cell_type": "code",
   "execution_count": 5,
   "id": "51d31725-f4b9-4859-bded-879e4979bf54",
   "metadata": {},
   "outputs": [
    {
     "data": {
      "text/html": [
       "<div>\n",
       "<style scoped>\n",
       "    .dataframe tbody tr th:only-of-type {\n",
       "        vertical-align: middle;\n",
       "    }\n",
       "\n",
       "    .dataframe tbody tr th {\n",
       "        vertical-align: top;\n",
       "    }\n",
       "\n",
       "    .dataframe thead th {\n",
       "        text-align: right;\n",
       "    }\n",
       "</style>\n",
       "<table border=\"1\" class=\"dataframe\">\n",
       "  <thead>\n",
       "    <tr style=\"text-align: right;\">\n",
       "      <th></th>\n",
       "      <th>parameter</th>\n",
       "      <th>location</th>\n",
       "      <th>value</th>\n",
       "      <th>concentration_units</th>\n",
       "      <th>city</th>\n",
       "      <th>country</th>\n",
       "      <th>sourcename</th>\n",
       "      <th>sourcetype</th>\n",
       "      <th>mobile</th>\n",
       "      <th>latitude</th>\n",
       "      <th>...</th>\n",
       "      <th>stp</th>\n",
       "      <th>visibility</th>\n",
       "      <th>wind_speed</th>\n",
       "      <th>max_sustained_wind</th>\n",
       "      <th>gust</th>\n",
       "      <th>max_temp</th>\n",
       "      <th>min_temp</th>\n",
       "      <th>precipitation</th>\n",
       "      <th>snow_depth</th>\n",
       "      <th>weather_events</th>\n",
       "    </tr>\n",
       "    <tr>\n",
       "      <th>utc</th>\n",
       "      <th></th>\n",
       "      <th></th>\n",
       "      <th></th>\n",
       "      <th></th>\n",
       "      <th></th>\n",
       "      <th></th>\n",
       "      <th></th>\n",
       "      <th></th>\n",
       "      <th></th>\n",
       "      <th></th>\n",
       "      <th></th>\n",
       "      <th></th>\n",
       "      <th></th>\n",
       "      <th></th>\n",
       "      <th></th>\n",
       "      <th></th>\n",
       "      <th></th>\n",
       "      <th></th>\n",
       "      <th></th>\n",
       "      <th></th>\n",
       "      <th></th>\n",
       "    </tr>\n",
       "  </thead>\n",
       "  <tbody>\n",
       "    <tr>\n",
       "      <th>2020-01-02 21:00:00</th>\n",
       "      <td>o3</td>\n",
       "      <td>North Holywood</td>\n",
       "      <td>0.036</td>\n",
       "      <td>ppm</td>\n",
       "      <td>Los Angeles-Long Beach-Santa Ana</td>\n",
       "      <td>US</td>\n",
       "      <td>AirNow</td>\n",
       "      <td>government</td>\n",
       "      <td>False</td>\n",
       "      <td>34.181976</td>\n",
       "      <td>...</td>\n",
       "      <td>986.8</td>\n",
       "      <td>10.0</td>\n",
       "      <td>4.5</td>\n",
       "      <td>12.0</td>\n",
       "      <td>NaN</td>\n",
       "      <td>68.0</td>\n",
       "      <td>43.0</td>\n",
       "      <td>0.0</td>\n",
       "      <td>0</td>\n",
       "      <td>NaN</td>\n",
       "    </tr>\n",
       "    <tr>\n",
       "      <th>2020-01-02 15:00:00</th>\n",
       "      <td>o3</td>\n",
       "      <td>North Holywood</td>\n",
       "      <td>0.018</td>\n",
       "      <td>ppm</td>\n",
       "      <td>Los Angeles-Long Beach-Santa Ana</td>\n",
       "      <td>US</td>\n",
       "      <td>AirNow</td>\n",
       "      <td>government</td>\n",
       "      <td>False</td>\n",
       "      <td>34.181976</td>\n",
       "      <td>...</td>\n",
       "      <td>986.8</td>\n",
       "      <td>10.0</td>\n",
       "      <td>4.5</td>\n",
       "      <td>12.0</td>\n",
       "      <td>NaN</td>\n",
       "      <td>68.0</td>\n",
       "      <td>43.0</td>\n",
       "      <td>0.0</td>\n",
       "      <td>0</td>\n",
       "      <td>NaN</td>\n",
       "    </tr>\n",
       "    <tr>\n",
       "      <th>2020-01-02 20:00:00</th>\n",
       "      <td>o3</td>\n",
       "      <td>North Holywood</td>\n",
       "      <td>0.041</td>\n",
       "      <td>ppm</td>\n",
       "      <td>Los Angeles-Long Beach-Santa Ana</td>\n",
       "      <td>US</td>\n",
       "      <td>AirNow</td>\n",
       "      <td>government</td>\n",
       "      <td>False</td>\n",
       "      <td>34.181976</td>\n",
       "      <td>...</td>\n",
       "      <td>986.8</td>\n",
       "      <td>10.0</td>\n",
       "      <td>4.5</td>\n",
       "      <td>12.0</td>\n",
       "      <td>NaN</td>\n",
       "      <td>68.0</td>\n",
       "      <td>43.0</td>\n",
       "      <td>0.0</td>\n",
       "      <td>0</td>\n",
       "      <td>NaN</td>\n",
       "    </tr>\n",
       "    <tr>\n",
       "      <th>2020-01-02 23:00:00</th>\n",
       "      <td>o3</td>\n",
       "      <td>North Holywood</td>\n",
       "      <td>0.031</td>\n",
       "      <td>ppm</td>\n",
       "      <td>Los Angeles-Long Beach-Santa Ana</td>\n",
       "      <td>US</td>\n",
       "      <td>AirNow</td>\n",
       "      <td>government</td>\n",
       "      <td>False</td>\n",
       "      <td>34.181976</td>\n",
       "      <td>...</td>\n",
       "      <td>986.8</td>\n",
       "      <td>10.0</td>\n",
       "      <td>4.5</td>\n",
       "      <td>12.0</td>\n",
       "      <td>NaN</td>\n",
       "      <td>68.0</td>\n",
       "      <td>43.0</td>\n",
       "      <td>0.0</td>\n",
       "      <td>0</td>\n",
       "      <td>NaN</td>\n",
       "    </tr>\n",
       "    <tr>\n",
       "      <th>2020-01-02 17:00:00</th>\n",
       "      <td>o3</td>\n",
       "      <td>North Holywood</td>\n",
       "      <td>0.034</td>\n",
       "      <td>ppm</td>\n",
       "      <td>Los Angeles-Long Beach-Santa Ana</td>\n",
       "      <td>US</td>\n",
       "      <td>AirNow</td>\n",
       "      <td>government</td>\n",
       "      <td>False</td>\n",
       "      <td>34.181976</td>\n",
       "      <td>...</td>\n",
       "      <td>986.8</td>\n",
       "      <td>10.0</td>\n",
       "      <td>4.5</td>\n",
       "      <td>12.0</td>\n",
       "      <td>NaN</td>\n",
       "      <td>68.0</td>\n",
       "      <td>43.0</td>\n",
       "      <td>0.0</td>\n",
       "      <td>0</td>\n",
       "      <td>NaN</td>\n",
       "    </tr>\n",
       "  </tbody>\n",
       "</table>\n",
       "<p>5 rows × 35 columns</p>\n",
       "</div>"
      ],
      "text/plain": [
       "                    parameter        location  value concentration_units  \\\n",
       "utc                                                                        \n",
       "2020-01-02 21:00:00        o3  North Holywood  0.036                 ppm   \n",
       "2020-01-02 15:00:00        o3  North Holywood  0.018                 ppm   \n",
       "2020-01-02 20:00:00        o3  North Holywood  0.041                 ppm   \n",
       "2020-01-02 23:00:00        o3  North Holywood  0.031                 ppm   \n",
       "2020-01-02 17:00:00        o3  North Holywood  0.034                 ppm   \n",
       "\n",
       "                                                 city country sourcename  \\\n",
       "utc                                                                        \n",
       "2020-01-02 21:00:00  Los Angeles-Long Beach-Santa Ana      US     AirNow   \n",
       "2020-01-02 15:00:00  Los Angeles-Long Beach-Santa Ana      US     AirNow   \n",
       "2020-01-02 20:00:00  Los Angeles-Long Beach-Santa Ana      US     AirNow   \n",
       "2020-01-02 23:00:00  Los Angeles-Long Beach-Santa Ana      US     AirNow   \n",
       "2020-01-02 17:00:00  Los Angeles-Long Beach-Santa Ana      US     AirNow   \n",
       "\n",
       "                     sourcetype  mobile   latitude  ...    stp visibility  \\\n",
       "utc                                                 ...                     \n",
       "2020-01-02 21:00:00  government   False  34.181976  ...  986.8       10.0   \n",
       "2020-01-02 15:00:00  government   False  34.181976  ...  986.8       10.0   \n",
       "2020-01-02 20:00:00  government   False  34.181976  ...  986.8       10.0   \n",
       "2020-01-02 23:00:00  government   False  34.181976  ...  986.8       10.0   \n",
       "2020-01-02 17:00:00  government   False  34.181976  ...  986.8       10.0   \n",
       "\n",
       "                    wind_speed  max_sustained_wind gust  max_temp  min_temp  \\\n",
       "utc                                                                           \n",
       "2020-01-02 21:00:00        4.5                12.0  NaN      68.0      43.0   \n",
       "2020-01-02 15:00:00        4.5                12.0  NaN      68.0      43.0   \n",
       "2020-01-02 20:00:00        4.5                12.0  NaN      68.0      43.0   \n",
       "2020-01-02 23:00:00        4.5                12.0  NaN      68.0      43.0   \n",
       "2020-01-02 17:00:00        4.5                12.0  NaN      68.0      43.0   \n",
       "\n",
       "                    precipitation  snow_depth  weather_events  \n",
       "utc                                                            \n",
       "2020-01-02 21:00:00           0.0           0             NaN  \n",
       "2020-01-02 15:00:00           0.0           0             NaN  \n",
       "2020-01-02 20:00:00           0.0           0             NaN  \n",
       "2020-01-02 23:00:00           0.0           0             NaN  \n",
       "2020-01-02 17:00:00           0.0           0             NaN  \n",
       "\n",
       "[5 rows x 35 columns]"
      ]
     },
     "execution_count": 5,
     "metadata": {},
     "output_type": "execute_result"
    }
   ],
   "source": [
    "df.head()"
   ]
  },
  {
   "cell_type": "code",
   "execution_count": 6,
   "id": "a6e87f89-711a-4760-a41c-3a1a15632582",
   "metadata": {},
   "outputs": [
    {
     "data": {
      "text/plain": [
       "Index(['parameter', 'location', 'value', 'concentration_units', 'city',\n",
       "       'country', 'sourcename', 'sourcetype', 'mobile', 'latitude',\n",
       "       'longitude', 'local', 'source', 'url', 'averaging_time_unit',\n",
       "       'averaging_time', 'station', 'date', 'latitude-2', 'longitude-2',\n",
       "       'elevation', 'name', 'temperature', 'dewpoint', 'slp', 'stp',\n",
       "       'visibility', 'wind_speed', 'max_sustained_wind', 'gust', 'max_temp',\n",
       "       'min_temp', 'precipitation', 'snow_depth', 'weather_events'],\n",
       "      dtype='object')"
      ]
     },
     "execution_count": 6,
     "metadata": {},
     "output_type": "execute_result"
    }
   ],
   "source": [
    "df.columns"
   ]
  },
  {
   "cell_type": "code",
   "execution_count": 7,
   "id": "a783dcc7-8f56-4860-9177-469cc625b44c",
   "metadata": {},
   "outputs": [
    {
     "data": {
      "text/html": [
       "<div>\n",
       "<style scoped>\n",
       "    .dataframe tbody tr th:only-of-type {\n",
       "        vertical-align: middle;\n",
       "    }\n",
       "\n",
       "    .dataframe tbody tr th {\n",
       "        vertical-align: top;\n",
       "    }\n",
       "\n",
       "    .dataframe thead th {\n",
       "        text-align: right;\n",
       "    }\n",
       "</style>\n",
       "<table border=\"1\" class=\"dataframe\">\n",
       "  <thead>\n",
       "    <tr style=\"text-align: right;\">\n",
       "      <th></th>\n",
       "      <th>value</th>\n",
       "      <th>mobile</th>\n",
       "      <th>latitude</th>\n",
       "      <th>longitude</th>\n",
       "      <th>url</th>\n",
       "      <th>averaging_time</th>\n",
       "      <th>station</th>\n",
       "      <th>latitude-2</th>\n",
       "      <th>longitude-2</th>\n",
       "      <th>elevation</th>\n",
       "      <th>...</th>\n",
       "      <th>slp</th>\n",
       "      <th>stp</th>\n",
       "      <th>visibility</th>\n",
       "      <th>wind_speed</th>\n",
       "      <th>max_sustained_wind</th>\n",
       "      <th>gust</th>\n",
       "      <th>max_temp</th>\n",
       "      <th>min_temp</th>\n",
       "      <th>precipitation</th>\n",
       "      <th>snow_depth</th>\n",
       "    </tr>\n",
       "    <tr>\n",
       "      <th>date</th>\n",
       "      <th></th>\n",
       "      <th></th>\n",
       "      <th></th>\n",
       "      <th></th>\n",
       "      <th></th>\n",
       "      <th></th>\n",
       "      <th></th>\n",
       "      <th></th>\n",
       "      <th></th>\n",
       "      <th></th>\n",
       "      <th></th>\n",
       "      <th></th>\n",
       "      <th></th>\n",
       "      <th></th>\n",
       "      <th></th>\n",
       "      <th></th>\n",
       "      <th></th>\n",
       "      <th></th>\n",
       "      <th></th>\n",
       "      <th></th>\n",
       "      <th></th>\n",
       "    </tr>\n",
       "  </thead>\n",
       "  <tbody>\n",
       "    <tr>\n",
       "      <th>2020-01-02</th>\n",
       "      <td>0.032111</td>\n",
       "      <td>0.0</td>\n",
       "      <td>34.181976</td>\n",
       "      <td>-118.36304</td>\n",
       "      <td>NaN</td>\n",
       "      <td>1.0</td>\n",
       "      <td>7.228802e+10</td>\n",
       "      <td>34.20056</td>\n",
       "      <td>-118.3575</td>\n",
       "      <td>225.9</td>\n",
       "      <td>...</td>\n",
       "      <td>1012.5</td>\n",
       "      <td>986.8</td>\n",
       "      <td>10.0</td>\n",
       "      <td>4.5</td>\n",
       "      <td>12.0</td>\n",
       "      <td>NaN</td>\n",
       "      <td>68.0</td>\n",
       "      <td>43.0</td>\n",
       "      <td>0.0</td>\n",
       "      <td>0.0</td>\n",
       "    </tr>\n",
       "    <tr>\n",
       "      <th>2020-01-03</th>\n",
       "      <td>0.008792</td>\n",
       "      <td>0.0</td>\n",
       "      <td>34.181976</td>\n",
       "      <td>-118.36304</td>\n",
       "      <td>NaN</td>\n",
       "      <td>1.0</td>\n",
       "      <td>7.228802e+10</td>\n",
       "      <td>34.20056</td>\n",
       "      <td>-118.3575</td>\n",
       "      <td>225.9</td>\n",
       "      <td>...</td>\n",
       "      <td>1019.9</td>\n",
       "      <td>994.0</td>\n",
       "      <td>10.0</td>\n",
       "      <td>1.6</td>\n",
       "      <td>6.0</td>\n",
       "      <td>NaN</td>\n",
       "      <td>73.0</td>\n",
       "      <td>45.0</td>\n",
       "      <td>0.0</td>\n",
       "      <td>0.0</td>\n",
       "    </tr>\n",
       "    <tr>\n",
       "      <th>2020-01-04</th>\n",
       "      <td>0.009125</td>\n",
       "      <td>0.0</td>\n",
       "      <td>34.181976</td>\n",
       "      <td>-118.36304</td>\n",
       "      <td>NaN</td>\n",
       "      <td>1.0</td>\n",
       "      <td>7.228802e+10</td>\n",
       "      <td>34.20056</td>\n",
       "      <td>-118.3575</td>\n",
       "      <td>225.9</td>\n",
       "      <td>...</td>\n",
       "      <td>1025.1</td>\n",
       "      <td>999.1</td>\n",
       "      <td>10.0</td>\n",
       "      <td>1.1</td>\n",
       "      <td>6.0</td>\n",
       "      <td>NaN</td>\n",
       "      <td>73.0</td>\n",
       "      <td>42.1</td>\n",
       "      <td>0.0</td>\n",
       "      <td>0.0</td>\n",
       "    </tr>\n",
       "    <tr>\n",
       "      <th>2020-01-05</th>\n",
       "      <td>0.012125</td>\n",
       "      <td>0.0</td>\n",
       "      <td>34.181976</td>\n",
       "      <td>-118.36304</td>\n",
       "      <td>NaN</td>\n",
       "      <td>1.0</td>\n",
       "      <td>7.228802e+10</td>\n",
       "      <td>34.20056</td>\n",
       "      <td>-118.3575</td>\n",
       "      <td>225.9</td>\n",
       "      <td>...</td>\n",
       "      <td>1024.2</td>\n",
       "      <td>998.0</td>\n",
       "      <td>10.0</td>\n",
       "      <td>2.8</td>\n",
       "      <td>11.1</td>\n",
       "      <td>18.100000</td>\n",
       "      <td>73.0</td>\n",
       "      <td>42.1</td>\n",
       "      <td>0.0</td>\n",
       "      <td>0.0</td>\n",
       "    </tr>\n",
       "    <tr>\n",
       "      <th>2020-01-06</th>\n",
       "      <td>0.020143</td>\n",
       "      <td>0.0</td>\n",
       "      <td>34.181976</td>\n",
       "      <td>-118.36304</td>\n",
       "      <td>NaN</td>\n",
       "      <td>1.0</td>\n",
       "      <td>7.228802e+10</td>\n",
       "      <td>34.20056</td>\n",
       "      <td>-118.3575</td>\n",
       "      <td>225.9</td>\n",
       "      <td>...</td>\n",
       "      <td>1023.5</td>\n",
       "      <td>997.6</td>\n",
       "      <td>10.0</td>\n",
       "      <td>2.5</td>\n",
       "      <td>6.0</td>\n",
       "      <td>16.733333</td>\n",
       "      <td>75.0</td>\n",
       "      <td>42.1</td>\n",
       "      <td>0.0</td>\n",
       "      <td>0.0</td>\n",
       "    </tr>\n",
       "  </tbody>\n",
       "</table>\n",
       "<p>5 rows × 22 columns</p>\n",
       "</div>"
      ],
      "text/plain": [
       "               value  mobile   latitude  longitude  url  averaging_time  \\\n",
       "date                                                                      \n",
       "2020-01-02  0.032111     0.0  34.181976 -118.36304  NaN             1.0   \n",
       "2020-01-03  0.008792     0.0  34.181976 -118.36304  NaN             1.0   \n",
       "2020-01-04  0.009125     0.0  34.181976 -118.36304  NaN             1.0   \n",
       "2020-01-05  0.012125     0.0  34.181976 -118.36304  NaN             1.0   \n",
       "2020-01-06  0.020143     0.0  34.181976 -118.36304  NaN             1.0   \n",
       "\n",
       "                 station  latitude-2  longitude-2  elevation  ...     slp  \\\n",
       "date                                                          ...           \n",
       "2020-01-02  7.228802e+10    34.20056    -118.3575      225.9  ...  1012.5   \n",
       "2020-01-03  7.228802e+10    34.20056    -118.3575      225.9  ...  1019.9   \n",
       "2020-01-04  7.228802e+10    34.20056    -118.3575      225.9  ...  1025.1   \n",
       "2020-01-05  7.228802e+10    34.20056    -118.3575      225.9  ...  1024.2   \n",
       "2020-01-06  7.228802e+10    34.20056    -118.3575      225.9  ...  1023.5   \n",
       "\n",
       "              stp  visibility  wind_speed  max_sustained_wind       gust  \\\n",
       "date                                                                       \n",
       "2020-01-02  986.8        10.0         4.5                12.0        NaN   \n",
       "2020-01-03  994.0        10.0         1.6                 6.0        NaN   \n",
       "2020-01-04  999.1        10.0         1.1                 6.0        NaN   \n",
       "2020-01-05  998.0        10.0         2.8                11.1  18.100000   \n",
       "2020-01-06  997.6        10.0         2.5                 6.0  16.733333   \n",
       "\n",
       "            max_temp  min_temp  precipitation  snow_depth  \n",
       "date                                                       \n",
       "2020-01-02      68.0      43.0            0.0         0.0  \n",
       "2020-01-03      73.0      45.0            0.0         0.0  \n",
       "2020-01-04      73.0      42.1            0.0         0.0  \n",
       "2020-01-05      73.0      42.1            0.0         0.0  \n",
       "2020-01-06      75.0      42.1            0.0         0.0  \n",
       "\n",
       "[5 rows x 22 columns]"
      ]
     },
     "execution_count": 7,
     "metadata": {},
     "output_type": "execute_result"
    }
   ],
   "source": [
    "df = df.resample('d', on='date').mean()\n",
    "df = df.interpolate(method='time')\n",
    "df.head()"
   ]
  },
  {
   "cell_type": "code",
   "execution_count": 8,
   "id": "a3000e03-a8f9-4809-b046-fd4331b391ab",
   "metadata": {},
   "outputs": [
    {
     "name": "stdout",
     "output_type": "stream",
     "text": [
      "Results for linear regression on training data\n",
      "    Default Settings\n",
      "Internal Parameters:\n",
      "   Bias is 0.3576625981042214\n",
      "   Coefficients: [-3.70170889e-04  1.96755682e-03  9.08430012e-05 -3.62439163e-04\n",
      " -3.78688765e-06  8.18600528e-04  1.10611164e-04]\n",
      "   Score 0.45130104711617447\n",
      "MAE is 0.006572341986743905\n",
      "RMSE is 0.00869120013859023\n",
      "MSE is 7.553695984903081e-05\n",
      "R^2: 0.45130104711617447\n"
     ]
    }
   ],
   "source": [
    "from sklearn.model_selection import train_test_split\n",
    "from sklearn.linear_model import LinearRegression\n",
    "from sklearn.metrics import mean_absolute_error\n",
    "from sklearn.metrics import mean_squared_error\n",
    "from sklearn.metrics import r2_score\n",
    "import numpy as np\n",
    "\n",
    "train_set, test_set = train_test_split(df, test_size = 0.2, random_state = 123)\n",
    "X = train_set[['stp', 'wind_speed', 'max_sustained_wind', 'max_temp', 'min_temp','temperature', 'dewpoint']]\n",
    "y = train_set['value']\n",
    "\n",
    "X_test = test_set[['stp', 'wind_speed', 'max_sustained_wind', 'max_temp', 'min_temp','temperature', 'dewpoint']]\n",
    "y_test = test_set['value']\n",
    "\n",
    "lrmodel = LinearRegression()\n",
    "lrmodel.fit(X,y)\n",
    "\n",
    "y_pred = lrmodel.predict(X)\n",
    "print(f'Results for linear regression on training data')\n",
    "print(f'    Default Settings')\n",
    "print('Internal Parameters:')\n",
    "print(f'   Bias is {lrmodel.intercept_}')\n",
    "print(f'   Coefficients: {lrmodel.coef_}')\n",
    "print(f'   Score {lrmodel.score(X,y)}')\n",
    "\n",
    "print(f'MAE is {mean_absolute_error(y, y_pred)}')\n",
    "print(f'RMSE is {np.sqrt(mean_squared_error(y, y_pred))}')\n",
    "print(f'MSE is {mean_squared_error(y, y_pred)}')\n",
    "print(f'R^2: {r2_score(y, y_pred)}')"
   ]
  },
  {
   "cell_type": "code",
   "execution_count": 9,
   "id": "101b24cd-35a0-4ff2-a928-5613272ad21c",
   "metadata": {},
   "outputs": [
    {
     "name": "stdout",
     "output_type": "stream",
     "text": [
      "Results for linear regression on training data\n",
      "Input: Height, age\n",
      "    Default Settings\n",
      "Internal Parameters:\n",
      "   Bias is -3134.4650031896917\n",
      "   Coefficients: [-1.90560245e-12 -2.09002183e-12  4.26269093e-13 ...  1.13164622e-12\n",
      " -1.05150496e-12 -3.65254301e-12]\n",
      "   Score -0.07017577429194666\n",
      "MAE is 0.00910037317818601\n",
      "RMSE is 0.012137807428319873\n",
      "MSE is 0.00014732636916697708\n",
      "R^2: -0.07017577429194666\n"
     ]
    }
   ],
   "source": [
    "from sklearn.preprocessing import PolynomialFeatures\n",
    "from sklearn.linear_model import SGDRegressor\n",
    "\n",
    "power = 8\n",
    "poly_process = PolynomialFeatures(degree = power, include_bias=True)\n",
    "\n",
    "train_set, test_set = train_test_split(df, test_size = 0.2, random_state = 123)\n",
    "X = train_set[['stp', 'wind_speed', 'max_sustained_wind', 'max_temp', 'min_temp','temperature', 'dewpoint']]\n",
    "y = train_set['value']\n",
    "\n",
    "X_poly = poly_process.fit_transform(X)\n",
    "\n",
    "X_test = test_set[['stp', 'wind_speed', 'max_sustained_wind', 'max_temp', 'min_temp','temperature', 'dewpoint']]\n",
    "y_test = test_set['value']\n",
    "\n",
    "X_poly_test = poly_process.fit_transform(X_test)\n",
    "\n",
    "lrmodel = LinearRegression()\n",
    "lrmodel.fit(X_poly ,y)\n",
    "\n",
    "y_pred = lrmodel.predict(X_poly)\n",
    "print(f'Results for linear regression on training data')\n",
    "print(f'Input: Height, age')\n",
    "print(f'    Default Settings')\n",
    "print('Internal Parameters:')\n",
    "print(f'   Bias is {lrmodel.intercept_}')\n",
    "print(f'   Coefficients: {lrmodel.coef_}')\n",
    "print(f'   Score {lrmodel.score(X_poly,y)}')\n",
    "\n",
    "print(f'MAE is {mean_absolute_error(y, y_pred)}')\n",
    "print(f'RMSE is {np.sqrt(mean_squared_error(y, y_pred))}')\n",
    "print(f'MSE is {mean_squared_error(y, y_pred)}')\n",
    "print(f'R^2: {r2_score(y, y_pred)}')"
   ]
  },
  {
   "cell_type": "code",
   "execution_count": 10,
   "id": "44bd3062-f54f-4172-84d2-c70f5dd1c134",
   "metadata": {},
   "outputs": [
    {
     "name": "stdout",
     "output_type": "stream",
     "text": [
      "\n",
      "Results for linear regression on test data\n",
      "    Polynomial regression with degree 8\n",
      "MAE is 1.7500184589951\n",
      "RMSE is 8.384902598331532\n",
      "MSE is 70.30659158350689\n",
      "R^2: -468808.57342595316\n"
     ]
    }
   ],
   "source": [
    "y_test_pred = lrmodel.predict(X_poly_test)\n",
    "print()\n",
    "print(f'Results for linear regression on test data')\n",
    "print(f'    Polynomial regression with degree {power}')\n",
    "print(f'MAE is {mean_absolute_error(y_test, y_test_pred)}')\n",
    "print(f'RMSE is {np.sqrt(mean_squared_error(y_test, y_test_pred))}')\n",
    "print(f'MSE is {mean_squared_error(y_test, y_test_pred)}')\n",
    "print(f'R^2: {r2_score(y_test, y_test_pred)}')"
   ]
  },
  {
   "cell_type": "code",
   "execution_count": 11,
   "id": "2194caeb-35d1-4d9a-9d07-93bfe71e2042",
   "metadata": {},
   "outputs": [
    {
     "name": "stdout",
     "output_type": "stream",
     "text": [
      "Results for linear regression on training data\n",
      "Input: Height, age\n",
      "    Default Settings\n",
      "Internal Parameters:\n",
      "   Bias is 8.279253898987445\n",
      "   Coefficients: [ 1.31602836e-12 -1.59422070e-02  9.65780027e-02 -1.05307194e-01\n",
      " -2.70660481e-02 -2.15402061e-02  5.51991354e-02 -3.10913271e-03\n",
      "  7.64895752e-06 -8.85927727e-05  1.04566602e-04  2.45166808e-05\n",
      "  2.48149912e-05 -5.42628467e-05  2.66644168e-06 -4.28822454e-04\n",
      "  2.72396484e-04  3.53799479e-05  1.77231699e-04 -2.12994617e-04\n",
      " -9.89187485e-05 -7.01030415e-05  3.61376278e-05 -9.69020494e-05\n",
      "  3.39420265e-05  5.83195983e-05 -4.11432800e-05 -4.31461504e-05\n",
      "  1.50016347e-04  2.69038306e-05 -2.96360915e-05  4.60874004e-05\n",
      "  2.23064996e-05 -9.82164508e-05 -4.69518280e-05  1.22004365e-06]\n",
      "   Score 0.5292414163239798\n",
      "MAE is 0.005986997988129689\n",
      "RMSE is 0.00805029525423873\n",
      "MSE is 6.480725368041862e-05\n",
      "R^2: 0.5292414163239798\n"
     ]
    }
   ],
   "source": [
    "power = 2\n",
    "poly_process = PolynomialFeatures(degree = power, include_bias=True)\n",
    "\n",
    "train_set, test_set = train_test_split(df, test_size = 0.2, random_state = 123)\n",
    "X = train_set[['stp', 'wind_speed', 'max_sustained_wind', 'max_temp', 'min_temp','temperature', 'dewpoint']]\n",
    "y = train_set['value']\n",
    "\n",
    "X_poly = poly_process.fit_transform(X)\n",
    "\n",
    "X_test = test_set[['stp', 'wind_speed', 'max_sustained_wind', 'max_temp', 'min_temp','temperature', 'dewpoint']]\n",
    "y_test = test_set['value']\n",
    "\n",
    "X_poly_test = poly_process.fit_transform(X_test)\n",
    "\n",
    "lrmodel = LinearRegression()\n",
    "lrmodel.fit(X_poly ,y)\n",
    "\n",
    "y_pred = lrmodel.predict(X_poly)\n",
    "print(f'Results for linear regression on training data')\n",
    "print(f'Input: Height, age')\n",
    "print(f'    Default Settings')\n",
    "print('Internal Parameters:')\n",
    "print(f'   Bias is {lrmodel.intercept_}')\n",
    "print(f'   Coefficients: {lrmodel.coef_}')\n",
    "print(f'   Score {lrmodel.score(X_poly,y)}')\n",
    "\n",
    "print(f'MAE is {mean_absolute_error(y, y_pred)}')\n",
    "print(f'RMSE is {np.sqrt(mean_squared_error(y, y_pred))}')\n",
    "print(f'MSE is {mean_squared_error(y, y_pred)}')\n",
    "print(f'R^2: {r2_score(y, y_pred)}')"
   ]
  },
  {
   "cell_type": "code",
   "execution_count": 12,
   "id": "2c0ac35f-b512-44b0-8261-9cc64e9a1882",
   "metadata": {},
   "outputs": [
    {
     "name": "stdout",
     "output_type": "stream",
     "text": [
      "\n",
      "Results for linear regression on test data\n",
      "    Polynomial regression with degree 2\n",
      "MAE is 0.006445862912366921\n",
      "RMSE is 0.008884584726659674\n",
      "MSE is 7.893584576519435e-05\n",
      "R^2: 0.47364991890918595\n"
     ]
    }
   ],
   "source": [
    "y_test_pred = lrmodel.predict(X_poly_test)\n",
    "print()\n",
    "print(f'Results for linear regression on test data')\n",
    "print(f'    Polynomial regression with degree {power}')\n",
    "print(f'MAE is {mean_absolute_error(y_test, y_test_pred)}')\n",
    "print(f'RMSE is {np.sqrt(mean_squared_error(y_test, y_test_pred))}')\n",
    "print(f'MSE is {mean_squared_error(y_test, y_test_pred)}')\n",
    "print(f'R^2: {r2_score(y_test, y_test_pred)}')"
   ]
  },
  {
   "cell_type": "code",
   "execution_count": 13,
   "id": "36633628-8e65-4320-87d3-023d3b501fc0",
   "metadata": {},
   "outputs": [
    {
     "name": "stdout",
     "output_type": "stream",
     "text": [
      "Results for linear regression on training data\n",
      "Input: Height, age\n",
      "    Default Settings\n",
      "Internal Parameters:\n",
      "   Bias is -1537.5978379885937\n",
      "   Coefficients: [-3.11633207e-05  4.60831347e+00  4.69508396e+00 -9.95504759e+00\n",
      "  1.43238227e+01  1.14897323e+01 -2.15296603e+01 -4.93216788e+00\n",
      " -4.60562374e-03 -6.59090227e-03  1.89991036e-02 -2.78146664e-02\n",
      " -2.29799455e-02  4.20579958e-02  9.94329832e-03 -5.56093774e-02\n",
      " -3.09729827e-02  2.27161066e-02 -2.42876236e-02 -4.98533897e-02\n",
      "  2.15561098e-02  2.93184035e-02 -2.63991233e-02  1.43148647e-02\n",
      "  3.11877509e-02 -6.75949486e-03  2.33531567e-02  2.65286495e-02\n",
      " -9.68763562e-02  2.36944882e-03  1.12902617e-02 -5.43912998e-02\n",
      " -2.42605110e-03  9.37322470e-02 -2.27163517e-03  1.02224291e-03\n",
      "  1.53501405e-06  1.91293209e-06 -9.05242144e-06  1.35001869e-05\n",
      "  1.14900606e-05 -2.05433265e-05 -5.01191232e-06  5.99422625e-05\n",
      "  2.59125280e-05 -2.26308732e-05  2.46733962e-05  4.92053703e-05\n",
      " -2.21120252e-05 -2.86049338e-05  2.59833614e-05 -1.44781182e-05\n",
      " -3.01828735e-05  6.97808794e-06 -2.34571737e-05 -2.71852056e-05\n",
      "  9.72303774e-05 -2.34310872e-06 -1.14242857e-05  5.51721498e-05\n",
      "  2.84892049e-06 -9.38903284e-05  1.95274681e-06 -1.05889109e-06\n",
      " -5.02335193e-05  1.44876265e-04 -5.72361391e-06 -4.41400857e-05\n",
      " -5.48643566e-05  1.91130024e-05 -7.63300795e-05  1.44570078e-05\n",
      "  3.42738881e-05  6.53339505e-05 -1.43133712e-05 -1.11793902e-05\n",
      " -2.73435064e-05  3.66694590e-05  1.14680162e-05  1.83910999e-05\n",
      "  9.62188718e-06 -7.48713697e-06 -2.14960972e-05 -8.51757001e-07\n",
      " -1.70123433e-06  1.76523459e-05  7.12803260e-06 -1.72751430e-05\n",
      " -2.18906050e-05  5.49982112e-06 -7.39239180e-06  1.08261899e-05\n",
      "  1.93510411e-05 -4.96224956e-06  7.22170849e-07 -6.59131860e-06\n",
      " -9.39358359e-06 -1.86998163e-05  7.24564797e-06  2.81397121e-06\n",
      "  1.96408579e-06  4.84902478e-06 -8.26876898e-06 -5.91006398e-06\n",
      "  5.19081888e-06 -6.18443303e-06 -1.51582503e-05  8.81872039e-06\n",
      "  2.38698399e-05  2.49394845e-06 -1.54744665e-05  2.82177724e-05\n",
      "  2.40102941e-06 -2.26379395e-05  1.02221193e-05  5.66755818e-07\n",
      "  2.16877038e-06 -1.53425735e-05 -3.28047463e-06 -8.50091849e-08]\n",
      "   Score 0.6063205497312129\n",
      "MAE is 0.005424694497087431\n",
      "RMSE is 0.0073618007333945855\n",
      "MSE is 5.4196110038209055e-05\n",
      "R^2: 0.6063205497312129\n"
     ]
    }
   ],
   "source": [
    "power = 3\n",
    "poly_process = PolynomialFeatures(degree = power, include_bias=True)\n",
    "\n",
    "train_set, test_set = train_test_split(df, test_size = 0.2, random_state = 123)\n",
    "X = train_set[['stp', 'wind_speed', 'max_sustained_wind', 'max_temp', 'min_temp','temperature', 'dewpoint']]\n",
    "y = train_set['value']\n",
    "\n",
    "X_poly = poly_process.fit_transform(X)\n",
    "\n",
    "X_test = test_set[['stp', 'wind_speed', 'max_sustained_wind', 'max_temp', 'min_temp','temperature', 'dewpoint']]\n",
    "y_test = test_set['value']\n",
    "\n",
    "X_poly_test = poly_process.fit_transform(X_test)\n",
    "\n",
    "lrmodel = LinearRegression()\n",
    "lrmodel.fit(X_poly ,y)\n",
    "\n",
    "y_pred = lrmodel.predict(X_poly)\n",
    "print(f'Results for linear regression on training data')\n",
    "print(f'Input: Height, age')\n",
    "print(f'    Default Settings')\n",
    "print('Internal Parameters:')\n",
    "print(f'   Bias is {lrmodel.intercept_}')\n",
    "print(f'   Coefficients: {lrmodel.coef_}')\n",
    "print(f'   Score {lrmodel.score(X_poly,y)}')\n",
    "\n",
    "print(f'MAE is {mean_absolute_error(y, y_pred)}')\n",
    "print(f'RMSE is {np.sqrt(mean_squared_error(y, y_pred))}')\n",
    "print(f'MSE is {mean_squared_error(y, y_pred)}')\n",
    "print(f'R^2: {r2_score(y, y_pred)}')"
   ]
  },
  {
   "cell_type": "code",
   "execution_count": 14,
   "id": "aa88a3cb-e59f-4b0c-bcb3-6c55116ef62f",
   "metadata": {},
   "outputs": [
    {
     "name": "stdout",
     "output_type": "stream",
     "text": [
      "\n",
      "Results for linear regression on test data\n",
      "    Polynomial regression with degree 3\n",
      "MAE is 0.006890540947847141\n",
      "RMSE is 0.009434882429815746\n",
      "MSE is 8.901700646444586e-05\n",
      "R^2: 0.40642799077118075\n"
     ]
    }
   ],
   "source": [
    "y_test_pred = lrmodel.predict(X_poly_test)\n",
    "print()\n",
    "print(f'Results for linear regression on test data')\n",
    "print(f'    Polynomial regression with degree {power}')\n",
    "print(f'MAE is {mean_absolute_error(y_test, y_test_pred)}')\n",
    "print(f'RMSE is {np.sqrt(mean_squared_error(y_test, y_test_pred))}')\n",
    "print(f'MSE is {mean_squared_error(y_test, y_test_pred)}')\n",
    "print(f'R^2: {r2_score(y_test, y_test_pred)}')"
   ]
  },
  {
   "cell_type": "markdown",
   "id": "f4e2fc31-a5ca-4b59-9eea-4cbcf0748f84",
   "metadata": {},
   "source": [
    "Degree 3 is overfit"
   ]
  },
  {
   "cell_type": "code",
   "execution_count": 15,
   "id": "26097c45-e330-457e-a599-2f0d77f6306d",
   "metadata": {},
   "outputs": [
    {
     "name": "stdout",
     "output_type": "stream",
     "text": [
      "MAE is 0.002224936615112716\n",
      "RMSE is 0.003000061024320119\n",
      "MSE is 9.000366149644682e-06\n",
      "R^2: 0.9346215218119553\n"
     ]
    }
   ],
   "source": [
    "from sklearn.ensemble import RandomForestRegressor\n",
    "rfmodel = RandomForestRegressor(n_estimators=1000, max_features = 'sqrt', max_depth =100,random_state =123)\n",
    "rfmodel.fit(X,y)\n",
    "\n",
    "y_pred = rfmodel.predict(X)\n",
    "print(f'MAE is {mean_absolute_error(y, y_pred)}')\n",
    "print(f'RMSE is {np.sqrt(mean_squared_error(y, y_pred))}')\n",
    "print(f'MSE is {mean_squared_error(y, y_pred)}')\n",
    "print(f'R^2: {r2_score(y, y_pred)}')"
   ]
  },
  {
   "cell_type": "code",
   "execution_count": 16,
   "id": "a32c1844-02dd-43d9-a3e4-23ffe2b9e468",
   "metadata": {},
   "outputs": [
    {
     "name": "stdout",
     "output_type": "stream",
     "text": [
      "\n",
      "Results for random forest regression on test data\n",
      "    Polynomial regression with degree 3\n",
      "MAE is 0.006176339060595092\n",
      "RMSE is 0.008766595902347633\n",
      "MSE is 7.68532037150583e-05\n",
      "R^2: 0.4875371307499642\n"
     ]
    }
   ],
   "source": [
    "y_test_pred = rfmodel.predict(X_test)\n",
    "print()\n",
    "print(f'Results for random forest regression on test data')\n",
    "print(f'    Polynomial regression with degree {power}')\n",
    "print(f'MAE is {mean_absolute_error(y_test, y_test_pred)}')\n",
    "print(f'RMSE is {np.sqrt(mean_squared_error(y_test, y_test_pred))}')\n",
    "print(f'MSE is {mean_squared_error(y_test, y_test_pred)}')\n",
    "print(f'R^2: {r2_score(y_test, y_test_pred)}')"
   ]
  },
  {
   "cell_type": "code",
   "execution_count": 17,
   "id": "ae0b447d-74f8-4605-b0fe-6a6bdf2ec19c",
   "metadata": {
    "tags": []
   },
   "outputs": [
    {
     "name": "stdout",
     "output_type": "stream",
     "text": [
      "MAE is 0.002264266917547745\n",
      "RMSE is 0.0030790088082330133\n",
      "MSE is 9.48029524117648e-06\n",
      "R^2: 0.9311353265704697\n"
     ]
    }
   ],
   "source": [
    "rfmodel = RandomForestRegressor(n_estimators=100, max_features = 'sqrt', max_depth =100,random_state =123)\n",
    "rfmodel.fit(X,y)\n",
    "\n",
    "y_pred = rfmodel.predict(X)\n",
    "print(f'MAE is {mean_absolute_error(y, y_pred)}')\n",
    "print(f'RMSE is {np.sqrt(mean_squared_error(y, y_pred))}')\n",
    "print(f'MSE is {mean_squared_error(y, y_pred)}')\n",
    "print(f'R^2: {r2_score(y, y_pred)}')"
   ]
  },
  {
   "cell_type": "code",
   "execution_count": 18,
   "id": "dd49c003-a52d-406e-8545-f49f42e278de",
   "metadata": {
    "tags": []
   },
   "outputs": [
    {
     "name": "stdout",
     "output_type": "stream",
     "text": [
      "\n",
      "Results for random forest regression on test data\n",
      "    Polynomial regression with degree 3\n",
      "MAE is 0.006192921445541536\n",
      "RMSE is 0.008806633637455421\n",
      "MSE is 7.755679602436131e-05\n",
      "R^2: 0.48284552498497213\n"
     ]
    }
   ],
   "source": [
    "y_test_pred = rfmodel.predict(X_test)\n",
    "print()\n",
    "print(f'Results for random forest regression on test data')\n",
    "print(f'    Polynomial regression with degree {power}')\n",
    "print(f'MAE is {mean_absolute_error(y_test, y_test_pred)}')\n",
    "print(f'RMSE is {np.sqrt(mean_squared_error(y_test, y_test_pred))}')\n",
    "print(f'MSE is {mean_squared_error(y_test, y_test_pred)}')\n",
    "print(f'R^2: {r2_score(y_test, y_test_pred)}')"
   ]
  },
  {
   "cell_type": "code",
   "execution_count": 19,
   "id": "b5317b09-6e67-419a-923e-c6abfce5a5a1",
   "metadata": {
    "tags": []
   },
   "outputs": [
    {
     "name": "stdout",
     "output_type": "stream",
     "text": [
      "MAE is 0.002264266917547745\n",
      "RMSE is 0.0030790088082330133\n",
      "MSE is 9.48029524117648e-06\n",
      "R^2: 0.9311353265704697\n"
     ]
    }
   ],
   "source": [
    "rfmodel = RandomForestRegressor(n_estimators=100, max_features = 'sqrt', max_depth =50,random_state =123)\n",
    "rfmodel.fit(X,y)\n",
    "\n",
    "y_pred = rfmodel.predict(X)\n",
    "print(f'MAE is {mean_absolute_error(y, y_pred)}')\n",
    "print(f'RMSE is {np.sqrt(mean_squared_error(y, y_pred))}')\n",
    "print(f'MSE is {mean_squared_error(y, y_pred)}')\n",
    "print(f'R^2: {r2_score(y, y_pred)}')"
   ]
  },
  {
   "cell_type": "code",
   "execution_count": 20,
   "id": "f65c6c78-898a-4a3c-9673-0b35ff242dfb",
   "metadata": {
    "tags": []
   },
   "outputs": [
    {
     "name": "stdout",
     "output_type": "stream",
     "text": [
      "\n",
      "Results for random forest regression on test data\n",
      "    Polynomial regression with degree 3\n",
      "MAE is 0.006192921445541536\n",
      "RMSE is 0.008806633637455421\n",
      "MSE is 7.755679602436131e-05\n",
      "R^2: 0.48284552498497213\n"
     ]
    }
   ],
   "source": [
    "y_test_pred = rfmodel.predict(X_test)\n",
    "print()\n",
    "print(f'Results for random forest regression on test data')\n",
    "print(f'    Polynomial regression with degree {power}')\n",
    "print(f'MAE is {mean_absolute_error(y_test, y_test_pred)}')\n",
    "print(f'RMSE is {np.sqrt(mean_squared_error(y_test, y_test_pred))}')\n",
    "print(f'MSE is {mean_squared_error(y_test, y_test_pred)}')\n",
    "print(f'R^2: {r2_score(y_test, y_test_pred)}')"
   ]
  },
  {
   "cell_type": "code",
   "execution_count": 21,
   "id": "be881f56-4257-4cb9-84df-70e331e72917",
   "metadata": {
    "tags": []
   },
   "outputs": [
    {
     "name": "stdout",
     "output_type": "stream",
     "text": [
      "MAE is 0.0025036107163972643\n",
      "RMSE is 0.003346977306593721\n",
      "MSE is 1.1202257090853359e-05\n",
      "R^2: 0.9186270304236303\n"
     ]
    }
   ],
   "source": [
    "rfmodel = RandomForestRegressor(n_estimators=100, max_features = 'sqrt', max_depth =15,random_state =123)\n",
    "rfmodel.fit(X,y)\n",
    "\n",
    "y_pred = rfmodel.predict(X)\n",
    "print(f'MAE is {mean_absolute_error(y, y_pred)}')\n",
    "print(f'RMSE is {np.sqrt(mean_squared_error(y, y_pred))}')\n",
    "print(f'MSE is {mean_squared_error(y, y_pred)}')\n",
    "print(f'R^2: {r2_score(y, y_pred)}')"
   ]
  },
  {
   "cell_type": "code",
   "execution_count": 22,
   "id": "27e1bf9a-5c28-438c-b2af-56c00bf49513",
   "metadata": {
    "tags": []
   },
   "outputs": [
    {
     "name": "stdout",
     "output_type": "stream",
     "text": [
      "\n",
      "Results for random forest regression on test data\n",
      "    Polynomial regression with degree 3\n",
      "MAE is 0.006123570360884102\n",
      "RMSE is 0.008695037790951965\n",
      "MSE is 7.560368218608282e-05\n",
      "R^2: 0.49586903309072505\n"
     ]
    }
   ],
   "source": [
    "y_test_pred = rfmodel.predict(X_test)\n",
    "print()\n",
    "print(f'Results for random forest regression on test data')\n",
    "print(f'    Polynomial regression with degree {power}')\n",
    "print(f'MAE is {mean_absolute_error(y_test, y_test_pred)}')\n",
    "print(f'RMSE is {np.sqrt(mean_squared_error(y_test, y_test_pred))}')\n",
    "print(f'MSE is {mean_squared_error(y_test, y_test_pred)}')\n",
    "print(f'R^2: {r2_score(y_test, y_test_pred)}')"
   ]
  },
  {
   "cell_type": "code",
   "execution_count": 23,
   "id": "83658a74-98f4-40d9-a994-6a56d271cbd8",
   "metadata": {
    "tags": []
   },
   "outputs": [
    {
     "name": "stdout",
     "output_type": "stream",
     "text": [
      "MAE is 0.0034786996890069717\n",
      "RMSE is 0.004587066980801252\n",
      "MSE is 2.104118348635711e-05\n",
      "R^2: 0.8471572675220829\n"
     ]
    }
   ],
   "source": [
    "rfmodel = RandomForestRegressor(n_estimators=100, max_features = 'sqrt', max_depth =10,random_state =123)\n",
    "rfmodel.fit(X,y)\n",
    "\n",
    "y_pred = rfmodel.predict(X)\n",
    "print(f'MAE is {mean_absolute_error(y, y_pred)}')\n",
    "print(f'RMSE is {np.sqrt(mean_squared_error(y, y_pred))}')\n",
    "print(f'MSE is {mean_squared_error(y, y_pred)}')\n",
    "print(f'R^2: {r2_score(y, y_pred)}')"
   ]
  },
  {
   "cell_type": "code",
   "execution_count": 24,
   "id": "af62cf8a-ec56-4e8f-b5a7-e3dee159c42f",
   "metadata": {
    "tags": []
   },
   "outputs": [
    {
     "name": "stdout",
     "output_type": "stream",
     "text": [
      "\n",
      "Results for random forest regression on test data\n",
      "    Polynomial regression with degree 3\n",
      "MAE is 0.006219390282002631\n",
      "RMSE is 0.008695311010704677\n",
      "MSE is 7.5608433572882e-05\n",
      "R^2: 0.4958373504907251\n"
     ]
    }
   ],
   "source": [
    "y_test_pred = rfmodel.predict(X_test)\n",
    "print()\n",
    "print(f'Results for random forest regression on test data')\n",
    "print(f'    Polynomial regression with degree {power}')\n",
    "print(f'MAE is {mean_absolute_error(y_test, y_test_pred)}')\n",
    "print(f'RMSE is {np.sqrt(mean_squared_error(y_test, y_test_pred))}')\n",
    "print(f'MSE is {mean_squared_error(y_test, y_test_pred)}')\n",
    "print(f'R^2: {r2_score(y_test, y_test_pred)}')"
   ]
  },
  {
   "cell_type": "code",
   "execution_count": 25,
   "id": "69f14ba7-28c6-4706-8227-2e137a0433aa",
   "metadata": {
    "tags": []
   },
   "outputs": [
    {
     "name": "stdout",
     "output_type": "stream",
     "text": [
      "MAE is 0.005394574729607386\n",
      "RMSE is 0.007193499169853617\n",
      "MSE is 5.174643030668468e-05\n",
      "R^2: 0.624114973894888\n"
     ]
    }
   ],
   "source": [
    "rfmodel = RandomForestRegressor(n_estimators=100, max_features = 'sqrt', max_depth =5,random_state =123)\n",
    "rfmodel.fit(X,y)\n",
    "\n",
    "y_pred = rfmodel.predict(X)\n",
    "print(f'MAE is {mean_absolute_error(y, y_pred)}')\n",
    "print(f'RMSE is {np.sqrt(mean_squared_error(y, y_pred))}')\n",
    "print(f'MSE is {mean_squared_error(y, y_pred)}')\n",
    "print(f'R^2: {r2_score(y, y_pred)}')"
   ]
  },
  {
   "cell_type": "code",
   "execution_count": 26,
   "id": "d3709b74-ef7a-4806-804f-cf9b97b461e7",
   "metadata": {
    "tags": []
   },
   "outputs": [
    {
     "name": "stdout",
     "output_type": "stream",
     "text": [
      "\n",
      "Results for random forest regression on test data\n",
      "    Polynomial regression with degree 3\n",
      "MAE is 0.0061860401329385615\n",
      "RMSE is 0.008674271502926942\n",
      "MSE is 7.524298610649045e-05\n",
      "R^2: 0.49827418133360735\n"
     ]
    }
   ],
   "source": [
    "y_test_pred = rfmodel.predict(X_test)\n",
    "print()\n",
    "print(f'Results for random forest regression on test data')\n",
    "print(f'    Polynomial regression with degree {power}')\n",
    "print(f'MAE is {mean_absolute_error(y_test, y_test_pred)}')\n",
    "print(f'RMSE is {np.sqrt(mean_squared_error(y_test, y_test_pred))}')\n",
    "print(f'MSE is {mean_squared_error(y_test, y_test_pred)}')\n",
    "print(f'R^2: {r2_score(y_test, y_test_pred)}')"
   ]
  },
  {
   "cell_type": "code",
   "execution_count": 27,
   "id": "44acf50c-2d4a-46f2-a28d-fbd6ff51e328",
   "metadata": {
    "tags": []
   },
   "outputs": [
    {
     "name": "stdout",
     "output_type": "stream",
     "text": [
      "MAE is 0.006096161166400397\n",
      "RMSE is 0.00814075268095928\n",
      "MSE is 6.627185421254569e-05\n",
      "R^2: 0.5186025875972566\n"
     ]
    }
   ],
   "source": [
    "rfmodel = RandomForestRegressor(n_estimators=100, max_features = 'sqrt', max_depth =3,random_state =123)\n",
    "rfmodel.fit(X,y)\n",
    "\n",
    "y_pred = rfmodel.predict(X)\n",
    "print(f'MAE is {mean_absolute_error(y, y_pred)}')\n",
    "print(f'RMSE is {np.sqrt(mean_squared_error(y, y_pred))}')\n",
    "print(f'MSE is {mean_squared_error(y, y_pred)}')\n",
    "print(f'R^2: {r2_score(y, y_pred)}')"
   ]
  },
  {
   "cell_type": "code",
   "execution_count": 28,
   "id": "597036a2-de66-45c5-a8d5-7aaf3949d7aa",
   "metadata": {
    "tags": []
   },
   "outputs": [
    {
     "name": "stdout",
     "output_type": "stream",
     "text": [
      "\n",
      "Results for random forest regression on test data\n",
      "    Polynomial regression with degree 3\n",
      "MAE is 0.006246063929193036\n",
      "RMSE is 0.00883092358465195\n",
      "MSE is 7.798521135796202e-05\n",
      "R^2: 0.47998881972774265\n"
     ]
    }
   ],
   "source": [
    "y_test_pred = rfmodel.predict(X_test)\n",
    "print()\n",
    "print(f'Results for random forest regression on test data')\n",
    "print(f'    Polynomial regression with degree {power}')\n",
    "print(f'MAE is {mean_absolute_error(y_test, y_test_pred)}')\n",
    "print(f'RMSE is {np.sqrt(mean_squared_error(y_test, y_test_pred))}')\n",
    "print(f'MSE is {mean_squared_error(y_test, y_test_pred)}')\n",
    "print(f'R^2: {r2_score(y_test, y_test_pred)}')"
   ]
  },
  {
   "cell_type": "code",
   "execution_count": 29,
   "id": "bb72b437-eff6-4d5c-bbed-76ab407d96ce",
   "metadata": {
    "tags": []
   },
   "outputs": [
    {
     "name": "stdout",
     "output_type": "stream",
     "text": [
      "MAE is 0.0060665317907326495\n",
      "RMSE is 0.008099332184213047\n",
      "MSE is 6.559918183022929e-05\n",
      "R^2: 0.5234888662156779\n"
     ]
    }
   ],
   "source": [
    "rfmodel = RandomForestRegressor(n_estimators=1000, max_features = 'sqrt', max_depth =3,random_state =123)\n",
    "rfmodel.fit(X,y)\n",
    "\n",
    "y_pred = rfmodel.predict(X)\n",
    "print(f'MAE is {mean_absolute_error(y, y_pred)}')\n",
    "print(f'RMSE is {np.sqrt(mean_squared_error(y, y_pred))}')\n",
    "print(f'MSE is {mean_squared_error(y, y_pred)}')\n",
    "print(f'R^2: {r2_score(y, y_pred)}')"
   ]
  },
  {
   "cell_type": "code",
   "execution_count": 30,
   "id": "dc03c470-6078-4237-a91a-e458862fce84",
   "metadata": {
    "tags": []
   },
   "outputs": [
    {
     "name": "stdout",
     "output_type": "stream",
     "text": [
      "\n",
      "Results for random forest regression on test data\n",
      "    Polynomial regression with degree 3\n",
      "MAE is 0.006236297337698707\n",
      "RMSE is 0.008818417232441322\n",
      "MSE is 7.776448248541807e-05\n",
      "R^2: 0.48146065624049994\n"
     ]
    }
   ],
   "source": [
    "y_test_pred = rfmodel.predict(X_test)\n",
    "print()\n",
    "print(f'Results for random forest regression on test data')\n",
    "print(f'    Polynomial regression with degree {power}')\n",
    "print(f'MAE is {mean_absolute_error(y_test, y_test_pred)}')\n",
    "print(f'RMSE is {np.sqrt(mean_squared_error(y_test, y_test_pred))}')\n",
    "print(f'MSE is {mean_squared_error(y_test, y_test_pred)}')\n",
    "print(f'R^2: {r2_score(y_test, y_test_pred)}')"
   ]
  },
  {
   "cell_type": "code",
   "execution_count": 31,
   "id": "e1396ea6-fa24-412d-a7a3-6b6ad21cfbea",
   "metadata": {
    "tags": []
   },
   "outputs": [
    {
     "name": "stdout",
     "output_type": "stream",
     "text": [
      "MAE is 0.006049384361552097\n",
      "RMSE is 0.008085472359325795\n",
      "MSE is 6.537486327342143e-05\n",
      "R^2: 0.5251183116881841\n"
     ]
    }
   ],
   "source": [
    "rfmodel = RandomForestRegressor(n_estimators=100000, max_features = 'sqrt', max_depth =3,random_state =123)\n",
    "rfmodel.fit(X,y)\n",
    "\n",
    "y_pred = rfmodel.predict(X)\n",
    "print(f'MAE is {mean_absolute_error(y, y_pred)}')\n",
    "print(f'RMSE is {np.sqrt(mean_squared_error(y, y_pred))}')\n",
    "print(f'MSE is {mean_squared_error(y, y_pred)}')\n",
    "print(f'R^2: {r2_score(y, y_pred)}')"
   ]
  },
  {
   "cell_type": "code",
   "execution_count": 32,
   "id": "e9a02d87-f18b-4c51-b18e-2aa911735d34",
   "metadata": {
    "tags": []
   },
   "outputs": [
    {
     "name": "stdout",
     "output_type": "stream",
     "text": [
      "MAE is 0.008900019705919597\n",
      "RMSE is 0.012082576088924506\n",
      "MSE is 0.00014598864494465023\n",
      "R^2: -0.060458572520720066\n"
     ]
    }
   ],
   "source": [
    "from sklearn.neural_network import MLPRegressor\n",
    "from sklearn.preprocessing import StandardScaler\n",
    "\n",
    "mlpmodel = MLPRegressor(hidden_layer_sizes=(100,400,100), activation='tanh', random_state =123, max_iter=2000)\n",
    "sc_X = StandardScaler()\n",
    "X_trainscaled=sc_X.fit_transform(X)\n",
    "X_testscaled=sc_X.transform(X_test)\n",
    "mlpmodel.fit(X_trainscaled,y)\n",
    "y_pred = mlpmodel.predict(X_trainscaled)\n",
    "print(f'MAE is {mean_absolute_error(y, y_pred)}')\n",
    "print(f'RMSE is {np.sqrt(mean_squared_error(y, y_pred))}')\n",
    "print(f'MSE is {mean_squared_error(y, y_pred)}')\n",
    "print(f'R^2: {r2_score(y, y_pred)}')"
   ]
  },
  {
   "cell_type": "code",
   "execution_count": 33,
   "id": "be3e1d8e-d2d1-4c08-9c08-f7b1152b8683",
   "metadata": {},
   "outputs": [
    {
     "name": "stdout",
     "output_type": "stream",
     "text": [
      "\n",
      "Results for linear regression on test data\n",
      "MAE is 0.009196802676359564\n",
      "RMSE is 0.012175513358541097\n",
      "MSE is 0.00014824312554401268\n",
      "R^2: 0.011503830802658599\n"
     ]
    }
   ],
   "source": [
    "y_test_pred = mlpmodel.predict(X_testscaled)\n",
    "print()\n",
    "print(f'Results for linear regression on test data')\n",
    "print(f'MAE is {mean_absolute_error(y_test, y_test_pred)}')\n",
    "print(f'RMSE is {np.sqrt(mean_squared_error(y_test, y_test_pred))}')\n",
    "print(f'MSE is {mean_squared_error(y_test, y_test_pred)}')\n",
    "print(f'R^2: {r2_score(y_test, y_test_pred)}')"
   ]
  },
  {
   "cell_type": "code",
   "execution_count": 34,
   "id": "2122d97b-e28b-4709-aaa6-85a587f106f5",
   "metadata": {},
   "outputs": [
    {
     "name": "stdout",
     "output_type": "stream",
     "text": [
      "MAE is 0.020642612512759586\n",
      "RMSE is 0.026736781780683182\n",
      "MSE is 0.0007148554999878721\n",
      "R^2: -4.1926959344210575\n"
     ]
    }
   ],
   "source": [
    "from sklearn.neural_network import MLPRegressor\n",
    "from sklearn.preprocessing import StandardScaler\n",
    "\n",
    "mlpmodel = MLPRegressor(hidden_layer_sizes=(25,50,25), activation='tanh', random_state =123, max_iter=2000)\n",
    "sc_X = StandardScaler()\n",
    "X_trainscaled=sc_X.fit_transform(X)\n",
    "X_testscaled=sc_X.transform(X_test)\n",
    "mlpmodel.fit(X_trainscaled,y)\n",
    "y_pred = mlpmodel.predict(X_trainscaled)\n",
    "print(f'MAE is {mean_absolute_error(y, y_pred)}')\n",
    "print(f'RMSE is {np.sqrt(mean_squared_error(y, y_pred))}')\n",
    "print(f'MSE is {mean_squared_error(y, y_pred)}')\n",
    "print(f'R^2: {r2_score(y, y_pred)}')"
   ]
  },
  {
   "cell_type": "code",
   "execution_count": 35,
   "id": "479b7d4c-8796-4d61-8ae6-3656806d8324",
   "metadata": {},
   "outputs": [
    {
     "name": "stdout",
     "output_type": "stream",
     "text": [
      "\n",
      "Results for MLP Regression on test data\n",
      "MAE is 0.020703463248651202\n",
      "RMSE is 0.027836104386024636\n",
      "MSE is 0.00077484870738966\n",
      "R^2: -4.166748718710657\n"
     ]
    }
   ],
   "source": [
    "y_test_pred = mlpmodel.predict(X_testscaled)\n",
    "print()\n",
    "print(f'Results for MLP Regression on test data')\n",
    "print(f'MAE is {mean_absolute_error(y_test, y_test_pred)}')\n",
    "print(f'RMSE is {np.sqrt(mean_squared_error(y_test, y_test_pred))}')\n",
    "print(f'MSE is {mean_squared_error(y_test, y_test_pred)}')\n",
    "print(f'R^2: {r2_score(y_test, y_test_pred)}')"
   ]
  },
  {
   "cell_type": "code",
   "execution_count": 36,
   "id": "ad4f6d33-6ec5-4451-ace9-272f461f3174",
   "metadata": {},
   "outputs": [
    {
     "name": "stdout",
     "output_type": "stream",
     "text": [
      "Results for linear regression on training data\n",
      "Input: Height, age\n",
      "    Default Settings\n",
      "Internal Parameters:\n",
      "   Bias is 0.4230642781356687\n",
      "   Coefficients: [-0.00043557  0.00243388  0.00025176  0.00016548]\n",
      "   Score 0.41983889473251734\n",
      "MAE is 0.006783347557548184\n",
      "RMSE is 0.008936901885977625\n",
      "MSE is 7.986821531959042e-05\n",
      "R^2: 0.41983889473251734\n"
     ]
    }
   ],
   "source": [
    "X = train_set[['stp', 'wind_speed', 'max_temp' , 'dewpoint']]\n",
    "y = train_set['value']\n",
    "\n",
    "X_test = test_set[['stp', 'wind_speed', 'max_temp' , 'dewpoint']]\n",
    "y_test = test_set['value']\n",
    "\n",
    "lrmodel = LinearRegression()\n",
    "lrmodel.fit(X,y)\n",
    "\n",
    "y_pred = lrmodel.predict(X)\n",
    "print(f'Results for linear regression on training data')\n",
    "print(f'Input: Height, age')\n",
    "print(f'    Default Settings')\n",
    "print('Internal Parameters:')\n",
    "print(f'   Bias is {lrmodel.intercept_}')\n",
    "print(f'   Coefficients: {lrmodel.coef_}')\n",
    "print(f'   Score {lrmodel.score(X,y)}')\n",
    "\n",
    "print(f'MAE is {mean_absolute_error(y, y_pred)}')\n",
    "print(f'RMSE is {np.sqrt(mean_squared_error(y, y_pred))}')\n",
    "print(f'MSE is {mean_squared_error(y, y_pred)}')\n",
    "print(f'R^2: {r2_score(y, y_pred)}')"
   ]
  },
  {
   "cell_type": "code",
   "execution_count": 18,
   "id": "c44ae5b5-a2b6-4e47-ac78-807484af112d",
   "metadata": {},
   "outputs": [
    {
     "name": "stdout",
     "output_type": "stream",
     "text": [
      "Results for linear regression on training data\n",
      "    Default Settings\n",
      "Internal Parameters:\n",
      "   Bias is 0.01597390578401982\n",
      "   Coefficients: [0.00297721]\n",
      "   Score 0.07289062006617142\n",
      "MAE is 0.01643771730785943\n",
      "RMSE is 0.020071659110308695\n",
      "MSE is 0.00040287149944043797\n",
      "R^2: 0.07289062006617142\n"
     ]
    }
   ],
   "source": [
    "X = train_set[['wind_speed']]\n",
    "y = train_set['value']\n",
    "\n",
    "X_test = test_set[['wind_speed']]\n",
    "y_test = test_set['value']\n",
    "\n",
    "lrmodel = LinearRegression()\n",
    "lrmodel.fit(X,y)\n",
    "\n",
    "y_pred = lrmodel.predict(X)\n",
    "print(f'Results for linear regression on training data')\n",
    "print(f'    Default Settings')\n",
    "print('Internal Parameters:')\n",
    "print(f'   Bias is {lrmodel.intercept_}')\n",
    "print(f'   Coefficients: {lrmodel.coef_}')\n",
    "print(f'   Score {lrmodel.score(X,y)}')\n",
    "\n",
    "print(f'MAE is {mean_absolute_error(y, y_pred)}')\n",
    "print(f'RMSE is {np.sqrt(mean_squared_error(y, y_pred))}')\n",
    "print(f'MSE is {mean_squared_error(y, y_pred)}')\n",
    "print(f'R^2: {r2_score(y, y_pred)}')"
   ]
  },
  {
   "cell_type": "code",
   "execution_count": 19,
   "id": "8d1c3a7e-75b7-4bb5-8917-6e6d52a9fbb9",
   "metadata": {},
   "outputs": [
    {
     "name": "stdout",
     "output_type": "stream",
     "text": [
      "Results for linear regression on training data\n",
      "Internal Parameters:\n",
      "   Bias is 0.018979687670944143\n",
      "   Coefficients: [0.00100935]\n",
      "   Score 0.024451460468110642\n",
      "MAE is 0.016810798664489708\n",
      "RMSE is 0.02058933057287962\n",
      "MSE is 0.0004239205334393155\n",
      "R^2: 0.024451460468110642\n"
     ]
    }
   ],
   "source": [
    "X = train_set[['max_sustained_wind']]\n",
    "y = train_set['value']\n",
    "\n",
    "X_test = test_set[['max_sustained_wind']]\n",
    "y_test = test_set['value']\n",
    "\n",
    "lrmodel = LinearRegression()\n",
    "lrmodel.fit(X,y)\n",
    "\n",
    "y_pred = lrmodel.predict(X)\n",
    "print(f'Results for linear regression on training data')\n",
    "print('Internal Parameters:')\n",
    "print(f'   Bias is {lrmodel.intercept_}')\n",
    "print(f'   Coefficients: {lrmodel.coef_}')\n",
    "print(f'   Score {lrmodel.score(X,y)}')\n",
    "\n",
    "print(f'MAE is {mean_absolute_error(y, y_pred)}')\n",
    "print(f'RMSE is {np.sqrt(mean_squared_error(y, y_pred))}')\n",
    "print(f'MSE is {mean_squared_error(y, y_pred)}')\n",
    "print(f'R^2: {r2_score(y, y_pred)}')"
   ]
  },
  {
   "cell_type": "code",
   "execution_count": 38,
   "id": "745c32ca-da76-44ea-9867-6e1da0f199b0",
   "metadata": {},
   "outputs": [
    {
     "name": "stdout",
     "output_type": "stream",
     "text": [
      "Results for linear regression on training data\n",
      "Input: Height, age\n",
      "    Default Settings\n",
      "Internal Parameters:\n",
      "   Bias is -2186.8630810576806\n",
      "   Coefficients: [ 7.84313153e-04  6.65381693e+00 -6.24835306e+03  1.01258570e+01\n",
      " -1.04590959e+01  1.72138863e+01  8.62048529e+00 -2.46142847e+01\n",
      " -3.79944008e+00 -6.74726589e-03  1.15488481e+01 -1.71536760e-02\n",
      "  1.98409890e-02 -3.34847950e-02 -1.69747741e-02  4.78678325e-02\n",
      "  7.59371637e-03  1.23892042e+02 -3.36572666e+01  1.83845852e+01\n",
      " -1.72761441e+01 -1.47218563e+01  7.62994219e+01 -3.07877506e+01\n",
      "  6.23319988e-02 -1.42253991e-01  5.44391245e-02 -3.36939331e-02\n",
      " -8.43738186e-02  1.93407473e-02  5.43820898e-02 -3.50801018e-02\n",
      "  1.83485700e-02  3.97143512e-02 -6.14179929e-03  1.98876933e-02\n",
      "  7.69341475e-03 -7.88877291e-02  7.09358488e-03  2.28064139e-03\n",
      " -2.15995367e-02  1.37128319e-03  7.48771100e-02 -9.76325664e-03\n",
      "  5.24917471e-04  2.28046792e-06 -5.30534903e-03  7.04895004e-06\n",
      " -9.39795109e-06  1.62790909e-05  8.35733681e-06 -2.32710581e-05\n",
      " -3.79564176e-06 -1.16668277e-01  3.20308863e-02 -1.75863047e-02\n",
      "  1.76720905e-02  1.45487795e-02 -7.65342346e-02  3.10738090e-02\n",
      " -5.86470562e-05  1.37854750e-04 -5.37519734e-05  3.41257748e-05\n",
      "  8.27592839e-05 -1.98669689e-05 -5.39515666e-05  3.42101259e-05\n",
      " -1.86452505e-05 -3.76922728e-05  6.29495026e-06 -2.01348634e-05\n",
      " -8.68340481e-06  7.99740847e-05 -7.15387434e-06 -2.46452191e-06\n",
      "  2.27672588e-05 -9.83239062e-07 -7.56734000e-05  9.59436093e-06\n",
      " -5.42692874e-07  9.83564520e-01  2.26496894e-01 -7.51925197e-02\n",
      " -1.14841290e-01 -3.71957901e-01  3.16946376e-01 -3.22283272e-02\n",
      "  1.65444533e-03  1.19763864e-02  4.37123256e-03 -6.66090185e-02\n",
      "  6.17190815e-02  3.12559538e-02 -9.32695450e-03  1.14291916e-02\n",
      "  4.27622904e-02 -6.09779319e-02 -6.94555509e-03  1.00156062e-02\n",
      "  3.00322477e-02 -5.17550232e-02 -5.16642856e-03  8.18732598e-03\n",
      " -7.98059765e-02  4.28692805e-02  7.09736605e-02 -1.91164500e-02\n",
      " -8.33727790e-03 -1.91330422e-04  2.97946844e-04 -7.75719733e-05\n",
      " -4.45312475e-05  4.21374269e-05 -9.36082946e-07 -1.29128609e-04\n",
      "  7.34374632e-05  4.61904810e-05 -2.18079661e-05 -1.45288765e-06\n",
      " -2.87744605e-05  6.38540205e-06  4.30208348e-05  3.90374803e-06\n",
      "  4.41885073e-05 -6.97143280e-05 -1.42224032e-05  1.26528116e-05\n",
      "  1.37264804e-05 -1.39710373e-06  2.20610951e-05 -2.07186469e-06\n",
      " -2.06528165e-05 -3.71670158e-06  2.09003486e-06  2.13502453e-06\n",
      "  1.37837632e-06  8.38820255e-06 -2.58098945e-06 -1.26111564e-05\n",
      "  2.39684450e-05 -3.66574716e-06 -3.03773098e-05  2.57348358e-06\n",
      "  1.63713277e-06  5.37557109e-06  1.49424077e-05 -2.74373567e-05\n",
      " -5.57363733e-06  5.87217267e-06 -2.68250800e-05 -1.21952640e-05\n",
      "  3.55368626e-05  2.30951646e-05  8.79116886e-07 -1.74244204e-05\n",
      "  3.31639954e-05  4.46699560e-06 -1.67382220e-05  3.06389243e-06\n",
      "  2.34788937e-07 -7.08768192e-06 -1.37951546e-05 -1.13258696e-06\n",
      " -2.69577054e-08]\n",
      "   Score 0.6273205405276718\n",
      "MAE is 0.0051540637692147765\n",
      "RMSE is 0.007162760230209076\n",
      "MSE is 5.130513411546478e-05\n",
      "R^2: 0.6273205405276718\n"
     ]
    }
   ],
   "source": [
    "X = train_set[['stp', 'precipitation' ,'wind_speed', 'max_sustained_wind', 'max_temp', 'min_temp','temperature', 'dewpoint']]\n",
    "y = train_set['value']\n",
    "\n",
    "X_poly = poly_process.fit_transform(X)\n",
    "\n",
    "X_test = test_set[['stp', 'precipitation', 'wind_speed', 'max_sustained_wind', 'max_temp', 'min_temp','temperature', 'dewpoint']]\n",
    "y_test = test_set['value']\n",
    "\n",
    "X_poly_test = poly_process.fit_transform(X_test)\n",
    "\n",
    "lrmodel = LinearRegression()\n",
    "lrmodel.fit(X_poly ,y)\n",
    "\n",
    "y_pred = lrmodel.predict(X_poly)\n",
    "print(f'Results for linear regression on training data')\n",
    "print(f'Input: Height, age')\n",
    "print(f'    Default Settings')\n",
    "print('Internal Parameters:')\n",
    "print(f'   Bias is {lrmodel.intercept_}')\n",
    "print(f'   Coefficients: {lrmodel.coef_}')\n",
    "print(f'   Score {lrmodel.score(X_poly,y)}')\n",
    "\n",
    "print(f'MAE is {mean_absolute_error(y, y_pred)}')\n",
    "print(f'RMSE is {np.sqrt(mean_squared_error(y, y_pred))}')\n",
    "print(f'MSE is {mean_squared_error(y, y_pred)}')\n",
    "print(f'R^2: {r2_score(y, y_pred)}')"
   ]
  },
  {
   "cell_type": "code",
   "execution_count": 39,
   "id": "e0550f91-f220-4c6d-8084-db22d7134438",
   "metadata": {},
   "outputs": [
    {
     "name": "stdout",
     "output_type": "stream",
     "text": [
      "\n",
      "Results for linear regression on test data\n",
      "    Polynomial regression with degree 3\n",
      "MAE is 0.09284859573022523\n",
      "RMSE is 0.6870589582575579\n",
      "MSE is 0.47205001212196074\n",
      "R^2: -3146.664533783589\n"
     ]
    }
   ],
   "source": [
    "y_test_pred = lrmodel.predict(X_poly_test)\n",
    "print()\n",
    "print(f'Results for linear regression on test data')\n",
    "print(f'    Polynomial regression with degree {power}')\n",
    "print(f'MAE is {mean_absolute_error(y_test, y_test_pred)}')\n",
    "print(f'RMSE is {np.sqrt(mean_squared_error(y_test, y_test_pred))}')\n",
    "print(f'MSE is {mean_squared_error(y_test, y_test_pred)}')\n",
    "print(f'R^2: {r2_score(y_test, y_test_pred)}')"
   ]
  },
  {
   "cell_type": "code",
   "execution_count": null,
   "id": "53db8e29-2796-4c04-a1e4-f3714fe7c377",
   "metadata": {},
   "outputs": [],
   "source": []
  }
 ],
 "metadata": {
  "kernelspec": {
   "display_name": "Python 3 (ipykernel)",
   "language": "python",
   "name": "python3"
  },
  "language_info": {
   "codemirror_mode": {
    "name": "ipython",
    "version": 3
   },
   "file_extension": ".py",
   "mimetype": "text/x-python",
   "name": "python",
   "nbconvert_exporter": "python",
   "pygments_lexer": "ipython3",
   "version": "3.9.13"
  }
 },
 "nbformat": 4,
 "nbformat_minor": 5
}
