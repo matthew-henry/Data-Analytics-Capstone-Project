{
 "cells": [
  {
   "cell_type": "code",
   "execution_count": null,
   "id": "97ee12b1-0113-423d-b288-72bad0e05105",
   "metadata": {},
   "outputs": [],
   "source": []
  },
  {
   "cell_type": "code",
   "execution_count": 1,
   "id": "b92cbbea-499e-40f0-ba4f-4f2c4be3cd4e",
   "metadata": {},
   "outputs": [],
   "source": [
    "import pandas as pd\n",
    "import sklearn"
   ]
  },
  {
   "cell_type": "code",
   "execution_count": 2,
   "id": "ff8b1453-ae63-48e7-b96a-c30cedf87676",
   "metadata": {},
   "outputs": [],
   "source": [
    "df = pd.read_csv('LA NO2.csv', parse_dates=['date','utc','local'], index_col='utc')"
   ]
  },
  {
   "cell_type": "code",
   "execution_count": 3,
   "id": "40017446-2b83-43c7-8836-913310a0a29d",
   "metadata": {},
   "outputs": [
    {
     "data": {
      "text/html": [
       "<div>\n",
       "<style scoped>\n",
       "    .dataframe tbody tr th:only-of-type {\n",
       "        vertical-align: middle;\n",
       "    }\n",
       "\n",
       "    .dataframe tbody tr th {\n",
       "        vertical-align: top;\n",
       "    }\n",
       "\n",
       "    .dataframe thead th {\n",
       "        text-align: right;\n",
       "    }\n",
       "</style>\n",
       "<table border=\"1\" class=\"dataframe\">\n",
       "  <thead>\n",
       "    <tr style=\"text-align: right;\">\n",
       "      <th></th>\n",
       "      <th>parameter</th>\n",
       "      <th>location</th>\n",
       "      <th>value</th>\n",
       "      <th>concentration_units</th>\n",
       "      <th>city</th>\n",
       "      <th>country</th>\n",
       "      <th>sourcename</th>\n",
       "      <th>sourcetype</th>\n",
       "      <th>mobile</th>\n",
       "      <th>latitude</th>\n",
       "      <th>...</th>\n",
       "      <th>stp</th>\n",
       "      <th>visibility</th>\n",
       "      <th>wind_speed</th>\n",
       "      <th>max_sustained_wind</th>\n",
       "      <th>gust</th>\n",
       "      <th>max_temp</th>\n",
       "      <th>min_temp</th>\n",
       "      <th>precipitation</th>\n",
       "      <th>snow_depth</th>\n",
       "      <th>weather_events</th>\n",
       "    </tr>\n",
       "    <tr>\n",
       "      <th>utc</th>\n",
       "      <th></th>\n",
       "      <th></th>\n",
       "      <th></th>\n",
       "      <th></th>\n",
       "      <th></th>\n",
       "      <th></th>\n",
       "      <th></th>\n",
       "      <th></th>\n",
       "      <th></th>\n",
       "      <th></th>\n",
       "      <th></th>\n",
       "      <th></th>\n",
       "      <th></th>\n",
       "      <th></th>\n",
       "      <th></th>\n",
       "      <th></th>\n",
       "      <th></th>\n",
       "      <th></th>\n",
       "      <th></th>\n",
       "      <th></th>\n",
       "      <th></th>\n",
       "    </tr>\n",
       "  </thead>\n",
       "  <tbody>\n",
       "    <tr>\n",
       "      <th>2020-01-02 18:00:00</th>\n",
       "      <td>no2</td>\n",
       "      <td>North Holywood</td>\n",
       "      <td>0.005</td>\n",
       "      <td>ppm</td>\n",
       "      <td>Los Angeles-Long Beach-Santa Ana</td>\n",
       "      <td>US</td>\n",
       "      <td>AirNow</td>\n",
       "      <td>government</td>\n",
       "      <td>False</td>\n",
       "      <td>34.181976</td>\n",
       "      <td>...</td>\n",
       "      <td>986.8</td>\n",
       "      <td>10.0</td>\n",
       "      <td>4.5</td>\n",
       "      <td>12.0</td>\n",
       "      <td>NaN</td>\n",
       "      <td>68.0</td>\n",
       "      <td>43.0</td>\n",
       "      <td>0.0</td>\n",
       "      <td>0</td>\n",
       "      <td>NaN</td>\n",
       "    </tr>\n",
       "    <tr>\n",
       "      <th>2020-01-02 22:00:00</th>\n",
       "      <td>no2</td>\n",
       "      <td>North Holywood</td>\n",
       "      <td>0.016</td>\n",
       "      <td>ppm</td>\n",
       "      <td>Los Angeles-Long Beach-Santa Ana</td>\n",
       "      <td>US</td>\n",
       "      <td>AirNow</td>\n",
       "      <td>government</td>\n",
       "      <td>False</td>\n",
       "      <td>34.181976</td>\n",
       "      <td>...</td>\n",
       "      <td>986.8</td>\n",
       "      <td>10.0</td>\n",
       "      <td>4.5</td>\n",
       "      <td>12.0</td>\n",
       "      <td>NaN</td>\n",
       "      <td>68.0</td>\n",
       "      <td>43.0</td>\n",
       "      <td>0.0</td>\n",
       "      <td>0</td>\n",
       "      <td>NaN</td>\n",
       "    </tr>\n",
       "    <tr>\n",
       "      <th>2020-01-02 17:00:00</th>\n",
       "      <td>no2</td>\n",
       "      <td>North Holywood</td>\n",
       "      <td>0.005</td>\n",
       "      <td>ppm</td>\n",
       "      <td>Los Angeles-Long Beach-Santa Ana</td>\n",
       "      <td>US</td>\n",
       "      <td>AirNow</td>\n",
       "      <td>government</td>\n",
       "      <td>False</td>\n",
       "      <td>34.181976</td>\n",
       "      <td>...</td>\n",
       "      <td>986.8</td>\n",
       "      <td>10.0</td>\n",
       "      <td>4.5</td>\n",
       "      <td>12.0</td>\n",
       "      <td>NaN</td>\n",
       "      <td>68.0</td>\n",
       "      <td>43.0</td>\n",
       "      <td>0.0</td>\n",
       "      <td>0</td>\n",
       "      <td>NaN</td>\n",
       "    </tr>\n",
       "    <tr>\n",
       "      <th>2020-01-02 23:00:00</th>\n",
       "      <td>no2</td>\n",
       "      <td>North Holywood</td>\n",
       "      <td>0.015</td>\n",
       "      <td>ppm</td>\n",
       "      <td>Los Angeles-Long Beach-Santa Ana</td>\n",
       "      <td>US</td>\n",
       "      <td>AirNow</td>\n",
       "      <td>government</td>\n",
       "      <td>False</td>\n",
       "      <td>34.181976</td>\n",
       "      <td>...</td>\n",
       "      <td>986.8</td>\n",
       "      <td>10.0</td>\n",
       "      <td>4.5</td>\n",
       "      <td>12.0</td>\n",
       "      <td>NaN</td>\n",
       "      <td>68.0</td>\n",
       "      <td>43.0</td>\n",
       "      <td>0.0</td>\n",
       "      <td>0</td>\n",
       "      <td>NaN</td>\n",
       "    </tr>\n",
       "    <tr>\n",
       "      <th>2020-01-02 21:00:00</th>\n",
       "      <td>no2</td>\n",
       "      <td>North Holywood</td>\n",
       "      <td>0.010</td>\n",
       "      <td>ppm</td>\n",
       "      <td>Los Angeles-Long Beach-Santa Ana</td>\n",
       "      <td>US</td>\n",
       "      <td>AirNow</td>\n",
       "      <td>government</td>\n",
       "      <td>False</td>\n",
       "      <td>34.181976</td>\n",
       "      <td>...</td>\n",
       "      <td>986.8</td>\n",
       "      <td>10.0</td>\n",
       "      <td>4.5</td>\n",
       "      <td>12.0</td>\n",
       "      <td>NaN</td>\n",
       "      <td>68.0</td>\n",
       "      <td>43.0</td>\n",
       "      <td>0.0</td>\n",
       "      <td>0</td>\n",
       "      <td>NaN</td>\n",
       "    </tr>\n",
       "  </tbody>\n",
       "</table>\n",
       "<p>5 rows × 35 columns</p>\n",
       "</div>"
      ],
      "text/plain": [
       "                    parameter        location  value concentration_units  \\\n",
       "utc                                                                        \n",
       "2020-01-02 18:00:00       no2  North Holywood  0.005                 ppm   \n",
       "2020-01-02 22:00:00       no2  North Holywood  0.016                 ppm   \n",
       "2020-01-02 17:00:00       no2  North Holywood  0.005                 ppm   \n",
       "2020-01-02 23:00:00       no2  North Holywood  0.015                 ppm   \n",
       "2020-01-02 21:00:00       no2  North Holywood  0.010                 ppm   \n",
       "\n",
       "                                                 city country sourcename  \\\n",
       "utc                                                                        \n",
       "2020-01-02 18:00:00  Los Angeles-Long Beach-Santa Ana      US     AirNow   \n",
       "2020-01-02 22:00:00  Los Angeles-Long Beach-Santa Ana      US     AirNow   \n",
       "2020-01-02 17:00:00  Los Angeles-Long Beach-Santa Ana      US     AirNow   \n",
       "2020-01-02 23:00:00  Los Angeles-Long Beach-Santa Ana      US     AirNow   \n",
       "2020-01-02 21:00:00  Los Angeles-Long Beach-Santa Ana      US     AirNow   \n",
       "\n",
       "                     sourcetype  mobile   latitude  ...    stp visibility  \\\n",
       "utc                                                 ...                     \n",
       "2020-01-02 18:00:00  government   False  34.181976  ...  986.8       10.0   \n",
       "2020-01-02 22:00:00  government   False  34.181976  ...  986.8       10.0   \n",
       "2020-01-02 17:00:00  government   False  34.181976  ...  986.8       10.0   \n",
       "2020-01-02 23:00:00  government   False  34.181976  ...  986.8       10.0   \n",
       "2020-01-02 21:00:00  government   False  34.181976  ...  986.8       10.0   \n",
       "\n",
       "                    wind_speed  max_sustained_wind gust  max_temp  min_temp  \\\n",
       "utc                                                                           \n",
       "2020-01-02 18:00:00        4.5                12.0  NaN      68.0      43.0   \n",
       "2020-01-02 22:00:00        4.5                12.0  NaN      68.0      43.0   \n",
       "2020-01-02 17:00:00        4.5                12.0  NaN      68.0      43.0   \n",
       "2020-01-02 23:00:00        4.5                12.0  NaN      68.0      43.0   \n",
       "2020-01-02 21:00:00        4.5                12.0  NaN      68.0      43.0   \n",
       "\n",
       "                    precipitation  snow_depth  weather_events  \n",
       "utc                                                            \n",
       "2020-01-02 18:00:00           0.0           0             NaN  \n",
       "2020-01-02 22:00:00           0.0           0             NaN  \n",
       "2020-01-02 17:00:00           0.0           0             NaN  \n",
       "2020-01-02 23:00:00           0.0           0             NaN  \n",
       "2020-01-02 21:00:00           0.0           0             NaN  \n",
       "\n",
       "[5 rows x 35 columns]"
      ]
     },
     "execution_count": 3,
     "metadata": {},
     "output_type": "execute_result"
    }
   ],
   "source": [
    "df.head()"
   ]
  },
  {
   "cell_type": "code",
   "execution_count": 4,
   "id": "b38bd5bb-1314-417e-8d70-0f313111c886",
   "metadata": {},
   "outputs": [
    {
     "data": {
      "text/plain": [
       "Index(['parameter', 'location', 'value', 'concentration_units', 'city',\n",
       "       'country', 'sourcename', 'sourcetype', 'mobile', 'latitude',\n",
       "       'longitude', 'local', 'source', 'url', 'averaging_time_unit',\n",
       "       'averaging_time', 'station', 'date', 'latitude-2', 'longitude-2',\n",
       "       'elevation', 'name', 'temperature', 'dewpoint', 'slp', 'stp',\n",
       "       'visibility', 'wind_speed', 'max_sustained_wind', 'gust', 'max_temp',\n",
       "       'min_temp', 'precipitation', 'snow_depth', 'weather_events'],\n",
       "      dtype='object')"
      ]
     },
     "execution_count": 4,
     "metadata": {},
     "output_type": "execute_result"
    }
   ],
   "source": [
    "df.columns"
   ]
  },
  {
   "cell_type": "code",
   "execution_count": 5,
   "id": "35783831-3b83-4b19-b77e-1b470e603d2f",
   "metadata": {},
   "outputs": [
    {
     "data": {
      "text/html": [
       "<div>\n",
       "<style scoped>\n",
       "    .dataframe tbody tr th:only-of-type {\n",
       "        vertical-align: middle;\n",
       "    }\n",
       "\n",
       "    .dataframe tbody tr th {\n",
       "        vertical-align: top;\n",
       "    }\n",
       "\n",
       "    .dataframe thead th {\n",
       "        text-align: right;\n",
       "    }\n",
       "</style>\n",
       "<table border=\"1\" class=\"dataframe\">\n",
       "  <thead>\n",
       "    <tr style=\"text-align: right;\">\n",
       "      <th></th>\n",
       "      <th>value</th>\n",
       "      <th>mobile</th>\n",
       "      <th>latitude</th>\n",
       "      <th>longitude</th>\n",
       "      <th>url</th>\n",
       "      <th>averaging_time</th>\n",
       "      <th>station</th>\n",
       "      <th>latitude-2</th>\n",
       "      <th>longitude-2</th>\n",
       "      <th>elevation</th>\n",
       "      <th>...</th>\n",
       "      <th>slp</th>\n",
       "      <th>stp</th>\n",
       "      <th>visibility</th>\n",
       "      <th>wind_speed</th>\n",
       "      <th>max_sustained_wind</th>\n",
       "      <th>gust</th>\n",
       "      <th>max_temp</th>\n",
       "      <th>min_temp</th>\n",
       "      <th>precipitation</th>\n",
       "      <th>snow_depth</th>\n",
       "    </tr>\n",
       "    <tr>\n",
       "      <th>date</th>\n",
       "      <th></th>\n",
       "      <th></th>\n",
       "      <th></th>\n",
       "      <th></th>\n",
       "      <th></th>\n",
       "      <th></th>\n",
       "      <th></th>\n",
       "      <th></th>\n",
       "      <th></th>\n",
       "      <th></th>\n",
       "      <th></th>\n",
       "      <th></th>\n",
       "      <th></th>\n",
       "      <th></th>\n",
       "      <th></th>\n",
       "      <th></th>\n",
       "      <th></th>\n",
       "      <th></th>\n",
       "      <th></th>\n",
       "      <th></th>\n",
       "      <th></th>\n",
       "    </tr>\n",
       "  </thead>\n",
       "  <tbody>\n",
       "    <tr>\n",
       "      <th>2020-01-02</th>\n",
       "      <td>0.010444</td>\n",
       "      <td>0.0</td>\n",
       "      <td>34.181976</td>\n",
       "      <td>-118.36304</td>\n",
       "      <td>NaN</td>\n",
       "      <td>1.0</td>\n",
       "      <td>7.228802e+10</td>\n",
       "      <td>34.20056</td>\n",
       "      <td>-118.3575</td>\n",
       "      <td>225.9</td>\n",
       "      <td>...</td>\n",
       "      <td>1012.5</td>\n",
       "      <td>986.8</td>\n",
       "      <td>10.0</td>\n",
       "      <td>4.5</td>\n",
       "      <td>12.0</td>\n",
       "      <td>NaN</td>\n",
       "      <td>68.0</td>\n",
       "      <td>43.0</td>\n",
       "      <td>0.0</td>\n",
       "      <td>0.0</td>\n",
       "    </tr>\n",
       "    <tr>\n",
       "      <th>2020-01-03</th>\n",
       "      <td>0.027417</td>\n",
       "      <td>0.0</td>\n",
       "      <td>34.181976</td>\n",
       "      <td>-118.36304</td>\n",
       "      <td>NaN</td>\n",
       "      <td>1.0</td>\n",
       "      <td>7.228802e+10</td>\n",
       "      <td>34.20056</td>\n",
       "      <td>-118.3575</td>\n",
       "      <td>225.9</td>\n",
       "      <td>...</td>\n",
       "      <td>1019.9</td>\n",
       "      <td>994.0</td>\n",
       "      <td>10.0</td>\n",
       "      <td>1.6</td>\n",
       "      <td>6.0</td>\n",
       "      <td>NaN</td>\n",
       "      <td>73.0</td>\n",
       "      <td>45.0</td>\n",
       "      <td>0.0</td>\n",
       "      <td>0.0</td>\n",
       "    </tr>\n",
       "    <tr>\n",
       "      <th>2020-01-04</th>\n",
       "      <td>0.029000</td>\n",
       "      <td>0.0</td>\n",
       "      <td>34.181976</td>\n",
       "      <td>-118.36304</td>\n",
       "      <td>NaN</td>\n",
       "      <td>1.0</td>\n",
       "      <td>7.228802e+10</td>\n",
       "      <td>34.20056</td>\n",
       "      <td>-118.3575</td>\n",
       "      <td>225.9</td>\n",
       "      <td>...</td>\n",
       "      <td>1025.1</td>\n",
       "      <td>999.1</td>\n",
       "      <td>10.0</td>\n",
       "      <td>1.1</td>\n",
       "      <td>6.0</td>\n",
       "      <td>NaN</td>\n",
       "      <td>73.0</td>\n",
       "      <td>42.1</td>\n",
       "      <td>0.0</td>\n",
       "      <td>0.0</td>\n",
       "    </tr>\n",
       "    <tr>\n",
       "      <th>2020-01-05</th>\n",
       "      <td>0.023833</td>\n",
       "      <td>0.0</td>\n",
       "      <td>34.181976</td>\n",
       "      <td>-118.36304</td>\n",
       "      <td>NaN</td>\n",
       "      <td>1.0</td>\n",
       "      <td>7.228802e+10</td>\n",
       "      <td>34.20056</td>\n",
       "      <td>-118.3575</td>\n",
       "      <td>225.9</td>\n",
       "      <td>...</td>\n",
       "      <td>1024.2</td>\n",
       "      <td>998.0</td>\n",
       "      <td>10.0</td>\n",
       "      <td>2.8</td>\n",
       "      <td>11.1</td>\n",
       "      <td>18.100000</td>\n",
       "      <td>73.0</td>\n",
       "      <td>42.1</td>\n",
       "      <td>0.0</td>\n",
       "      <td>0.0</td>\n",
       "    </tr>\n",
       "    <tr>\n",
       "      <th>2020-01-06</th>\n",
       "      <td>0.024357</td>\n",
       "      <td>0.0</td>\n",
       "      <td>34.181976</td>\n",
       "      <td>-118.36304</td>\n",
       "      <td>NaN</td>\n",
       "      <td>1.0</td>\n",
       "      <td>7.228802e+10</td>\n",
       "      <td>34.20056</td>\n",
       "      <td>-118.3575</td>\n",
       "      <td>225.9</td>\n",
       "      <td>...</td>\n",
       "      <td>1023.5</td>\n",
       "      <td>997.6</td>\n",
       "      <td>10.0</td>\n",
       "      <td>2.5</td>\n",
       "      <td>6.0</td>\n",
       "      <td>16.733333</td>\n",
       "      <td>75.0</td>\n",
       "      <td>42.1</td>\n",
       "      <td>0.0</td>\n",
       "      <td>0.0</td>\n",
       "    </tr>\n",
       "  </tbody>\n",
       "</table>\n",
       "<p>5 rows × 22 columns</p>\n",
       "</div>"
      ],
      "text/plain": [
       "               value  mobile   latitude  longitude  url  averaging_time  \\\n",
       "date                                                                      \n",
       "2020-01-02  0.010444     0.0  34.181976 -118.36304  NaN             1.0   \n",
       "2020-01-03  0.027417     0.0  34.181976 -118.36304  NaN             1.0   \n",
       "2020-01-04  0.029000     0.0  34.181976 -118.36304  NaN             1.0   \n",
       "2020-01-05  0.023833     0.0  34.181976 -118.36304  NaN             1.0   \n",
       "2020-01-06  0.024357     0.0  34.181976 -118.36304  NaN             1.0   \n",
       "\n",
       "                 station  latitude-2  longitude-2  elevation  ...     slp  \\\n",
       "date                                                          ...           \n",
       "2020-01-02  7.228802e+10    34.20056    -118.3575      225.9  ...  1012.5   \n",
       "2020-01-03  7.228802e+10    34.20056    -118.3575      225.9  ...  1019.9   \n",
       "2020-01-04  7.228802e+10    34.20056    -118.3575      225.9  ...  1025.1   \n",
       "2020-01-05  7.228802e+10    34.20056    -118.3575      225.9  ...  1024.2   \n",
       "2020-01-06  7.228802e+10    34.20056    -118.3575      225.9  ...  1023.5   \n",
       "\n",
       "              stp  visibility  wind_speed  max_sustained_wind       gust  \\\n",
       "date                                                                       \n",
       "2020-01-02  986.8        10.0         4.5                12.0        NaN   \n",
       "2020-01-03  994.0        10.0         1.6                 6.0        NaN   \n",
       "2020-01-04  999.1        10.0         1.1                 6.0        NaN   \n",
       "2020-01-05  998.0        10.0         2.8                11.1  18.100000   \n",
       "2020-01-06  997.6        10.0         2.5                 6.0  16.733333   \n",
       "\n",
       "            max_temp  min_temp  precipitation  snow_depth  \n",
       "date                                                       \n",
       "2020-01-02      68.0      43.0            0.0         0.0  \n",
       "2020-01-03      73.0      45.0            0.0         0.0  \n",
       "2020-01-04      73.0      42.1            0.0         0.0  \n",
       "2020-01-05      73.0      42.1            0.0         0.0  \n",
       "2020-01-06      75.0      42.1            0.0         0.0  \n",
       "\n",
       "[5 rows x 22 columns]"
      ]
     },
     "execution_count": 5,
     "metadata": {},
     "output_type": "execute_result"
    }
   ],
   "source": [
    "df = df.resample('d', on='date').mean()\n",
    "df = df.interpolate(method='time')\n",
    "df.head()"
   ]
  },
  {
   "cell_type": "code",
   "execution_count": 6,
   "id": "70981db0-12d2-49b7-840b-57fc7257b888",
   "metadata": {},
   "outputs": [
    {
     "name": "stdout",
     "output_type": "stream",
     "text": [
      "Results for linear regression on training data\n",
      "Internal Parameters:\n",
      "   Bias is 0.11718023393643871\n",
      "   Coefficients: [-9.22760766e-05 -2.02168957e-03 -1.96661765e-04  5.78065619e-04\n",
      " -2.83923619e-04 -3.61156836e-04 -1.90506008e-04]\n",
      "   Score 0.688644219845947\n",
      "MAE is 0.003475423761773458\n",
      "RMSE is 0.004573000160813276\n",
      "MSE is 2.0912330470798244e-05\n",
      "R^2: 0.688644219845947\n"
     ]
    }
   ],
   "source": [
    "from sklearn.model_selection import train_test_split\n",
    "from sklearn.linear_model import LinearRegression\n",
    "from sklearn.metrics import mean_absolute_error\n",
    "from sklearn.metrics import mean_squared_error\n",
    "from sklearn.metrics import r2_score\n",
    "import numpy as np\n",
    "\n",
    "train_set, test_set = train_test_split(df, test_size = 0.2, random_state = 123)\n",
    "X = train_set[['stp', 'wind_speed', 'max_sustained_wind', 'max_temp', 'min_temp','temperature', 'dewpoint']]\n",
    "y = train_set['value']\n",
    "\n",
    "X_test = test_set[['stp', 'wind_speed', 'max_sustained_wind', 'max_temp', 'min_temp','temperature', 'dewpoint']]\n",
    "y_test = test_set['value']\n",
    "\n",
    "lrmodel = LinearRegression()\n",
    "lrmodel.fit(X,y)\n",
    "\n",
    "y_pred = lrmodel.predict(X)\n",
    "print(f'Results for linear regression on training data')\n",
    "print('Internal Parameters:')\n",
    "print(f'   Bias is {lrmodel.intercept_}')\n",
    "print(f'   Coefficients: {lrmodel.coef_}')\n",
    "print(f'   Score {lrmodel.score(X,y)}')\n",
    "\n",
    "print(f'MAE is {mean_absolute_error(y, y_pred)}')\n",
    "print(f'RMSE is {np.sqrt(mean_squared_error(y, y_pred))}')\n",
    "print(f'MSE is {mean_squared_error(y, y_pred)}')\n",
    "print(f'R^2: {r2_score(y, y_pred)}')"
   ]
  },
  {
   "cell_type": "code",
   "execution_count": 7,
   "id": "7a0285c0-1f2c-4719-9237-952c9765d2a2",
   "metadata": {},
   "outputs": [
    {
     "name": "stdout",
     "output_type": "stream",
     "text": [
      "Results for linear regression on training data\n",
      "Internal Parameters:\n",
      "   Bias is 441.9040667711327\n",
      "   Coefficients: [-5.69032364e-13 -1.22041845e-13  4.76771172e-13 ... -4.30875705e-14\n",
      " -7.17679723e-13 -7.22006846e-13]\n",
      "   Score 0.9923528722032307\n",
      "MAE is 0.000543774767130865\n",
      "RMSE is 0.0007166744542666714\n",
      "MSE is 5.136222733984313e-07\n",
      "R^2: 0.9923528722032307\n"
     ]
    }
   ],
   "source": [
    "from sklearn.preprocessing import PolynomialFeatures\n",
    "from sklearn.linear_model import SGDRegressor\n",
    "\n",
    "power = 8\n",
    "poly_process = PolynomialFeatures(degree = power, include_bias=True)\n",
    "\n",
    "train_set, test_set = train_test_split(df, test_size = 0.2, random_state = 123)\n",
    "X = train_set[['stp', 'wind_speed', 'max_sustained_wind', 'max_temp', 'min_temp','temperature', 'dewpoint']]\n",
    "y = train_set['value']\n",
    "\n",
    "X_poly = poly_process.fit_transform(X)\n",
    "\n",
    "X_test = test_set[['stp', 'wind_speed', 'max_sustained_wind', 'max_temp', 'min_temp','temperature', 'dewpoint']]\n",
    "y_test = test_set['value']\n",
    "\n",
    "X_poly_test = poly_process.fit_transform(X_test)\n",
    "\n",
    "lrmodel = LinearRegression()\n",
    "lrmodel.fit(X_poly ,y)\n",
    "\n",
    "y_pred = lrmodel.predict(X_poly)\n",
    "print(f'Results for linear regression on training data')\n",
    "print('Internal Parameters:')\n",
    "print(f'   Bias is {lrmodel.intercept_}')\n",
    "print(f'   Coefficients: {lrmodel.coef_}')\n",
    "print(f'   Score {lrmodel.score(X_poly,y)}')\n",
    "\n",
    "print(f'MAE is {mean_absolute_error(y, y_pred)}')\n",
    "print(f'RMSE is {np.sqrt(mean_squared_error(y, y_pred))}')\n",
    "print(f'MSE is {mean_squared_error(y, y_pred)}')\n",
    "print(f'R^2: {r2_score(y, y_pred)}')"
   ]
  },
  {
   "cell_type": "code",
   "execution_count": 8,
   "id": "f68e34b3-d950-46f3-935e-0478187ab7d9",
   "metadata": {},
   "outputs": [
    {
     "name": "stdout",
     "output_type": "stream",
     "text": [
      "\n",
      "Results for linear regression on test data\n",
      "    Polynomial regression with degree 8\n",
      "MAE is 0.33522309637734843\n",
      "RMSE is 1.441519508811445\n",
      "MSE is 2.0779784942839896\n",
      "R^2: -30681.4785408294\n"
     ]
    }
   ],
   "source": [
    "y_test_pred = lrmodel.predict(X_poly_test)\n",
    "print()\n",
    "print(f'Results for linear regression on test data')\n",
    "print(f'    Polynomial regression with degree {power}')\n",
    "print(f'MAE is {mean_absolute_error(y_test, y_test_pred)}')\n",
    "print(f'RMSE is {np.sqrt(mean_squared_error(y_test, y_test_pred))}')\n",
    "print(f'MSE is {mean_squared_error(y_test, y_test_pred)}')\n",
    "print(f'R^2: {r2_score(y_test, y_test_pred)}')"
   ]
  },
  {
   "cell_type": "markdown",
   "id": "a4ebf8fa-7614-496d-98a8-3f49e438d260",
   "metadata": {},
   "source": [
    "Model is overfit at degree 8"
   ]
  },
  {
   "cell_type": "code",
   "execution_count": 10,
   "id": "db140ad4-4bbd-43c7-8f85-f081061163ba",
   "metadata": {},
   "outputs": [
    {
     "name": "stdout",
     "output_type": "stream",
     "text": [
      "Results for linear regression on training data\n",
      "Internal Parameters:\n",
      "   Bias is -130.8516278519432\n",
      "   Coefficients: [ 5.41883862e-05  4.42209879e-01 -1.09368613e+01  1.09884784e+01\n",
      " -1.43649845e+01 -6.09250644e+00  1.80941231e+01  3.77682937e+00\n",
      " -4.99080145e-04  2.09354086e-02 -2.14214424e-02  2.82006940e-02\n",
      "  1.13039005e-02 -3.48095235e-02 -7.32139779e-03  2.57011331e-02\n",
      "  1.95143256e-02 -1.65788384e-02  1.28729868e-02  2.30412017e-02\n",
      " -6.86676289e-03 -2.21762026e-02  2.97365789e-02  1.90361208e-02\n",
      " -5.33929568e-02 -4.55502541e-03 -1.22867089e-03  6.90261004e-04\n",
      "  1.20465228e-02 -7.87453724e-05 -9.33306152e-03  2.33322058e-02\n",
      "  4.55694551e-03 -2.53187798e-02 -5.35386085e-03 -1.50633818e-03\n",
      "  1.87587625e-07 -9.97923214e-06  1.04398872e-05 -1.38375336e-05\n",
      " -5.20883493e-06  1.67205471e-05  3.54623127e-06 -2.55144630e-05\n",
      " -2.01242573e-05  1.79711969e-05 -1.21384618e-05 -2.55914197e-05\n",
      "  6.57171836e-06  2.23652354e-05 -3.01009496e-05 -1.95375813e-05\n",
      "  5.39470244e-05  4.48155497e-06  1.38736681e-06 -6.16673044e-07\n",
      " -1.23545736e-05  9.96034333e-08  9.41173176e-06 -2.34046636e-05\n",
      " -4.69222858e-06  2.53813573e-05  5.33560339e-06  1.54260238e-06\n",
      " -3.91318384e-05 -8.09265099e-06  5.61714570e-05  5.48943667e-05\n",
      " -8.72461560e-05 -2.81718985e-05  3.26454107e-05 -7.78256794e-05\n",
      " -8.46064070e-05  1.32803932e-04  3.82202771e-05 -1.62653510e-05\n",
      " -5.06530800e-05  6.10134047e-05  8.32235751e-06 -3.06814878e-05\n",
      "  9.58318308e-05  1.44240543e-05 -5.67587700e-05 -1.86836958e-05\n",
      " -1.20535397e-07 -1.05619711e-05  9.51997288e-06  2.29181164e-05\n",
      " -1.93526036e-05 -7.90182398e-06  6.06524526e-06  2.18128431e-05\n",
      " -2.52768267e-05 -6.09862993e-06  1.69357579e-05 -4.90038579e-05\n",
      " -2.92318551e-06  2.93369045e-05  1.21487670e-05 -3.82194541e-07\n",
      "  1.79161014e-06  9.85173717e-06 -1.58053565e-05 -1.52915464e-06\n",
      "  1.74924891e-06 -2.94151179e-05  2.66051430e-06  3.12787347e-05\n",
      "  3.72857351e-06 -1.90223418e-06  1.36036213e-05 -3.26355215e-05\n",
      " -4.98309387e-06  4.20339663e-05  5.39462747e-06  1.15889764e-07\n",
      " -2.22205949e-05 -4.86111850e-06  1.26139147e-06  4.34920348e-07]\n",
      "   Score 0.8080508860238597\n",
      "MAE is 0.002718788213353081\n",
      "RMSE is 0.0035905899110442534\n",
      "MSE is 1.289233590929278e-05\n",
      "R^2: 0.8080508860238597\n"
     ]
    }
   ],
   "source": []
  },
  {
   "cell_type": "code",
   "execution_count": 12,
   "id": "d48ebde2-bdaf-49b0-a24e-a391b32eb9ec",
   "metadata": {},
   "outputs": [
    {
     "name": "stdout",
     "output_type": "stream",
     "text": [
      "Results for linear regression on training data\n",
      "Internal Parameters:\n",
      "   Bias is 0.33815072081383407\n",
      "   Coefficients: [-1.49101913e-12 -7.80528375e-04 -1.22697060e-01  8.26026250e-02\n",
      "  6.39855776e-03 -9.76875423e-03 -4.34229226e-03  5.73264211e-03\n",
      "  4.68264051e-07  1.18339266e-04 -8.22941595e-05 -5.02173456e-06\n",
      "  8.63720100e-06  3.55138369e-06 -5.56745154e-06  1.20341228e-04\n",
      "  4.35562312e-05 -5.84328222e-05 -1.78247372e-05  7.96814588e-05\n",
      "  5.46740277e-05  2.55371978e-06 -1.17917321e-05 -2.62220322e-06\n",
      "  5.27434400e-06 -2.57396618e-05  2.36397060e-05  1.00059566e-05\n",
      " -6.92021806e-05 -7.11311248e-06  4.66683268e-07  1.39972045e-05\n",
      " -1.61031714e-05  3.10456508e-05  1.93353857e-05 -2.56593373e-06]\n",
      "   Score 0.7437630560387788\n",
      "MAE is 0.003089545113004879\n",
      "RMSE is 0.004148524157285349\n",
      "MSE is 1.7210252683580114e-05\n",
      "R^2: 0.7437630560387788\n"
     ]
    }
   ],
   "source": [
    "power = 2\n",
    "poly_process = PolynomialFeatures(degree = power, include_bias=True)\n",
    "\n",
    "train_set, test_set = train_test_split(df, test_size = 0.2, random_state = 123)\n",
    "X = train_set[['stp', 'wind_speed', 'max_sustained_wind', 'max_temp', 'min_temp','temperature', 'dewpoint']]\n",
    "y = train_set['value']\n",
    "\n",
    "X_poly = poly_process.fit_transform(X)\n",
    "\n",
    "X_test = test_set[['stp', 'wind_speed', 'max_sustained_wind', 'max_temp', 'min_temp','temperature', 'dewpoint']]\n",
    "y_test = test_set['value']\n",
    "\n",
    "X_poly_test = poly_process.fit_transform(X_test)\n",
    "\n",
    "lrmodel = LinearRegression()\n",
    "lrmodel.fit(X_poly ,y)\n",
    "\n",
    "y_pred = lrmodel.predict(X_poly)\n",
    "print(f'Results for linear regression on training data')\n",
    "print('Internal Parameters:')\n",
    "print(f'   Bias is {lrmodel.intercept_}')\n",
    "print(f'   Coefficients: {lrmodel.coef_}')\n",
    "print(f'   Score {lrmodel.score(X_poly,y)}')\n",
    "\n",
    "print(f'MAE is {mean_absolute_error(y, y_pred)}')\n",
    "print(f'RMSE is {np.sqrt(mean_squared_error(y, y_pred))}')\n",
    "print(f'MSE is {mean_squared_error(y, y_pred)}')\n",
    "print(f'R^2: {r2_score(y, y_pred)}')"
   ]
  },
  {
   "cell_type": "code",
   "execution_count": 13,
   "id": "6a84d2d1-04a0-41c2-b90f-d0cf8b83b227",
   "metadata": {},
   "outputs": [
    {
     "name": "stdout",
     "output_type": "stream",
     "text": [
      "\n",
      "Results for linear regression on test data\n",
      "    Polynomial regression with degree 2\n",
      "MAE is 0.0032595355907961156\n",
      "RMSE is 0.004471836131248678\n",
      "MSE is 1.9997318384741143e-05\n",
      "R^2: 0.7047287573467547\n"
     ]
    }
   ],
   "source": [
    "y_test_pred = lrmodel.predict(X_poly_test)\n",
    "print()\n",
    "print(f'Results for linear regression on test data')\n",
    "print(f'    Polynomial regression with degree {power}')\n",
    "print(f'MAE is {mean_absolute_error(y_test, y_test_pred)}')\n",
    "print(f'RMSE is {np.sqrt(mean_squared_error(y_test, y_test_pred))}')\n",
    "print(f'MSE is {mean_squared_error(y_test, y_test_pred)}')\n",
    "print(f'R^2: {r2_score(y_test, y_test_pred)}')"
   ]
  },
  {
   "cell_type": "code",
   "execution_count": 10,
   "id": "4b1698af-c7e7-4d1e-a806-4472c67bf8d3",
   "metadata": {},
   "outputs": [],
   "source": [
    "power = 3\n",
    "poly_process = PolynomialFeatures(degree = power, include_bias=True)\n",
    "\n",
    "train_set, test_set = train_test_split(df, test_size = 0.2, random_state = 123)\n",
    "X = train_set[['stp', 'wind_speed', 'max_sustained_wind', 'max_temp', 'min_temp','temperature', 'dewpoint']]\n",
    "y = train_set['value']\n",
    "\n",
    "X_poly = poly_process.fit_transform(X)\n",
    "\n",
    "X_test = test_set[['stp', 'wind_speed', 'max_sustained_wind', 'max_temp', 'min_temp','temperature', 'dewpoint']]\n",
    "y_test = test_set['value']\n",
    "\n",
    "X_poly_test = poly_process.fit_transform(X_test)\n",
    "\n",
    "lrmodel = LinearRegression()\n",
    "lrmodel.fit(X_poly ,y)\n",
    "\n",
    "y_pred = lrmodel.predict(X_poly)\n",
    "print(f'Results for linear regression on training data')\n",
    "print('Internal Parameters:')\n",
    "print(f'   Bias is {lrmodel.intercept_}')\n",
    "print(f'   Coefficients: {lrmodel.coef_}')\n",
    "print(f'   Score {lrmodel.score(X_poly,y)}')\n",
    "\n",
    "print(f'MAE is {mean_absolute_error(y, y_pred)}')\n",
    "print(f'RMSE is {np.sqrt(mean_squared_error(y, y_pred))}')\n",
    "print(f'MSE is {mean_squared_error(y, y_pred)}')\n",
    "print(f'R^2: {r2_score(y, y_pred)}')"
   ]
  },
  {
   "cell_type": "code",
   "execution_count": 11,
   "id": "d67655bb-e774-4dba-9cc1-6fdbddfb942f",
   "metadata": {},
   "outputs": [
    {
     "name": "stdout",
     "output_type": "stream",
     "text": [
      "\n",
      "Results for linear regression on test data\n",
      "    Polynomial regression with degree 3\n",
      "MAE is 0.003763551084645628\n",
      "RMSE is 0.005212595151025\n",
      "MSE is 2.7171148208489343e-05\n",
      "R^2: 0.5988032724448717\n"
     ]
    }
   ],
   "source": [
    "y_test_pred = lrmodel.predict(X_poly_test)\n",
    "print()\n",
    "print(f'Results for linear regression on test data')\n",
    "print(f'    Polynomial regression with degree {power}')\n",
    "print(f'MAE is {mean_absolute_error(y_test, y_test_pred)}')\n",
    "print(f'RMSE is {np.sqrt(mean_squared_error(y_test, y_test_pred))}')\n",
    "print(f'MSE is {mean_squared_error(y_test, y_test_pred)}')\n",
    "print(f'R^2: {r2_score(y_test, y_test_pred)}')"
   ]
  },
  {
   "cell_type": "code",
   "execution_count": 14,
   "id": "9c4205cd-81cb-4095-a13b-796091d5880b",
   "metadata": {},
   "outputs": [
    {
     "name": "stdout",
     "output_type": "stream",
     "text": [
      "Results for linear regression on training data\n",
      "Internal Parameters:\n",
      "   Bias is -1290.9751031639005\n",
      "   Coefficients: [-1.21275579e-03 -1.67127782e+00 -1.75673924e-01  2.33976299e-01\n",
      "  2.93147755e-01  1.07914156e-01  1.53972223e-01  1.05826574e-01\n",
      "  1.48189348e-02 -5.75809742e-01  2.52655371e-01 -2.40277363e-01\n",
      "  9.13208064e-02  2.42497588e-01 -1.28863583e-01  1.64925741e+01\n",
      "  1.19356148e+01  3.15781799e+00  7.08362419e+00 -1.65221226e+00\n",
      " -4.67665461e+00 -1.14510162e+01  6.08909582e+00 -2.45577663e+00\n",
      " -7.53193141e+00  1.76728316e+00  2.23697515e+00 -9.75138411e-01\n",
      " -3.84859172e+00  2.27107390e+00  1.67552997e-01 -1.44730161e+00\n",
      "  1.01076608e+00  2.25285013e+00 -1.06427970e+00 -3.85021663e-01\n",
      " -1.95007784e-05  1.15509466e-03 -5.01965951e-04  4.76654093e-04\n",
      " -1.86973260e-04 -4.77652263e-04  2.56598118e-04 -3.25439580e-02\n",
      " -2.47833640e-02 -6.23388991e-03 -1.35922451e-02  2.86087076e-03\n",
      "  9.41474064e-03  2.30092823e-02 -1.18850164e-02  5.20855692e-03\n",
      "  1.43313341e-02 -3.60584221e-03 -4.31915266e-03  1.98642564e-03\n",
      "  7.31826255e-03 -4.40853456e-03 -4.70943247e-04  2.99454764e-03\n",
      " -1.91398053e-03 -4.33420515e-03  1.94614979e-03  7.76276541e-04\n",
      "  1.13122781e-01 -2.01658109e-01  1.10588223e-02 -5.21386583e-02\n",
      "  4.25494627e-02 -2.15810668e-02  1.03782265e-01 -3.35071649e-02\n",
      "  8.63640099e-03  2.64314387e-02  1.41366684e-02 -8.08520186e-03\n",
      " -3.98524896e-03  3.36978446e-02 -1.12738199e-02  1.14549131e-02\n",
      " -1.28403790e-02 -8.25727207e-03 -2.43889792e-02  1.93772815e-02\n",
      "  1.71273160e-03 -1.53072927e-02  7.91443942e-03  5.75581075e-03\n",
      " -9.84971388e-03 -2.05107258e-03 -9.47092870e-04 -7.59254844e-03\n",
      " -8.61771634e-04  3.51023265e-03 -2.87743162e-03  7.11392362e-03\n",
      "  1.29669110e-03  7.18799755e-03 -5.95657000e-03  6.61498958e-04\n",
      "  3.52919250e-04  1.03099526e-02 -1.01631061e-02 -2.97462649e-03\n",
      "  7.26558762e-03 -3.50261757e-02 -9.63759174e-04  2.74407559e-02\n",
      "  5.28478247e-03  1.42753169e-06  7.61375052e-04 -1.07461483e-02\n",
      "  2.38213142e-03  3.02491689e-02 -1.79994036e-03 -1.99723260e-03\n",
      " -2.01523689e-02 -1.30943071e-03  4.25046880e-04  5.52695976e-04\n",
      "  7.64332464e-09 -5.79292364e-07  2.49210153e-07 -2.36702878e-07\n",
      "  9.56191768e-08  2.35029745e-07 -1.27857233e-07  1.60562088e-05\n",
      "  1.28556587e-05  3.08489963e-06  6.49667785e-06 -1.21068625e-06\n",
      " -4.72892152e-06 -1.15613829e-05  5.79391921e-06 -2.75053299e-06\n",
      " -6.80201456e-06  1.83485972e-06  2.08014841e-06 -1.01666383e-06\n",
      " -3.46000062e-06  2.13956456e-06  3.03874842e-07 -1.54457497e-06\n",
      "  9.03763835e-07  2.07423668e-06 -8.83862310e-07 -3.91170117e-07\n",
      " -1.12953424e-04  1.99750229e-04 -1.15121295e-05  5.11389486e-05\n",
      " -4.09591230e-05  2.13144643e-05 -1.02276594e-04  3.37289924e-05\n",
      " -6.09610737e-06 -2.89670289e-05 -1.43037308e-05  8.40285096e-06\n",
      "  4.83562261e-06 -3.51238517e-05  1.08713407e-05 -1.02171667e-05\n",
      "  1.01631750e-05  7.62329962e-06  2.62971123e-05 -1.87229833e-05\n",
      " -1.60159466e-06  1.49754545e-05 -7.95014573e-06 -6.82447572e-06\n",
      "  1.07396317e-05  2.30757326e-06  7.07495336e-07  6.64322767e-06\n",
      "  2.08546245e-06 -3.30198585e-06  1.88394377e-06 -4.47275465e-06\n",
      " -9.66002646e-07 -8.84537645e-06  5.54413259e-06 -7.15326856e-07\n",
      " -3.29871946e-07 -1.02311537e-05  1.01150076e-05  2.89707258e-06\n",
      " -7.15385791e-06  3.49315584e-05  8.91310425e-07 -2.75459982e-05\n",
      " -5.13255455e-06  2.43980054e-09 -6.13791780e-07  1.03601226e-05\n",
      " -2.43721393e-06 -3.00624694e-05  1.91405273e-06  2.01409378e-06\n",
      "  2.02583960e-05  1.22762717e-06 -4.34015159e-07 -5.58825477e-07\n",
      "  1.54407485e-04 -2.16518340e-04  5.10038899e-07  3.93105956e-05\n",
      " -3.52592958e-05 -4.90739950e-05  1.38107917e-04  2.38786842e-07\n",
      " -8.39147868e-06  1.77188711e-05  8.45159612e-05  1.49821267e-05\n",
      "  3.86175750e-05 -6.54541294e-05  5.04162750e-08  7.24835806e-05\n",
      " -1.34697651e-04 -2.41421965e-05  7.77140379e-05  1.79505877e-05\n",
      "  4.97970827e-06 -4.94475042e-05  1.29910678e-05 -5.42510757e-05\n",
      "  1.66567929e-05 -3.45768896e-05 -2.34791240e-05 -5.23205359e-05\n",
      "  8.92051832e-05  1.37295071e-05 -8.70244033e-05  1.67202231e-04\n",
      "  3.08766333e-05 -1.00118961e-04 -3.25792098e-05 -7.80990988e-06\n",
      "  9.19568070e-07 -8.02159414e-06 -3.94089842e-06  7.08007204e-06\n",
      " -1.10550925e-05  2.69455772e-05  1.01525609e-06  3.94554929e-06\n",
      " -1.20499742e-05  4.47848243e-10 -1.23214955e-05  2.87760504e-05\n",
      " -3.78598617e-06 -2.42680041e-05  7.82248598e-06  5.31320895e-06\n",
      " -2.24693022e-06  1.38987886e-06 -4.33264171e-06 -7.67343295e-07\n",
      "  7.98431095e-06 -4.54938434e-06  2.08005644e-05 -7.84621247e-06\n",
      "  2.36269487e-06  5.08686909e-06  2.33108495e-05 -2.43945720e-05\n",
      " -9.67573834e-06  3.21330104e-05 -6.52363096e-05 -1.20105827e-05\n",
      "  3.19359297e-05  1.60727789e-05  2.59016356e-06  3.98650201e-07\n",
      " -2.59381483e-06  3.83222257e-06  1.24404967e-06 -6.59890211e-06\n",
      "  2.47923595e-05  6.75280702e-06 -2.04583177e-05 -9.26439155e-06\n",
      " -6.98053288e-07 -2.45086000e-06  2.13128030e-05  5.79518444e-06\n",
      " -4.26997674e-05 -1.79450795e-05 -2.39514191e-06  2.40947871e-05\n",
      "  1.32424022e-05  3.02901906e-06  5.35661967e-08 -1.34139912e-07\n",
      " -3.73003020e-06  2.04091545e-06  1.70191363e-06 -3.35589563e-06\n",
      "  1.78007283e-05 -3.28919705e-07 -8.45672134e-06 -4.83789382e-06\n",
      " -1.55860346e-07  6.18420987e-06 -3.65835462e-06 -6.49453877e-06\n",
      " -2.18426060e-05  1.04774965e-05  7.57108362e-07  1.25543215e-05\n",
      "  1.61913207e-06 -5.59950805e-07  2.04773429e-07  4.90617956e-06\n",
      " -2.01594570e-05 -5.98200651e-06  2.06733111e-05  2.06384137e-05\n",
      "  9.95676750e-07  2.65664880e-06 -2.05884739e-05 -3.02778571e-06\n",
      "  3.81082160e-07 -5.52339695e-06  3.87540284e-06  1.79979855e-06\n",
      " -3.57448412e-07 -6.76508954e-08]\n",
      "   Score 0.8843530458261692\n",
      "MAE is 0.002042693085583351\n",
      "RMSE is 0.0027870184896755038\n",
      "MSE is 7.767472061793125e-06\n",
      "R^2: 0.8843530458261692\n"
     ]
    }
   ],
   "source": [
    "power = 4\n",
    "poly_process = PolynomialFeatures(degree = power, include_bias=True)\n",
    "\n",
    "train_set, test_set = train_test_split(df, test_size = 0.2, random_state = 123)\n",
    "X = train_set[['stp', 'wind_speed', 'max_sustained_wind', 'max_temp', 'min_temp','temperature', 'dewpoint']]\n",
    "y = train_set['value']\n",
    "\n",
    "X_poly = poly_process.fit_transform(X)\n",
    "\n",
    "X_test = test_set[['stp', 'wind_speed', 'max_sustained_wind', 'max_temp', 'min_temp','temperature', 'dewpoint']]\n",
    "y_test = test_set['value']\n",
    "\n",
    "X_poly_test = poly_process.fit_transform(X_test)\n",
    "\n",
    "lrmodel = LinearRegression()\n",
    "lrmodel.fit(X_poly ,y)\n",
    "\n",
    "y_pred = lrmodel.predict(X_poly)\n",
    "print(f'Results for linear regression on training data')\n",
    "print('Internal Parameters:')\n",
    "print(f'   Bias is {lrmodel.intercept_}')\n",
    "print(f'   Coefficients: {lrmodel.coef_}')\n",
    "print(f'   Score {lrmodel.score(X_poly,y)}')\n",
    "\n",
    "print(f'MAE is {mean_absolute_error(y, y_pred)}')\n",
    "print(f'RMSE is {np.sqrt(mean_squared_error(y, y_pred))}')\n",
    "print(f'MSE is {mean_squared_error(y, y_pred)}')\n",
    "print(f'R^2: {r2_score(y, y_pred)}')"
   ]
  },
  {
   "cell_type": "code",
   "execution_count": 15,
   "id": "e2ed63e7-bc18-414a-9ea3-3168cc68a61e",
   "metadata": {},
   "outputs": [
    {
     "name": "stdout",
     "output_type": "stream",
     "text": [
      "\n",
      "Results for linear regression on test data\n",
      "    Polynomial regression with degree 4\n",
      "MAE is 0.006202615051260571\n",
      "RMSE is 0.011897781783780953\n",
      "MSE is 0.00014155721137446988\n",
      "R^2: -1.090168936899131\n"
     ]
    }
   ],
   "source": [
    "y_test_pred = lrmodel.predict(X_poly_test)\n",
    "print()\n",
    "print(f'Results for linear regression on test data')\n",
    "print(f'    Polynomial regression with degree {power}')\n",
    "print(f'MAE is {mean_absolute_error(y_test, y_test_pred)}')\n",
    "print(f'RMSE is {np.sqrt(mean_squared_error(y_test, y_test_pred))}')\n",
    "print(f'MSE is {mean_squared_error(y_test, y_test_pred)}')\n",
    "print(f'R^2: {r2_score(y_test, y_test_pred)}')"
   ]
  },
  {
   "cell_type": "code",
   "execution_count": 16,
   "id": "b4c70c80-0689-49b4-a1fa-1b7ac57f6a0d",
   "metadata": {},
   "outputs": [
    {
     "name": "stdout",
     "output_type": "stream",
     "text": [
      "MAE is 0.0011629946135910665\n",
      "RMSE is 0.0016028450336462608\n",
      "MSE is 2.569112201884483e-06\n",
      "R^2: 0.9617494599639183\n"
     ]
    }
   ],
   "source": [
    "from sklearn.ensemble import RandomForestRegressor\n",
    "rfmodel = RandomForestRegressor(n_estimators=1000, max_features = 'sqrt', max_depth =100,random_state =123)\n",
    "rfmodel.fit(X,y)\n",
    "\n",
    "y_pred = rfmodel.predict(X)\n",
    "print(f'MAE is {mean_absolute_error(y, y_pred)}')\n",
    "print(f'RMSE is {np.sqrt(mean_squared_error(y, y_pred))}')\n",
    "print(f'MSE is {mean_squared_error(y, y_pred)}')\n",
    "print(f'R^2: {r2_score(y, y_pred)}')\n"
   ]
  },
  {
   "cell_type": "code",
   "execution_count": 18,
   "id": "021a1fbf-34f3-4b4b-bff1-dd3d4a5fbe89",
   "metadata": {},
   "outputs": [
    {
     "name": "stdout",
     "output_type": "stream",
     "text": [
      "\n",
      "Results for random forest regression on test data\n",
      "MAE is 0.003390989694717383\n",
      "RMSE is 0.004565226583856584\n",
      "MSE is 2.0841293761950853e-05\n",
      "R^2: 0.6922670035454247\n"
     ]
    }
   ],
   "source": [
    "y_test_pred = rfmodel.predict(X_test)\n",
    "print()\n",
    "print(f'Results for random forest regression on test data')\n",
    "print(f'MAE is {mean_absolute_error(y_test, y_test_pred)}')\n",
    "print(f'RMSE is {np.sqrt(mean_squared_error(y_test, y_test_pred))}')\n",
    "print(f'MSE is {mean_squared_error(y_test, y_test_pred)}')\n",
    "print(f'R^2: {r2_score(y_test, y_test_pred)}')"
   ]
  },
  {
   "cell_type": "code",
   "execution_count": 19,
   "id": "07408765-0adf-4a95-b376-06e625cdb7ec",
   "metadata": {
    "tags": []
   },
   "outputs": [
    {
     "name": "stdout",
     "output_type": "stream",
     "text": [
      "MAE is 0.001175434393798324\n",
      "RMSE is 0.0016303570660204845\n",
      "MSE is 2.6580641627229225e-06\n",
      "R^2: 0.9604250878571481\n"
     ]
    }
   ],
   "source": [
    "from sklearn.ensemble import RandomForestRegressor\n",
    "rfmodel = RandomForestRegressor(n_estimators=100, max_features = 'sqrt', max_depth =50,random_state =123)\n",
    "rfmodel.fit(X,y)\n",
    "\n",
    "y_pred = rfmodel.predict(X)\n",
    "print(f'MAE is {mean_absolute_error(y, y_pred)}')\n",
    "print(f'RMSE is {np.sqrt(mean_squared_error(y, y_pred))}')\n",
    "print(f'MSE is {mean_squared_error(y, y_pred)}')\n",
    "print(f'R^2: {r2_score(y, y_pred)}')\n"
   ]
  },
  {
   "cell_type": "code",
   "execution_count": 20,
   "id": "d941eee1-705a-44e5-be86-1d5d09a3c6d1",
   "metadata": {
    "tags": []
   },
   "outputs": [
    {
     "name": "stdout",
     "output_type": "stream",
     "text": [
      "\n",
      "Results for random forest regression on test data\n",
      "MAE is 0.003395065764083209\n",
      "RMSE is 0.004565083149599456\n",
      "MSE is 2.083998416275689e-05\n",
      "R^2: 0.6922863404872055\n"
     ]
    }
   ],
   "source": [
    "y_test_pred = rfmodel.predict(X_test)\n",
    "print()\n",
    "print(f'Results for random forest regression on test data')\n",
    "print(f'MAE is {mean_absolute_error(y_test, y_test_pred)}')\n",
    "print(f'RMSE is {np.sqrt(mean_squared_error(y_test, y_test_pred))}')\n",
    "print(f'MSE is {mean_squared_error(y_test, y_test_pred)}')\n",
    "print(f'R^2: {r2_score(y_test, y_test_pred)}')"
   ]
  },
  {
   "cell_type": "code",
   "execution_count": 21,
   "id": "426fddb0-d3bf-418b-b8f1-5ac9b2630c3b",
   "metadata": {
    "tags": []
   },
   "outputs": [
    {
     "name": "stdout",
     "output_type": "stream",
     "text": [
      "MAE is 0.0011761363563272315\n",
      "RMSE is 0.0016309217522757278\n",
      "MSE is 2.6599057620461303e-06\n",
      "R^2: 0.9603976689812457\n"
     ]
    }
   ],
   "source": [
    "rfmodel = RandomForestRegressor(n_estimators=100, max_features = 'sqrt', max_depth =25,random_state =123)\n",
    "rfmodel.fit(X,y)\n",
    "\n",
    "y_pred = rfmodel.predict(X)\n",
    "print(f'MAE is {mean_absolute_error(y, y_pred)}')\n",
    "print(f'RMSE is {np.sqrt(mean_squared_error(y, y_pred))}')\n",
    "print(f'MSE is {mean_squared_error(y, y_pred)}')\n",
    "print(f'R^2: {r2_score(y, y_pred)}')"
   ]
  },
  {
   "cell_type": "code",
   "execution_count": 22,
   "id": "e7f27bfb-82b9-4f2b-92ef-83b3935f554c",
   "metadata": {
    "tags": []
   },
   "outputs": [
    {
     "name": "stdout",
     "output_type": "stream",
     "text": [
      "\n",
      "Results for random forest regression on test data\n",
      "MAE is 0.0033979225265327088\n",
      "RMSE is 0.004568196111398462\n",
      "MSE is 2.0868415712196028e-05\n",
      "R^2: 0.6918665332524586\n"
     ]
    }
   ],
   "source": [
    "y_test_pred = rfmodel.predict(X_test)\n",
    "print()\n",
    "print(f'Results for random forest regression on test data')\n",
    "print(f'MAE is {mean_absolute_error(y_test, y_test_pred)}')\n",
    "print(f'RMSE is {np.sqrt(mean_squared_error(y_test, y_test_pred))}')\n",
    "print(f'MSE is {mean_squared_error(y_test, y_test_pred)}')\n",
    "print(f'R^2: {r2_score(y_test, y_test_pred)}')"
   ]
  },
  {
   "cell_type": "code",
   "execution_count": 23,
   "id": "b7ed6e75-f330-451b-8ce7-2ba2aeba6cd5",
   "metadata": {
    "tags": []
   },
   "outputs": [
    {
     "name": "stdout",
     "output_type": "stream",
     "text": [
      "MAE is 0.0016182614147895564\n",
      "RMSE is 0.002092405524848461\n",
      "MSE is 4.3781608804163635e-06\n",
      "R^2: 0.9348152183007292\n"
     ]
    }
   ],
   "source": [
    "rfmodel = RandomForestRegressor(n_estimators=100, max_features = 'sqrt', max_depth =10,random_state =123)\n",
    "rfmodel.fit(X,y)\n",
    "\n",
    "y_pred = rfmodel.predict(X)\n",
    "print(f'MAE is {mean_absolute_error(y, y_pred)}')\n",
    "print(f'RMSE is {np.sqrt(mean_squared_error(y, y_pred))}')\n",
    "print(f'MSE is {mean_squared_error(y, y_pred)}')\n",
    "print(f'R^2: {r2_score(y, y_pred)}')"
   ]
  },
  {
   "cell_type": "code",
   "execution_count": 24,
   "id": "1d48509e-256c-4560-9d2a-186975adc70e",
   "metadata": {
    "tags": []
   },
   "outputs": [
    {
     "name": "stdout",
     "output_type": "stream",
     "text": [
      "\n",
      "Results for random forest regression on test data\n",
      "MAE is 0.003389596349879812\n",
      "RMSE is 0.004603565779571652\n",
      "MSE is 2.1192817886843145e-05\n",
      "R^2: 0.6870765593477296\n"
     ]
    }
   ],
   "source": [
    "y_test_pred = rfmodel.predict(X_test)\n",
    "print()\n",
    "print(f'Results for random forest regression on test data')\n",
    "print(f'MAE is {mean_absolute_error(y_test, y_test_pred)}')\n",
    "print(f'RMSE is {np.sqrt(mean_squared_error(y_test, y_test_pred))}')\n",
    "print(f'MSE is {mean_squared_error(y_test, y_test_pred)}')\n",
    "print(f'R^2: {r2_score(y_test, y_test_pred)}')"
   ]
  },
  {
   "cell_type": "code",
   "execution_count": 25,
   "id": "1ac514be-6a57-43d1-a72d-a3c64de810b9",
   "metadata": {
    "tags": []
   },
   "outputs": [
    {
     "name": "stdout",
     "output_type": "stream",
     "text": [
      "MAE is 0.0028782179199543885\n",
      "RMSE is 0.0038255518958585904\n",
      "MSE is 1.4634847307907255e-05\n",
      "R^2: 0.7821072927595634\n"
     ]
    }
   ],
   "source": [
    "rfmodel = RandomForestRegressor(n_estimators=100, max_features = 'sqrt', max_depth =5,random_state =123)\n",
    "rfmodel.fit(X,y)\n",
    "\n",
    "y_pred = rfmodel.predict(X)\n",
    "print(f'MAE is {mean_absolute_error(y, y_pred)}')\n",
    "print(f'RMSE is {np.sqrt(mean_squared_error(y, y_pred))}')\n",
    "print(f'MSE is {mean_squared_error(y, y_pred)}')\n",
    "print(f'R^2: {r2_score(y, y_pred)}')"
   ]
  },
  {
   "cell_type": "code",
   "execution_count": 26,
   "id": "4d4444cc-0052-4121-a763-e06ce1743717",
   "metadata": {
    "tags": []
   },
   "outputs": [
    {
     "name": "stdout",
     "output_type": "stream",
     "text": [
      "\n",
      "Results for random forest regression on test data\n",
      "MAE is 0.0036191096269724676\n",
      "RMSE is 0.0048610703296104694\n",
      "MSE is 2.3630004749419237e-05\n",
      "R^2: 0.6510901745912555\n"
     ]
    }
   ],
   "source": [
    "y_test_pred = rfmodel.predict(X_test)\n",
    "print()\n",
    "print(f'Results for random forest regression on test data')\n",
    "print(f'MAE is {mean_absolute_error(y_test, y_test_pred)}')\n",
    "print(f'RMSE is {np.sqrt(mean_squared_error(y_test, y_test_pred))}')\n",
    "print(f'MSE is {mean_squared_error(y_test, y_test_pred)}')\n",
    "print(f'R^2: {r2_score(y_test, y_test_pred)}')"
   ]
  },
  {
   "cell_type": "code",
   "execution_count": 27,
   "id": "def43284-dd87-4ab6-8fc4-ac5ec1b1b913",
   "metadata": {
    "tags": []
   },
   "outputs": [
    {
     "name": "stdout",
     "output_type": "stream",
     "text": [
      "MAE is 0.002948581190286136\n",
      "RMSE is 0.003909881647397569\n",
      "MSE is 1.5287174496656333e-05\n",
      "R^2: 0.7723950399309136\n"
     ]
    }
   ],
   "source": [
    "rfmodel = RandomForestRegressor(n_estimators=10, max_features = 'sqrt', max_depth =5,random_state =123)\n",
    "rfmodel.fit(X,y)\n",
    "\n",
    "y_pred = rfmodel.predict(X)\n",
    "print(f'MAE is {mean_absolute_error(y, y_pred)}')\n",
    "print(f'RMSE is {np.sqrt(mean_squared_error(y, y_pred))}')\n",
    "print(f'MSE is {mean_squared_error(y, y_pred)}')\n",
    "print(f'R^2: {r2_score(y, y_pred)}')"
   ]
  },
  {
   "cell_type": "code",
   "execution_count": 28,
   "id": "56f97012-049a-419c-992c-4e5a7bedda9a",
   "metadata": {
    "tags": []
   },
   "outputs": [
    {
     "name": "stdout",
     "output_type": "stream",
     "text": [
      "\n",
      "Results for random forest regression on test data\n",
      "MAE is 0.0036372464629853027\n",
      "RMSE is 0.004916573249658079\n",
      "MSE is 2.4172692519253404e-05\n",
      "R^2: 0.6430770955829259\n"
     ]
    }
   ],
   "source": [
    "y_test_pred = rfmodel.predict(X_test)\n",
    "print()\n",
    "print(f'Results for random forest regression on test data')\n",
    "print(f'MAE is {mean_absolute_error(y_test, y_test_pred)}')\n",
    "print(f'RMSE is {np.sqrt(mean_squared_error(y_test, y_test_pred))}')\n",
    "print(f'MSE is {mean_squared_error(y_test, y_test_pred)}')\n",
    "print(f'R^2: {r2_score(y_test, y_test_pred)}')"
   ]
  },
  {
   "cell_type": "code",
   "execution_count": 29,
   "id": "2865f15b-027b-4c22-89cb-49d4383e40a0",
   "metadata": {
    "tags": []
   },
   "outputs": [
    {
     "name": "stdout",
     "output_type": "stream",
     "text": [
      "MAE is 0.006797221772488456\n",
      "RMSE is 0.00909196462590496\n",
      "MSE is 8.266382075870712e-05\n",
      "R^2: -0.23075036705173146\n"
     ]
    }
   ],
   "source": [
    "from sklearn.neural_network import MLPRegressor\n",
    "from sklearn.preprocessing import StandardScaler\n",
    "\n",
    "mlpmodel = MLPRegressor(hidden_layer_sizes=(100,400,100), activation='tanh', random_state =123, max_iter=2000)\n",
    "sc_X = StandardScaler()\n",
    "X_trainscaled=sc_X.fit_transform(X)\n",
    "X_testscaled=sc_X.transform(X_test)\n",
    "mlpmodel.fit(X_trainscaled,y)\n",
    "y_pred = mlpmodel.predict(X_trainscaled)\n",
    "print(f'MAE is {mean_absolute_error(y, y_pred)}')\n",
    "print(f'RMSE is {np.sqrt(mean_squared_error(y, y_pred))}')\n",
    "print(f'MSE is {mean_squared_error(y, y_pred)}')\n",
    "print(f'R^2: {r2_score(y, y_pred)}')"
   ]
  },
  {
   "cell_type": "code",
   "execution_count": 30,
   "id": "7390fa7e-1666-415a-a7c6-3ece9579889d",
   "metadata": {},
   "outputs": [
    {
     "name": "stdout",
     "output_type": "stream",
     "text": [
      "\n",
      "Results for linear regression on test data\n",
      "MAE is 0.007075138564431895\n",
      "RMSE is 0.00931958637475207\n",
      "MSE is 8.68546901964644e-05\n",
      "R^2: -0.282456567983711\n"
     ]
    }
   ],
   "source": [
    "y_test_pred = mlpmodel.predict(X_testscaled)\n",
    "print()\n",
    "print(f'Results for linear regression on test data')\n",
    "print(f'MAE is {mean_absolute_error(y_test, y_test_pred)}')\n",
    "print(f'RMSE is {np.sqrt(mean_squared_error(y_test, y_test_pred))}')\n",
    "print(f'MSE is {mean_squared_error(y_test, y_test_pred)}')\n",
    "print(f'R^2: {r2_score(y_test, y_test_pred)}')"
   ]
  },
  {
   "cell_type": "code",
   "execution_count": 31,
   "id": "a40b1163-25db-4548-867a-870e8fb15eca",
   "metadata": {},
   "outputs": [
    {
     "name": "stdout",
     "output_type": "stream",
     "text": [
      "MAE is 0.01988643199600008\n",
      "RMSE is 0.026082069772010785\n",
      "MSE is 0.0006802743635920388\n",
      "R^2: -9.128347746357901\n"
     ]
    }
   ],
   "source": [
    "from sklearn.neural_network import MLPRegressor\n",
    "from sklearn.preprocessing import StandardScaler\n",
    "\n",
    "mlpmodel = MLPRegressor(hidden_layer_sizes=(25,50,25), activation='tanh', random_state =123, max_iter=2000)\n",
    "sc_X = StandardScaler()\n",
    "X_trainscaled=sc_X.fit_transform(X)\n",
    "X_testscaled=sc_X.transform(X_test)\n",
    "mlpmodel.fit(X_trainscaled,y)\n",
    "y_pred = mlpmodel.predict(X_trainscaled)\n",
    "print(f'MAE is {mean_absolute_error(y, y_pred)}')\n",
    "print(f'RMSE is {np.sqrt(mean_squared_error(y, y_pred))}')\n",
    "print(f'MSE is {mean_squared_error(y, y_pred)}')\n",
    "print(f'R^2: {r2_score(y, y_pred)}')"
   ]
  },
  {
   "cell_type": "code",
   "execution_count": 32,
   "id": "d25ffcef-f2f3-47f3-af36-33c2077bf431",
   "metadata": {},
   "outputs": [
    {
     "name": "stdout",
     "output_type": "stream",
     "text": [
      "\n",
      "Results for linear regression on test data\n",
      "MAE is 0.019089210198473847\n",
      "RMSE is 0.02560459519676495\n",
      "MSE is 0.0006555952951901987\n",
      "R^2: -8.680219805678561\n"
     ]
    }
   ],
   "source": [
    "y_test_pred = mlpmodel.predict(X_testscaled)\n",
    "print()\n",
    "print(f'Results for linear regression on test data')\n",
    "print(f'MAE is {mean_absolute_error(y_test, y_test_pred)}')\n",
    "print(f'RMSE is {np.sqrt(mean_squared_error(y_test, y_test_pred))}')\n",
    "print(f'MSE is {mean_squared_error(y_test, y_test_pred)}')\n",
    "print(f'R^2: {r2_score(y_test, y_test_pred)}')"
   ]
  },
  {
   "cell_type": "code",
   "execution_count": 33,
   "id": "bf13f319-ee51-4e7b-bfa7-2e6333da12f6",
   "metadata": {},
   "outputs": [
    {
     "name": "stdout",
     "output_type": "stream",
     "text": [
      "Results for linear regression on training data\n",
      "Input: Height, age\n",
      "    Default Settings\n",
      "Internal Parameters:\n",
      "   Bias is 0.03281751347715747\n",
      "   Coefficients: [-8.31826904e-06 -2.63873659e-03  1.67956031e-04 -2.87164039e-04]\n",
      "   Score 0.6391266234261839\n",
      "MAE is 0.0036774340702419262\n",
      "RMSE is 0.004923230528721069\n",
      "MSE is 2.423819883893114e-05\n",
      "R^2: 0.6391266234261839\n"
     ]
    }
   ],
   "source": [
    "X = train_set[['stp', 'wind_speed', 'max_temp' , 'dewpoint']]\n",
    "y = train_set['value']\n",
    "\n",
    "X_test = test_set[['stp', 'wind_speed', 'max_temp' , 'dewpoint']]\n",
    "y_test = test_set['value']\n",
    "\n",
    "lrmodel = LinearRegression()\n",
    "lrmodel.fit(X,y)\n",
    "\n",
    "y_pred = lrmodel.predict(X)\n",
    "print(f'Results for linear regression on training data')\n",
    "print(f'Input: Height, age')\n",
    "print(f'    Default Settings')\n",
    "print('Internal Parameters:')\n",
    "print(f'   Bias is {lrmodel.intercept_}')\n",
    "print(f'   Coefficients: {lrmodel.coef_}')\n",
    "print(f'   Score {lrmodel.score(X,y)}')\n",
    "\n",
    "print(f'MAE is {mean_absolute_error(y, y_pred)}')\n",
    "print(f'RMSE is {np.sqrt(mean_squared_error(y, y_pred))}')\n",
    "print(f'MSE is {mean_squared_error(y, y_pred)}')\n",
    "print(f'R^2: {r2_score(y, y_pred)}')"
   ]
  },
  {
   "cell_type": "code",
   "execution_count": 34,
   "id": "89d1c0bf-ef36-47ae-9bff-b34b400915ec",
   "metadata": {},
   "outputs": [
    {
     "name": "stdout",
     "output_type": "stream",
     "text": [
      "Results for linear regression on training data\n",
      "    Default Settings\n",
      "Internal Parameters:\n",
      "   Bias is 0.02697364742425181\n",
      "   Coefficients: [-0.0029801]\n",
      "   Score 0.4659905938757001\n",
      "MAE is 0.004674262749685398\n",
      "RMSE is 0.005988901962163799\n",
      "MSE is 3.58669467124094e-05\n",
      "R^2: 0.4659905938757001\n"
     ]
    }
   ],
   "source": [
    "X = train_set[['wind_speed']]\n",
    "y = train_set['value']\n",
    "\n",
    "X_test = test_set[['wind_speed']]\n",
    "y_test = test_set['value']\n",
    "\n",
    "lrmodel = LinearRegression()\n",
    "lrmodel.fit(X,y)\n",
    "\n",
    "y_pred = lrmodel.predict(X)\n",
    "print(f'Results for linear regression on training data')\n",
    "print(f'    Default Settings')\n",
    "print('Internal Parameters:')\n",
    "print(f'   Bias is {lrmodel.intercept_}')\n",
    "print(f'   Coefficients: {lrmodel.coef_}')\n",
    "print(f'   Score {lrmodel.score(X,y)}')\n",
    "\n",
    "print(f'MAE is {mean_absolute_error(y, y_pred)}')\n",
    "print(f'RMSE is {np.sqrt(mean_squared_error(y, y_pred))}')\n",
    "print(f'MSE is {mean_squared_error(y, y_pred)}')\n",
    "print(f'R^2: {r2_score(y, y_pred)}')"
   ]
  },
  {
   "cell_type": "code",
   "execution_count": 35,
   "id": "eebdedb9-86dc-4c08-a855-c672e3b09503",
   "metadata": {},
   "outputs": [
    {
     "name": "stdout",
     "output_type": "stream",
     "text": [
      "Results for linear regression on training data\n",
      "Internal Parameters:\n",
      "   Bias is 0.024799405583871073\n",
      "   Coefficients: [-0.00110766]\n",
      "   Score 0.18614956963949847\n",
      "MAE is 0.0061137644573721365\n",
      "RMSE is 0.007393414401126418\n",
      "MSE is 5.466257650678351e-05\n",
      "R^2: 0.18614956963949847\n"
     ]
    }
   ],
   "source": [
    "X = train_set[['max_sustained_wind']]\n",
    "y = train_set['value']\n",
    "\n",
    "X_test = test_set[['max_sustained_wind']]\n",
    "y_test = test_set['value']\n",
    "\n",
    "lrmodel = LinearRegression()\n",
    "lrmodel.fit(X,y)\n",
    "\n",
    "y_pred = lrmodel.predict(X)\n",
    "print(f'Results for linear regression on training data')\n",
    "print('Internal Parameters:')\n",
    "print(f'   Bias is {lrmodel.intercept_}')\n",
    "print(f'   Coefficients: {lrmodel.coef_}')\n",
    "print(f'   Score {lrmodel.score(X,y)}')\n",
    "\n",
    "print(f'MAE is {mean_absolute_error(y, y_pred)}')\n",
    "print(f'RMSE is {np.sqrt(mean_squared_error(y, y_pred))}')\n",
    "print(f'MSE is {mean_squared_error(y, y_pred)}')\n",
    "print(f'R^2: {r2_score(y, y_pred)}')"
   ]
  },
  {
   "cell_type": "code",
   "execution_count": 36,
   "id": "ffd72b2d-62b5-4018-bfff-07bcffb9e700",
   "metadata": {},
   "outputs": [
    {
     "name": "stdout",
     "output_type": "stream",
     "text": [
      "Results for linear regression on training data\n",
      "Internal Parameters:\n",
      "   Bias is -0.7730912047919527\n",
      "   Coefficients: [ 6.03256356e-12  1.43433244e-03  5.24687425e-01 -1.39515798e-01\n",
      "  9.14828173e-02  6.67952058e-03 -1.29365603e-02 -2.71724828e-03\n",
      "  7.20043194e-03 -6.29695405e-07 -5.94443360e-04  1.34713947e-04\n",
      " -9.07824334e-05 -5.20110038e-06  1.19608126e-05  1.47664418e-06\n",
      " -7.01758556e-06  9.59816818e-04 -9.84546659e-04  4.30649593e-05\n",
      " -1.11192165e-03 -6.18638566e-04  1.72131663e-03  1.54013848e-03\n",
      "  1.16545055e-04  4.09603184e-05 -5.69845673e-05  1.53151264e-06\n",
      "  7.87282399e-05  4.54228622e-05  6.87172623e-06 -9.07412922e-06\n",
      " -2.33930175e-05  5.29126571e-06 -1.77465790e-05  1.83319418e-05\n",
      "  2.87277305e-06 -5.34396835e-05 -4.99874977e-06 -1.97409491e-06\n",
      "  2.71297986e-05 -1.64216638e-05  2.02560222e-05  1.50051273e-05\n",
      " -1.81105768e-06]\n",
      "   Score 0.7520277145213436\n",
      "MAE is 0.003045019209618236\n",
      "RMSE is 0.004081072619381468\n",
      "MSE is 1.6655153724665114e-05\n",
      "R^2: 0.7520277145213436\n"
     ]
    }
   ],
   "source": [
    "power = 2\n",
    "poly_process = PolynomialFeatures(degree = power, include_bias=True)\n",
    "\n",
    "X = train_set[['stp', 'precipitation' ,'wind_speed', 'max_sustained_wind', 'max_temp', 'min_temp','temperature', 'dewpoint']]\n",
    "y = train_set['value']\n",
    "\n",
    "X_poly = poly_process.fit_transform(X)\n",
    "\n",
    "X_test = test_set[['stp', 'precipitation', 'wind_speed', 'max_sustained_wind', 'max_temp', 'min_temp','temperature', 'dewpoint']]\n",
    "y_test = test_set['value']\n",
    "\n",
    "X_poly_test = poly_process.fit_transform(X_test)\n",
    "\n",
    "lrmodel = LinearRegression()\n",
    "lrmodel.fit(X_poly ,y)\n",
    "\n",
    "y_pred = lrmodel.predict(X_poly)\n",
    "print(f'Results for linear regression on training data')\n",
    "print('Internal Parameters:')\n",
    "print(f'   Bias is {lrmodel.intercept_}')\n",
    "print(f'   Coefficients: {lrmodel.coef_}')\n",
    "print(f'   Score {lrmodel.score(X_poly,y)}')\n",
    "\n",
    "print(f'MAE is {mean_absolute_error(y, y_pred)}')\n",
    "print(f'RMSE is {np.sqrt(mean_squared_error(y, y_pred))}')\n",
    "print(f'MSE is {mean_squared_error(y, y_pred)}')\n",
    "print(f'R^2: {r2_score(y, y_pred)}')"
   ]
  },
  {
   "cell_type": "code",
   "execution_count": 37,
   "id": "b8346af0-a4d1-4b49-acf0-536baa4ed560",
   "metadata": {},
   "outputs": [
    {
     "name": "stdout",
     "output_type": "stream",
     "text": [
      "\n",
      "Results for linear regression on test data\n",
      "    Polynomial regression with degree 2\n",
      "MAE is 0.003491482096378543\n",
      "RMSE is 0.005424698928939287\n",
      "MSE is 2.9427358469635043e-05\n",
      "R^2: 0.5654891052811468\n"
     ]
    }
   ],
   "source": [
    "y_test_pred = lrmodel.predict(X_poly_test)\n",
    "print()\n",
    "print(f'Results for linear regression on test data')\n",
    "print(f'    Polynomial regression with degree {power}')\n",
    "print(f'MAE is {mean_absolute_error(y_test, y_test_pred)}')\n",
    "print(f'RMSE is {np.sqrt(mean_squared_error(y_test, y_test_pred))}')\n",
    "print(f'MSE is {mean_squared_error(y_test, y_test_pred)}')\n",
    "print(f'R^2: {r2_score(y_test, y_test_pred)}')"
   ]
  },
  {
   "cell_type": "code",
   "execution_count": null,
   "id": "2b5a3e14-b0ed-4c16-b74b-f6d90b3dbb79",
   "metadata": {},
   "outputs": [],
   "source": []
  }
 ],
 "metadata": {
  "kernelspec": {
   "display_name": "Python 3 (ipykernel)",
   "language": "python",
   "name": "python3"
  },
  "language_info": {
   "codemirror_mode": {
    "name": "ipython",
    "version": 3
   },
   "file_extension": ".py",
   "mimetype": "text/x-python",
   "name": "python",
   "nbconvert_exporter": "python",
   "pygments_lexer": "ipython3",
   "version": "3.9.13"
  }
 },
 "nbformat": 4,
 "nbformat_minor": 5
}
