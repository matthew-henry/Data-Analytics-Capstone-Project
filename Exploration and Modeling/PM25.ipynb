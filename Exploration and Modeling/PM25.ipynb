{
 "cells": [
  {
   "cell_type": "code",
   "execution_count": 1,
   "id": "e3695830-cdc0-4b49-8cc8-80f9faa450a0",
   "metadata": {},
   "outputs": [],
   "source": [
    "import pandas as pd\n",
    "import sklearn"
   ]
  },
  {
   "cell_type": "code",
   "execution_count": 2,
   "id": "dabaa42b-b9ae-4aae-9435-7e3a25106bcf",
   "metadata": {},
   "outputs": [],
   "source": [
    "df = pd.read_csv('LA pm25.csv', parse_dates=['date', 'utc','local'], index_col='utc')"
   ]
  },
  {
   "cell_type": "code",
   "execution_count": 3,
   "id": "19159250-1b7d-4724-b8d0-7b6b9c0b99d8",
   "metadata": {},
   "outputs": [
    {
     "data": {
      "text/html": [
       "<div>\n",
       "<style scoped>\n",
       "    .dataframe tbody tr th:only-of-type {\n",
       "        vertical-align: middle;\n",
       "    }\n",
       "\n",
       "    .dataframe tbody tr th {\n",
       "        vertical-align: top;\n",
       "    }\n",
       "\n",
       "    .dataframe thead th {\n",
       "        text-align: right;\n",
       "    }\n",
       "</style>\n",
       "<table border=\"1\" class=\"dataframe\">\n",
       "  <thead>\n",
       "    <tr style=\"text-align: right;\">\n",
       "      <th></th>\n",
       "      <th>parameter</th>\n",
       "      <th>location</th>\n",
       "      <th>value</th>\n",
       "      <th>concentration_units</th>\n",
       "      <th>city</th>\n",
       "      <th>country</th>\n",
       "      <th>sourcename</th>\n",
       "      <th>sourcetype</th>\n",
       "      <th>mobile</th>\n",
       "      <th>latitude</th>\n",
       "      <th>...</th>\n",
       "      <th>stp</th>\n",
       "      <th>visibility</th>\n",
       "      <th>wind_speed</th>\n",
       "      <th>max_sustained_wind</th>\n",
       "      <th>gust</th>\n",
       "      <th>max_temp</th>\n",
       "      <th>min_temp</th>\n",
       "      <th>precipitation</th>\n",
       "      <th>snow_depth</th>\n",
       "      <th>weather_events</th>\n",
       "    </tr>\n",
       "    <tr>\n",
       "      <th>utc</th>\n",
       "      <th></th>\n",
       "      <th></th>\n",
       "      <th></th>\n",
       "      <th></th>\n",
       "      <th></th>\n",
       "      <th></th>\n",
       "      <th></th>\n",
       "      <th></th>\n",
       "      <th></th>\n",
       "      <th></th>\n",
       "      <th></th>\n",
       "      <th></th>\n",
       "      <th></th>\n",
       "      <th></th>\n",
       "      <th></th>\n",
       "      <th></th>\n",
       "      <th></th>\n",
       "      <th></th>\n",
       "      <th></th>\n",
       "      <th></th>\n",
       "      <th></th>\n",
       "    </tr>\n",
       "  </thead>\n",
       "  <tbody>\n",
       "    <tr>\n",
       "      <th>2020-01-02 16:00:00</th>\n",
       "      <td>pm25</td>\n",
       "      <td>North Holywood</td>\n",
       "      <td>12.9</td>\n",
       "      <td>µg/m³</td>\n",
       "      <td>Los Angeles-Long Beach-Santa Ana</td>\n",
       "      <td>US</td>\n",
       "      <td>AirNow</td>\n",
       "      <td>government</td>\n",
       "      <td>False</td>\n",
       "      <td>34.181976</td>\n",
       "      <td>...</td>\n",
       "      <td>986.8</td>\n",
       "      <td>10.0</td>\n",
       "      <td>4.5</td>\n",
       "      <td>12.0</td>\n",
       "      <td>NaN</td>\n",
       "      <td>68.0</td>\n",
       "      <td>43.0</td>\n",
       "      <td>0.0</td>\n",
       "      <td>0</td>\n",
       "      <td>NaN</td>\n",
       "    </tr>\n",
       "    <tr>\n",
       "      <th>2020-01-02 22:00:00</th>\n",
       "      <td>pm25</td>\n",
       "      <td>North Holywood</td>\n",
       "      <td>13.5</td>\n",
       "      <td>µg/m³</td>\n",
       "      <td>Los Angeles-Long Beach-Santa Ana</td>\n",
       "      <td>US</td>\n",
       "      <td>AirNow</td>\n",
       "      <td>government</td>\n",
       "      <td>False</td>\n",
       "      <td>34.181976</td>\n",
       "      <td>...</td>\n",
       "      <td>986.8</td>\n",
       "      <td>10.0</td>\n",
       "      <td>4.5</td>\n",
       "      <td>12.0</td>\n",
       "      <td>NaN</td>\n",
       "      <td>68.0</td>\n",
       "      <td>43.0</td>\n",
       "      <td>0.0</td>\n",
       "      <td>0</td>\n",
       "      <td>NaN</td>\n",
       "    </tr>\n",
       "    <tr>\n",
       "      <th>2020-01-02 17:00:00</th>\n",
       "      <td>pm25</td>\n",
       "      <td>North Holywood</td>\n",
       "      <td>14.4</td>\n",
       "      <td>µg/m³</td>\n",
       "      <td>Los Angeles-Long Beach-Santa Ana</td>\n",
       "      <td>US</td>\n",
       "      <td>AirNow</td>\n",
       "      <td>government</td>\n",
       "      <td>False</td>\n",
       "      <td>34.181976</td>\n",
       "      <td>...</td>\n",
       "      <td>986.8</td>\n",
       "      <td>10.0</td>\n",
       "      <td>4.5</td>\n",
       "      <td>12.0</td>\n",
       "      <td>NaN</td>\n",
       "      <td>68.0</td>\n",
       "      <td>43.0</td>\n",
       "      <td>0.0</td>\n",
       "      <td>0</td>\n",
       "      <td>NaN</td>\n",
       "    </tr>\n",
       "    <tr>\n",
       "      <th>2020-01-02 19:00:00</th>\n",
       "      <td>pm25</td>\n",
       "      <td>North Holywood</td>\n",
       "      <td>9.1</td>\n",
       "      <td>µg/m³</td>\n",
       "      <td>Los Angeles-Long Beach-Santa Ana</td>\n",
       "      <td>US</td>\n",
       "      <td>AirNow</td>\n",
       "      <td>government</td>\n",
       "      <td>False</td>\n",
       "      <td>34.181976</td>\n",
       "      <td>...</td>\n",
       "      <td>986.8</td>\n",
       "      <td>10.0</td>\n",
       "      <td>4.5</td>\n",
       "      <td>12.0</td>\n",
       "      <td>NaN</td>\n",
       "      <td>68.0</td>\n",
       "      <td>43.0</td>\n",
       "      <td>0.0</td>\n",
       "      <td>0</td>\n",
       "      <td>NaN</td>\n",
       "    </tr>\n",
       "    <tr>\n",
       "      <th>2020-01-02 18:00:00</th>\n",
       "      <td>pm25</td>\n",
       "      <td>North Holywood</td>\n",
       "      <td>11.0</td>\n",
       "      <td>µg/m³</td>\n",
       "      <td>Los Angeles-Long Beach-Santa Ana</td>\n",
       "      <td>US</td>\n",
       "      <td>AirNow</td>\n",
       "      <td>government</td>\n",
       "      <td>False</td>\n",
       "      <td>34.181976</td>\n",
       "      <td>...</td>\n",
       "      <td>986.8</td>\n",
       "      <td>10.0</td>\n",
       "      <td>4.5</td>\n",
       "      <td>12.0</td>\n",
       "      <td>NaN</td>\n",
       "      <td>68.0</td>\n",
       "      <td>43.0</td>\n",
       "      <td>0.0</td>\n",
       "      <td>0</td>\n",
       "      <td>NaN</td>\n",
       "    </tr>\n",
       "  </tbody>\n",
       "</table>\n",
       "<p>5 rows × 35 columns</p>\n",
       "</div>"
      ],
      "text/plain": [
       "                    parameter        location  value concentration_units  \\\n",
       "utc                                                                        \n",
       "2020-01-02 16:00:00      pm25  North Holywood   12.9               µg/m³   \n",
       "2020-01-02 22:00:00      pm25  North Holywood   13.5               µg/m³   \n",
       "2020-01-02 17:00:00      pm25  North Holywood   14.4               µg/m³   \n",
       "2020-01-02 19:00:00      pm25  North Holywood    9.1               µg/m³   \n",
       "2020-01-02 18:00:00      pm25  North Holywood   11.0               µg/m³   \n",
       "\n",
       "                                                 city country sourcename  \\\n",
       "utc                                                                        \n",
       "2020-01-02 16:00:00  Los Angeles-Long Beach-Santa Ana      US     AirNow   \n",
       "2020-01-02 22:00:00  Los Angeles-Long Beach-Santa Ana      US     AirNow   \n",
       "2020-01-02 17:00:00  Los Angeles-Long Beach-Santa Ana      US     AirNow   \n",
       "2020-01-02 19:00:00  Los Angeles-Long Beach-Santa Ana      US     AirNow   \n",
       "2020-01-02 18:00:00  Los Angeles-Long Beach-Santa Ana      US     AirNow   \n",
       "\n",
       "                     sourcetype  mobile   latitude  ...    stp visibility  \\\n",
       "utc                                                 ...                     \n",
       "2020-01-02 16:00:00  government   False  34.181976  ...  986.8       10.0   \n",
       "2020-01-02 22:00:00  government   False  34.181976  ...  986.8       10.0   \n",
       "2020-01-02 17:00:00  government   False  34.181976  ...  986.8       10.0   \n",
       "2020-01-02 19:00:00  government   False  34.181976  ...  986.8       10.0   \n",
       "2020-01-02 18:00:00  government   False  34.181976  ...  986.8       10.0   \n",
       "\n",
       "                    wind_speed  max_sustained_wind gust  max_temp  min_temp  \\\n",
       "utc                                                                           \n",
       "2020-01-02 16:00:00        4.5                12.0  NaN      68.0      43.0   \n",
       "2020-01-02 22:00:00        4.5                12.0  NaN      68.0      43.0   \n",
       "2020-01-02 17:00:00        4.5                12.0  NaN      68.0      43.0   \n",
       "2020-01-02 19:00:00        4.5                12.0  NaN      68.0      43.0   \n",
       "2020-01-02 18:00:00        4.5                12.0  NaN      68.0      43.0   \n",
       "\n",
       "                    precipitation  snow_depth  weather_events  \n",
       "utc                                                            \n",
       "2020-01-02 16:00:00           0.0           0             NaN  \n",
       "2020-01-02 22:00:00           0.0           0             NaN  \n",
       "2020-01-02 17:00:00           0.0           0             NaN  \n",
       "2020-01-02 19:00:00           0.0           0             NaN  \n",
       "2020-01-02 18:00:00           0.0           0             NaN  \n",
       "\n",
       "[5 rows x 35 columns]"
      ]
     },
     "execution_count": 3,
     "metadata": {},
     "output_type": "execute_result"
    }
   ],
   "source": [
    "df.head()"
   ]
  },
  {
   "cell_type": "code",
   "execution_count": 4,
   "id": "cac208e1-0ca7-4c4e-85b9-090b223cd7d5",
   "metadata": {},
   "outputs": [
    {
     "data": {
      "text/plain": [
       "Index(['parameter', 'location', 'value', 'concentration_units', 'city',\n",
       "       'country', 'sourcename', 'sourcetype', 'mobile', 'latitude',\n",
       "       'longitude', 'local', 'source', 'url', 'averaging_time_unit',\n",
       "       'averaging_time', 'station', 'date', 'latitude-2', 'longitude-2',\n",
       "       'elevation', 'name', 'temperature', 'dewpoint', 'slp', 'stp',\n",
       "       'visibility', 'wind_speed', 'max_sustained_wind', 'gust', 'max_temp',\n",
       "       'min_temp', 'precipitation', 'snow_depth', 'weather_events'],\n",
       "      dtype='object')"
      ]
     },
     "execution_count": 4,
     "metadata": {},
     "output_type": "execute_result"
    }
   ],
   "source": [
    "df.columns"
   ]
  },
  {
   "cell_type": "code",
   "execution_count": 5,
   "id": "66e5962c-db2a-4940-ae67-6645867919cf",
   "metadata": {},
   "outputs": [
    {
     "data": {
      "text/plain": [
       "0"
      ]
     },
     "execution_count": 5,
     "metadata": {},
     "output_type": "execute_result"
    }
   ],
   "source": [
    "df.value.isna().sum()"
   ]
  },
  {
   "cell_type": "code",
   "execution_count": 6,
   "id": "f45f06b3-2a07-4665-86fd-6d504badb9d0",
   "metadata": {},
   "outputs": [
    {
     "data": {
      "text/html": [
       "<div>\n",
       "<style scoped>\n",
       "    .dataframe tbody tr th:only-of-type {\n",
       "        vertical-align: middle;\n",
       "    }\n",
       "\n",
       "    .dataframe tbody tr th {\n",
       "        vertical-align: top;\n",
       "    }\n",
       "\n",
       "    .dataframe thead th {\n",
       "        text-align: right;\n",
       "    }\n",
       "</style>\n",
       "<table border=\"1\" class=\"dataframe\">\n",
       "  <thead>\n",
       "    <tr style=\"text-align: right;\">\n",
       "      <th></th>\n",
       "      <th>value</th>\n",
       "      <th>mobile</th>\n",
       "      <th>latitude</th>\n",
       "      <th>longitude</th>\n",
       "      <th>url</th>\n",
       "      <th>averaging_time</th>\n",
       "      <th>station</th>\n",
       "      <th>latitude-2</th>\n",
       "      <th>longitude-2</th>\n",
       "      <th>elevation</th>\n",
       "      <th>...</th>\n",
       "      <th>slp</th>\n",
       "      <th>stp</th>\n",
       "      <th>visibility</th>\n",
       "      <th>wind_speed</th>\n",
       "      <th>max_sustained_wind</th>\n",
       "      <th>gust</th>\n",
       "      <th>max_temp</th>\n",
       "      <th>min_temp</th>\n",
       "      <th>precipitation</th>\n",
       "      <th>snow_depth</th>\n",
       "    </tr>\n",
       "    <tr>\n",
       "      <th>utc</th>\n",
       "      <th></th>\n",
       "      <th></th>\n",
       "      <th></th>\n",
       "      <th></th>\n",
       "      <th></th>\n",
       "      <th></th>\n",
       "      <th></th>\n",
       "      <th></th>\n",
       "      <th></th>\n",
       "      <th></th>\n",
       "      <th></th>\n",
       "      <th></th>\n",
       "      <th></th>\n",
       "      <th></th>\n",
       "      <th></th>\n",
       "      <th></th>\n",
       "      <th></th>\n",
       "      <th></th>\n",
       "      <th></th>\n",
       "      <th></th>\n",
       "      <th></th>\n",
       "    </tr>\n",
       "  </thead>\n",
       "  <tbody>\n",
       "    <tr>\n",
       "      <th>2020-01-02</th>\n",
       "      <td>11.355556</td>\n",
       "      <td>0.0</td>\n",
       "      <td>34.181976</td>\n",
       "      <td>-118.36304</td>\n",
       "      <td>NaN</td>\n",
       "      <td>1.0</td>\n",
       "      <td>7.228802e+10</td>\n",
       "      <td>34.20056</td>\n",
       "      <td>-118.3575</td>\n",
       "      <td>225.9</td>\n",
       "      <td>...</td>\n",
       "      <td>1012.5</td>\n",
       "      <td>986.8</td>\n",
       "      <td>10.0</td>\n",
       "      <td>4.5</td>\n",
       "      <td>12.0</td>\n",
       "      <td>NaN</td>\n",
       "      <td>68.0</td>\n",
       "      <td>43.0</td>\n",
       "      <td>0.0</td>\n",
       "      <td>0.0</td>\n",
       "    </tr>\n",
       "    <tr>\n",
       "      <th>2020-01-03</th>\n",
       "      <td>18.295833</td>\n",
       "      <td>0.0</td>\n",
       "      <td>34.181976</td>\n",
       "      <td>-118.36304</td>\n",
       "      <td>NaN</td>\n",
       "      <td>1.0</td>\n",
       "      <td>7.228802e+10</td>\n",
       "      <td>34.20056</td>\n",
       "      <td>-118.3575</td>\n",
       "      <td>225.9</td>\n",
       "      <td>...</td>\n",
       "      <td>1019.9</td>\n",
       "      <td>994.0</td>\n",
       "      <td>10.0</td>\n",
       "      <td>1.6</td>\n",
       "      <td>6.0</td>\n",
       "      <td>NaN</td>\n",
       "      <td>73.0</td>\n",
       "      <td>45.0</td>\n",
       "      <td>0.0</td>\n",
       "      <td>0.0</td>\n",
       "    </tr>\n",
       "    <tr>\n",
       "      <th>2020-01-04</th>\n",
       "      <td>21.345833</td>\n",
       "      <td>0.0</td>\n",
       "      <td>34.181976</td>\n",
       "      <td>-118.36304</td>\n",
       "      <td>NaN</td>\n",
       "      <td>1.0</td>\n",
       "      <td>7.228802e+10</td>\n",
       "      <td>34.20056</td>\n",
       "      <td>-118.3575</td>\n",
       "      <td>225.9</td>\n",
       "      <td>...</td>\n",
       "      <td>1025.1</td>\n",
       "      <td>999.1</td>\n",
       "      <td>10.0</td>\n",
       "      <td>1.1</td>\n",
       "      <td>6.0</td>\n",
       "      <td>NaN</td>\n",
       "      <td>73.0</td>\n",
       "      <td>42.1</td>\n",
       "      <td>0.0</td>\n",
       "      <td>0.0</td>\n",
       "    </tr>\n",
       "    <tr>\n",
       "      <th>2020-01-05</th>\n",
       "      <td>20.958333</td>\n",
       "      <td>0.0</td>\n",
       "      <td>34.181976</td>\n",
       "      <td>-118.36304</td>\n",
       "      <td>NaN</td>\n",
       "      <td>1.0</td>\n",
       "      <td>7.228802e+10</td>\n",
       "      <td>34.20056</td>\n",
       "      <td>-118.3575</td>\n",
       "      <td>225.9</td>\n",
       "      <td>...</td>\n",
       "      <td>1024.2</td>\n",
       "      <td>998.0</td>\n",
       "      <td>10.0</td>\n",
       "      <td>2.8</td>\n",
       "      <td>11.1</td>\n",
       "      <td>18.100000</td>\n",
       "      <td>73.0</td>\n",
       "      <td>42.1</td>\n",
       "      <td>0.0</td>\n",
       "      <td>0.0</td>\n",
       "    </tr>\n",
       "    <tr>\n",
       "      <th>2020-01-06</th>\n",
       "      <td>11.992857</td>\n",
       "      <td>0.0</td>\n",
       "      <td>34.181976</td>\n",
       "      <td>-118.36304</td>\n",
       "      <td>NaN</td>\n",
       "      <td>1.0</td>\n",
       "      <td>7.228802e+10</td>\n",
       "      <td>34.20056</td>\n",
       "      <td>-118.3575</td>\n",
       "      <td>225.9</td>\n",
       "      <td>...</td>\n",
       "      <td>1023.5</td>\n",
       "      <td>997.6</td>\n",
       "      <td>10.0</td>\n",
       "      <td>2.5</td>\n",
       "      <td>6.0</td>\n",
       "      <td>16.733333</td>\n",
       "      <td>75.0</td>\n",
       "      <td>42.1</td>\n",
       "      <td>0.0</td>\n",
       "      <td>0.0</td>\n",
       "    </tr>\n",
       "  </tbody>\n",
       "</table>\n",
       "<p>5 rows × 22 columns</p>\n",
       "</div>"
      ],
      "text/plain": [
       "                value  mobile   latitude  longitude  url  averaging_time  \\\n",
       "utc                                                                        \n",
       "2020-01-02  11.355556     0.0  34.181976 -118.36304  NaN             1.0   \n",
       "2020-01-03  18.295833     0.0  34.181976 -118.36304  NaN             1.0   \n",
       "2020-01-04  21.345833     0.0  34.181976 -118.36304  NaN             1.0   \n",
       "2020-01-05  20.958333     0.0  34.181976 -118.36304  NaN             1.0   \n",
       "2020-01-06  11.992857     0.0  34.181976 -118.36304  NaN             1.0   \n",
       "\n",
       "                 station  latitude-2  longitude-2  elevation  ...     slp  \\\n",
       "utc                                                           ...           \n",
       "2020-01-02  7.228802e+10    34.20056    -118.3575      225.9  ...  1012.5   \n",
       "2020-01-03  7.228802e+10    34.20056    -118.3575      225.9  ...  1019.9   \n",
       "2020-01-04  7.228802e+10    34.20056    -118.3575      225.9  ...  1025.1   \n",
       "2020-01-05  7.228802e+10    34.20056    -118.3575      225.9  ...  1024.2   \n",
       "2020-01-06  7.228802e+10    34.20056    -118.3575      225.9  ...  1023.5   \n",
       "\n",
       "              stp  visibility  wind_speed  max_sustained_wind       gust  \\\n",
       "utc                                                                        \n",
       "2020-01-02  986.8        10.0         4.5                12.0        NaN   \n",
       "2020-01-03  994.0        10.0         1.6                 6.0        NaN   \n",
       "2020-01-04  999.1        10.0         1.1                 6.0        NaN   \n",
       "2020-01-05  998.0        10.0         2.8                11.1  18.100000   \n",
       "2020-01-06  997.6        10.0         2.5                 6.0  16.733333   \n",
       "\n",
       "            max_temp  min_temp  precipitation  snow_depth  \n",
       "utc                                                        \n",
       "2020-01-02      68.0      43.0            0.0         0.0  \n",
       "2020-01-03      73.0      45.0            0.0         0.0  \n",
       "2020-01-04      73.0      42.1            0.0         0.0  \n",
       "2020-01-05      73.0      42.1            0.0         0.0  \n",
       "2020-01-06      75.0      42.1            0.0         0.0  \n",
       "\n",
       "[5 rows x 22 columns]"
      ]
     },
     "execution_count": 6,
     "metadata": {},
     "output_type": "execute_result"
    }
   ],
   "source": [
    "df = df.resample('d').mean()\n",
    "df = df.interpolate(method='time')\n",
    "df.head()"
   ]
  },
  {
   "cell_type": "code",
   "execution_count": 7,
   "id": "8209cd50-7758-41eb-a96b-d9c003979360",
   "metadata": {},
   "outputs": [
    {
     "name": "stdout",
     "output_type": "stream",
     "text": [
      "Results for linear regression on training data\n",
      "Input: Height, age\n",
      "    Default Settings\n",
      "Internal Parameters:\n",
      "   Bias is 264.5094346781485\n",
      "   Coefficients: [-0.2535813  -0.62651179 -0.35701325  0.44027779 -0.16480394 -0.37586064\n",
      "  0.14215903]\n",
      "   Score 0.19438899673401866\n",
      "MAE is 3.870967987634164\n",
      "RMSE is 6.8867459752794105\n",
      "MSE is 47.42727012802716\n",
      "R^2: 0.19438899673401866\n"
     ]
    }
   ],
   "source": [
    "from sklearn.model_selection import train_test_split\n",
    "from sklearn.linear_model import LinearRegression\n",
    "from sklearn.metrics import mean_absolute_error\n",
    "from sklearn.metrics import mean_squared_error\n",
    "from sklearn.metrics import r2_score\n",
    "import numpy as np\n",
    "\n",
    "train_set, test_set = train_test_split(df, test_size = 0.2, random_state = 123)\n",
    "X = train_set[['stp', 'wind_speed', 'max_sustained_wind', 'max_temp', 'min_temp','temperature', 'dewpoint']]\n",
    "y = train_set['value']\n",
    "\n",
    "X_test = test_set[['stp', 'wind_speed', 'max_sustained_wind', 'max_temp', 'min_temp','temperature', 'dewpoint']]\n",
    "y_test = test_set['value']\n",
    "\n",
    "lrmodel = LinearRegression()\n",
    "lrmodel.fit(X,y)\n",
    "\n",
    "y_pred = lrmodel.predict(X)\n",
    "print(f'Results for linear regression on training data')\n",
    "print(f'Input: Height, age')\n",
    "print(f'    Default Settings')\n",
    "print('Internal Parameters:')\n",
    "print(f'   Bias is {lrmodel.intercept_}')\n",
    "print(f'   Coefficients: {lrmodel.coef_}')\n",
    "print(f'   Score {lrmodel.score(X,y)}')\n",
    "\n",
    "print(f'MAE is {mean_absolute_error(y, y_pred)}')\n",
    "print(f'RMSE is {np.sqrt(mean_squared_error(y, y_pred))}')\n",
    "print(f'MSE is {mean_squared_error(y, y_pred)}')\n",
    "print(f'R^2: {r2_score(y, y_pred)}')"
   ]
  },
  {
   "cell_type": "code",
   "execution_count": 8,
   "id": "63734a0b-4e1d-47e1-aaca-197e960a8a22",
   "metadata": {},
   "outputs": [
    {
     "name": "stdout",
     "output_type": "stream",
     "text": [
      "Results for linear regression on training data\n",
      "Internal Parameters:\n",
      "   Bias is -6548.73182767346\n",
      "   Coefficients: [-1.42549783e-09  1.34616338e+01 -1.16108084e+02  5.50842222e+01\n",
      " -4.20581372e+01 -2.50570675e+01  7.19401897e+01  1.68909977e+00\n",
      " -6.90752301e-03  1.13787856e-01 -5.53662854e-02  4.29475066e-02\n",
      "  2.48745405e-02 -7.27414998e-02 -1.26504147e-03  1.56951642e-01\n",
      " -2.52946454e-02 -1.55325860e-02  9.92949600e-02 -5.24640310e-02\n",
      "  1.66289260e-02  1.84652757e-02  4.97964420e-03 -5.03400328e-02\n",
      "  2.84699550e-02 -1.78639663e-02  1.70908008e-03  1.04341288e-02\n",
      " -1.91914377e-02  1.04913254e-02 -3.30695847e-02  5.10576726e-02\n",
      " -5.07671952e-03 -8.68064878e-03 -1.23625727e-02  1.24597682e-03]\n",
      "   Score 0.25207746914536533\n",
      "MAE is 3.742200289460802\n",
      "RMSE is 6.635592038623982\n",
      "MSE is 44.03108170304998\n",
      "R^2: 0.25207746914536533\n"
     ]
    }
   ],
   "source": [
    "from sklearn.preprocessing import PolynomialFeatures\n",
    "from sklearn.linear_model import SGDRegressor\n",
    "\n",
    "power = 2\n",
    "poly_process = PolynomialFeatures(degree = power, include_bias=True)\n",
    "\n",
    "train_set, test_set = train_test_split(df, test_size = 0.2, random_state = 123)\n",
    "X = train_set[['stp', 'wind_speed', 'max_sustained_wind', 'max_temp', 'min_temp','temperature', 'dewpoint']]\n",
    "y = train_set['value']\n",
    "\n",
    "X_poly = poly_process.fit_transform(X)\n",
    "\n",
    "X_test = test_set[['stp', 'wind_speed', 'max_sustained_wind', 'max_temp', 'min_temp','temperature', 'dewpoint']]\n",
    "y_test = test_set['value']\n",
    "\n",
    "X_poly_test = poly_process.fit_transform(X_test)\n",
    "\n",
    "lrmodel = LinearRegression()\n",
    "lrmodel.fit(X_poly ,y)\n",
    "\n",
    "y_pred = lrmodel.predict(X_poly)\n",
    "print(f'Results for linear regression on training data')\n",
    "print('Internal Parameters:')\n",
    "print(f'   Bias is {lrmodel.intercept_}')\n",
    "print(f'   Coefficients: {lrmodel.coef_}')\n",
    "print(f'   Score {lrmodel.score(X_poly,y)}')\n",
    "\n",
    "print(f'MAE is {mean_absolute_error(y, y_pred)}')\n",
    "print(f'RMSE is {np.sqrt(mean_squared_error(y, y_pred))}')\n",
    "print(f'MSE is {mean_squared_error(y, y_pred)}')\n",
    "print(f'R^2: {r2_score(y, y_pred)}')"
   ]
  },
  {
   "cell_type": "code",
   "execution_count": 9,
   "id": "70b79f2e-de86-4cc1-b9a7-e8c58383ec35",
   "metadata": {},
   "outputs": [
    {
     "name": "stdout",
     "output_type": "stream",
     "text": [
      "\n",
      "Results for linear regression on test data\n",
      "    Polynomial regression with degree 2\n",
      "MAE is 3.5712581540857258\n",
      "RMSE is 5.0570149951620325\n",
      "MSE is 25.573400661293654\n",
      "R^2: 0.30576109397254647\n"
     ]
    }
   ],
   "source": [
    "y_test_pred = lrmodel.predict(X_poly_test)\n",
    "print()\n",
    "print(f'Results for linear regression on test data')\n",
    "print(f'    Polynomial regression with degree {power}')\n",
    "print(f'MAE is {mean_absolute_error(y_test, y_test_pred)}')\n",
    "print(f'RMSE is {np.sqrt(mean_squared_error(y_test, y_test_pred))}')\n",
    "print(f'MSE is {mean_squared_error(y_test, y_test_pred)}')\n",
    "print(f'R^2: {r2_score(y_test, y_test_pred)}')"
   ]
  },
  {
   "cell_type": "code",
   "execution_count": 10,
   "id": "93efacfd-5004-4a44-9f78-ea013f73645c",
   "metadata": {},
   "outputs": [
    {
     "name": "stdout",
     "output_type": "stream",
     "text": [
      "Results for linear regression on training data\n",
      "Internal Parameters:\n",
      "   Bias is 58073.99760086355\n",
      "   Coefficients: [ 2.59835785e-02 -6.23060234e+01 -9.99569335e+03  5.55161897e+03\n",
      " -1.75065966e+03  4.34929190e+03 -4.04027344e+03  7.75225709e+02\n",
      " -5.69447575e-02  1.96639427e+01 -1.09269821e+01  2.77092453e+00\n",
      " -9.29812081e+00  9.66977431e+00 -1.55516354e+00  9.73200890e+01\n",
      " -5.36769792e+01 -2.85909531e+01 -3.18010491e+00  3.67351041e+01\n",
      " -6.26855816e-01  6.53650291e+00  3.67671114e+01  3.03498255e+01\n",
      " -7.18075060e+01 -8.14956308e-01  3.34546866e+00  5.43959661e+00\n",
      " -1.04068266e+01  6.34666417e+00  1.04142443e+01 -1.48134227e+01\n",
      " -8.50014221e+00  6.63623293e+00 -6.79859050e-01 -2.58973469e-01\n",
      "  6.10483048e-05 -9.66180217e-03  5.38033452e-03 -1.01196357e-03\n",
      "  4.95413698e-03 -5.63799804e-03  7.80566371e-04 -9.51848382e-02\n",
      "  5.25202522e-02  3.04540917e-02  4.29251362e-03 -4.01377854e-02\n",
      "  4.66009004e-04 -6.46256933e-03 -3.75442442e-02 -3.14845999e-02\n",
      "  7.35702394e-02  7.40325345e-04 -3.25720865e-03 -5.73653725e-03\n",
      "  1.02522796e-02 -6.21316014e-03 -1.05473930e-02  1.53978593e-02\n",
      "  8.50342422e-03 -6.74905970e-03  4.56329143e-04  3.26874600e-04\n",
      " -2.19523769e-01  1.56809137e-01  2.43191215e-02 -8.08723652e-03\n",
      " -1.76822074e-02 -3.80780279e-02 -3.21498854e-02 -6.29236636e-02\n",
      " -1.65815270e-02  8.63725337e-02  2.59412977e-02 -1.42015898e-02\n",
      " -1.44126948e-02  3.72311532e-02 -7.81385513e-03 -2.98730464e-02\n",
      "  3.68071202e-02  2.90792722e-02 -2.06031192e-02 -5.92905073e-03\n",
      " -3.52017635e-03 -3.54792477e-03  1.07403630e-02  5.28475720e-03\n",
      " -1.18924174e-02 -2.14658157e-03  7.92953004e-03  1.68876881e-02\n",
      " -2.44328530e-02 -5.00820711e-03  2.39155058e-02 -3.84609790e-02\n",
      " -1.49511434e-02  1.71354543e-02  1.69785277e-02  9.48267570e-04\n",
      "  5.20840120e-03  1.57173671e-02 -3.09482668e-02 -5.86784515e-03\n",
      " -1.92491374e-03 -3.48954082e-02  9.68938963e-04  5.13068467e-02\n",
      "  1.36714885e-02 -1.18353006e-03 -1.62525259e-03  3.14524021e-03\n",
      "  3.04501550e-04  1.90296463e-02  1.03524228e-04  4.14044293e-04\n",
      " -2.52372393e-02 -8.32444394e-03 -4.99096601e-05  1.62693444e-04]\n",
      "   Score 0.3349394717077706\n",
      "MAE is 3.463425197320076\n",
      "RMSE is 6.25722764978945\n",
      "MSE is 39.15289786128961\n",
      "R^2: 0.3349394717077706\n"
     ]
    }
   ],
   "source": [
    "power = 3\n",
    "poly_process = PolynomialFeatures(degree = power, include_bias=True)\n",
    "\n",
    "train_set, test_set = train_test_split(df, test_size = 0.2, random_state = 123)\n",
    "X = train_set[['stp', 'wind_speed', 'max_sustained_wind', 'max_temp', 'min_temp','temperature', 'dewpoint']]\n",
    "y = train_set['value']\n",
    "\n",
    "X_poly = poly_process.fit_transform(X)\n",
    "\n",
    "X_test = test_set[['stp', 'wind_speed', 'max_sustained_wind', 'max_temp', 'min_temp','temperature', 'dewpoint']]\n",
    "y_test = test_set['value']\n",
    "\n",
    "X_poly_test = poly_process.fit_transform(X_test)\n",
    "\n",
    "lrmodel = LinearRegression()\n",
    "lrmodel.fit(X_poly ,y)\n",
    "\n",
    "y_pred = lrmodel.predict(X_poly)\n",
    "print(f'Results for linear regression on training data')\n",
    "print('Internal Parameters:')\n",
    "print(f'   Bias is {lrmodel.intercept_}')\n",
    "print(f'   Coefficients: {lrmodel.coef_}')\n",
    "print(f'   Score {lrmodel.score(X_poly,y)}')\n",
    "\n",
    "print(f'MAE is {mean_absolute_error(y, y_pred)}')\n",
    "print(f'RMSE is {np.sqrt(mean_squared_error(y, y_pred))}')\n",
    "print(f'MSE is {mean_squared_error(y, y_pred)}')\n",
    "print(f'R^2: {r2_score(y, y_pred)}')"
   ]
  },
  {
   "cell_type": "code",
   "execution_count": 11,
   "id": "9be43073-4f80-465e-a92f-9d603b862d1f",
   "metadata": {},
   "outputs": [
    {
     "name": "stdout",
     "output_type": "stream",
     "text": [
      "\n",
      "Results for linear regression on test data\n",
      "    Polynomial regression with degree 3\n",
      "MAE is 3.956253089208536\n",
      "RMSE is 5.700748370958527\n",
      "MSE is 32.4985319889863\n",
      "R^2: 0.11776515003418608\n"
     ]
    }
   ],
   "source": [
    "y_test_pred = lrmodel.predict(X_poly_test)\n",
    "print()\n",
    "print(f'Results for linear regression on test data')\n",
    "print(f'    Polynomial regression with degree {power}')\n",
    "print(f'MAE is {mean_absolute_error(y_test, y_test_pred)}')\n",
    "print(f'RMSE is {np.sqrt(mean_squared_error(y_test, y_test_pred))}')\n",
    "print(f'MSE is {mean_squared_error(y_test, y_test_pred)}')\n",
    "print(f'R^2: {r2_score(y_test, y_test_pred)}')"
   ]
  },
  {
   "cell_type": "code",
   "execution_count": 12,
   "id": "7632d993-2cbb-48a2-bcd0-41fb805b04b2",
   "metadata": {},
   "outputs": [
    {
     "name": "stdout",
     "output_type": "stream",
     "text": [
      "MAE is 1.4018854980585693\n",
      "RMSE is 2.5068236552692245\n",
      "MSE is 6.284164838617356\n",
      "R^2: 0.8932556664834144\n"
     ]
    }
   ],
   "source": [
    "from sklearn.ensemble import RandomForestRegressor\n",
    "rfmodel = RandomForestRegressor(n_estimators=1000, max_features = 'sqrt', max_depth =100,random_state =123)\n",
    "rfmodel.fit(X,y)\n",
    "\n",
    "y_pred = rfmodel.predict(X)\n",
    "print(f'MAE is {mean_absolute_error(y, y_pred)}')\n",
    "print(f'RMSE is {np.sqrt(mean_squared_error(y, y_pred))}')\n",
    "print(f'MSE is {mean_squared_error(y, y_pred)}')\n",
    "print(f'R^2: {r2_score(y, y_pred)}')\n"
   ]
  },
  {
   "cell_type": "code",
   "execution_count": 13,
   "id": "08192a54-5470-4ded-b398-37516dcf68b6",
   "metadata": {},
   "outputs": [
    {
     "name": "stdout",
     "output_type": "stream",
     "text": [
      "\n",
      "Results for linear regression on test data\n",
      "    Polynomial regression with degree 3\n",
      "MAE is 3.6804231382569066\n",
      "RMSE is 5.280020497618539\n",
      "MSE is 27.878616455271924\n",
      "R^2: 0.24318159927941774\n"
     ]
    }
   ],
   "source": [
    "y_test_pred = rfmodel.predict(X_test)\n",
    "print()\n",
    "print(f'Results for linear regression on test data')\n",
    "print(f'    Polynomial regression with degree {power}')\n",
    "print(f'MAE is {mean_absolute_error(y_test, y_test_pred)}')\n",
    "print(f'RMSE is {np.sqrt(mean_squared_error(y_test, y_test_pred))}')\n",
    "print(f'MSE is {mean_squared_error(y_test, y_test_pred)}')\n",
    "print(f'R^2: {r2_score(y_test, y_test_pred)}')"
   ]
  },
  {
   "cell_type": "code",
   "execution_count": 14,
   "id": "588b3621-09a6-4642-9536-ca2d0b5c28ef",
   "metadata": {
    "tags": []
   },
   "outputs": [
    {
     "name": "stdout",
     "output_type": "stream",
     "text": [
      "MAE is 2.200154322282721\n",
      "RMSE is 3.419097890387967\n",
      "MSE is 11.690230384055448\n",
      "R^2: 0.8014269384957932\n"
     ]
    }
   ],
   "source": [
    "from sklearn.ensemble import RandomForestRegressor\n",
    "rfmodel = RandomForestRegressor(n_estimators=100, max_features = 'sqrt', max_depth =10,random_state =123)\n",
    "rfmodel.fit(X,y)\n",
    "\n",
    "y_pred = rfmodel.predict(X)\n",
    "print(f'MAE is {mean_absolute_error(y, y_pred)}')\n",
    "print(f'RMSE is {np.sqrt(mean_squared_error(y, y_pred))}')\n",
    "print(f'MSE is {mean_squared_error(y, y_pred)}')\n",
    "print(f'R^2: {r2_score(y, y_pred)}')"
   ]
  },
  {
   "cell_type": "code",
   "execution_count": 15,
   "id": "42faa710-91b0-4923-9db0-073c0f9eed96",
   "metadata": {
    "tags": []
   },
   "outputs": [
    {
     "name": "stdout",
     "output_type": "stream",
     "text": [
      "\n",
      "Results for RF Regression on test data\n",
      "MAE is 3.6215856217149804\n",
      "RMSE is 5.249501202529769\n",
      "MSE is 27.5572628753615\n",
      "R^2: 0.2519053572465263\n"
     ]
    }
   ],
   "source": [
    "y_test_pred = rfmodel.predict(X_test)\n",
    "print()\n",
    "print(f'Results for RF Regression on test data')\n",
    "print(f'MAE is {mean_absolute_error(y_test, y_test_pred)}')\n",
    "print(f'RMSE is {np.sqrt(mean_squared_error(y_test, y_test_pred))}')\n",
    "print(f'MSE is {mean_squared_error(y_test, y_test_pred)}')\n",
    "print(f'R^2: {r2_score(y_test, y_test_pred)}')"
   ]
  },
  {
   "cell_type": "code",
   "execution_count": 16,
   "id": "c18f934f-4960-4173-b8af-109afb60224d",
   "metadata": {
    "tags": []
   },
   "outputs": [
    {
     "name": "stdout",
     "output_type": "stream",
     "text": [
      "MAE is 2.350966556921341\n",
      "RMSE is 3.74756321604158\n",
      "MSE is 14.04423005822791\n",
      "R^2: 0.7614413345578346\n"
     ]
    }
   ],
   "source": [
    "from sklearn.ensemble import RandomForestRegressor\n",
    "rfmodel = RandomForestRegressor(n_estimators=10, max_features = 'sqrt', max_depth =10,random_state =123)\n",
    "rfmodel.fit(X,y)\n",
    "\n",
    "y_pred = rfmodel.predict(X)\n",
    "print(f'MAE is {mean_absolute_error(y, y_pred)}')\n",
    "print(f'RMSE is {np.sqrt(mean_squared_error(y, y_pred))}')\n",
    "print(f'MSE is {mean_squared_error(y, y_pred)}')\n",
    "print(f'R^2: {r2_score(y, y_pred)}')"
   ]
  },
  {
   "cell_type": "code",
   "execution_count": 17,
   "id": "dc09ef50-a05a-4ca2-ad0e-c5db74b9883d",
   "metadata": {
    "tags": []
   },
   "outputs": [
    {
     "name": "stdout",
     "output_type": "stream",
     "text": [
      "\n",
      "Results for RF Regression on test data\n",
      "MAE is 3.9723274876456895\n",
      "RMSE is 5.62952028871595\n",
      "MSE is 31.691498681064516\n",
      "R^2: 0.1396736137633503\n"
     ]
    }
   ],
   "source": [
    "y_test_pred = rfmodel.predict(X_test)\n",
    "print()\n",
    "print(f'Results for RF Regression on test data')\n",
    "print(f'MAE is {mean_absolute_error(y_test, y_test_pred)}')\n",
    "print(f'RMSE is {np.sqrt(mean_squared_error(y_test, y_test_pred))}')\n",
    "print(f'MSE is {mean_squared_error(y_test, y_test_pred)}')\n",
    "print(f'R^2: {r2_score(y_test, y_test_pred)}')"
   ]
  },
  {
   "cell_type": "code",
   "execution_count": 18,
   "id": "26b88b5e-e2a1-4273-98a1-2b0e694580c9",
   "metadata": {
    "tags": []
   },
   "outputs": [
    {
     "name": "stdout",
     "output_type": "stream",
     "text": [
      "MAE is 3.4390888810268336\n",
      "RMSE is 5.729108304332828\n",
      "MSE is 32.82268196277538\n",
      "R^2: 0.4424660395900457\n"
     ]
    }
   ],
   "source": [
    "from sklearn.ensemble import RandomForestRegressor\n",
    "rfmodel = RandomForestRegressor(n_estimators=50, max_features = 'sqrt', max_depth =5,random_state =123)\n",
    "rfmodel.fit(X,y)\n",
    "\n",
    "y_pred = rfmodel.predict(X)\n",
    "print(f'MAE is {mean_absolute_error(y, y_pred)}')\n",
    "print(f'RMSE is {np.sqrt(mean_squared_error(y, y_pred))}')\n",
    "print(f'MSE is {mean_squared_error(y, y_pred)}')\n",
    "print(f'R^2: {r2_score(y, y_pred)}')"
   ]
  },
  {
   "cell_type": "code",
   "execution_count": 19,
   "id": "04b17e51-e9ae-40db-8811-22b89d33aca9",
   "metadata": {
    "tags": []
   },
   "outputs": [
    {
     "name": "stdout",
     "output_type": "stream",
     "text": [
      "\n",
      "Results for RF Regression on test data\n",
      "MAE is 3.740823812044581\n",
      "RMSE is 5.3375741459305015\n",
      "MSE is 28.489697763305724\n",
      "R^2: 0.2265926276208573\n"
     ]
    }
   ],
   "source": [
    "y_test_pred = rfmodel.predict(X_test)\n",
    "print()\n",
    "print(f'Results for RF Regression on test data')\n",
    "print(f'MAE is {mean_absolute_error(y_test, y_test_pred)}')\n",
    "print(f'RMSE is {np.sqrt(mean_squared_error(y_test, y_test_pred))}')\n",
    "print(f'MSE is {mean_squared_error(y_test, y_test_pred)}')\n",
    "print(f'R^2: {r2_score(y_test, y_test_pred)}')"
   ]
  },
  {
   "cell_type": "code",
   "execution_count": 20,
   "id": "f5875441-921d-4ab4-a47e-6bc756d7739e",
   "metadata": {
    "tags": []
   },
   "outputs": [
    {
     "name": "stdout",
     "output_type": "stream",
     "text": [
      "MAE is 3.444619329153732\n",
      "RMSE is 5.839383908311123\n",
      "MSE is 34.09840442864289\n",
      "R^2: 0.4207963113336616\n"
     ]
    }
   ],
   "source": [
    "from sklearn.ensemble import RandomForestRegressor\n",
    "rfmodel = RandomForestRegressor(n_estimators=30, max_features = 'sqrt', max_depth =5,random_state =123)\n",
    "rfmodel.fit(X,y)\n",
    "\n",
    "y_pred = rfmodel.predict(X)\n",
    "print(f'MAE is {mean_absolute_error(y, y_pred)}')\n",
    "print(f'RMSE is {np.sqrt(mean_squared_error(y, y_pred))}')\n",
    "print(f'MSE is {mean_squared_error(y, y_pred)}')\n",
    "print(f'R^2: {r2_score(y, y_pred)}')"
   ]
  },
  {
   "cell_type": "code",
   "execution_count": 21,
   "id": "34c3d154-f220-44a0-a538-51e4871bf775",
   "metadata": {
    "tags": []
   },
   "outputs": [
    {
     "name": "stdout",
     "output_type": "stream",
     "text": [
      "\n",
      "Results for RF Regression on test data\n",
      "MAE is 3.7413219054574225\n",
      "RMSE is 5.385351396285301\n",
      "MSE is 29.002009661472034\n",
      "R^2: 0.21268494062848387\n"
     ]
    }
   ],
   "source": [
    "y_test_pred = rfmodel.predict(X_test)\n",
    "print()\n",
    "print(f'Results for RF Regression on test data')\n",
    "print(f'MAE is {mean_absolute_error(y_test, y_test_pred)}')\n",
    "print(f'RMSE is {np.sqrt(mean_squared_error(y_test, y_test_pred))}')\n",
    "print(f'MSE is {mean_squared_error(y_test, y_test_pred)}')\n",
    "print(f'R^2: {r2_score(y_test, y_test_pred)}')"
   ]
  },
  {
   "cell_type": "code",
   "execution_count": 22,
   "id": "7263fb03-d0cc-4cc6-b3ea-cee3fb3aa0bd",
   "metadata": {
    "tags": []
   },
   "outputs": [
    {
     "name": "stdout",
     "output_type": "stream",
     "text": [
      "MAE is 2.974656013751278\n",
      "RMSE is 4.775091678937848\n",
      "MSE is 22.80150054226148\n",
      "R^2: 0.6126882344643776\n"
     ]
    }
   ],
   "source": [
    "rfmodel = RandomForestRegressor(n_estimators=30, max_features = 'sqrt', max_depth =7,random_state =123)\n",
    "rfmodel.fit(X,y)\n",
    "\n",
    "y_pred = rfmodel.predict(X)\n",
    "print(f'MAE is {mean_absolute_error(y, y_pred)}')\n",
    "print(f'RMSE is {np.sqrt(mean_squared_error(y, y_pred))}')\n",
    "print(f'MSE is {mean_squared_error(y, y_pred)}')\n",
    "print(f'R^2: {r2_score(y, y_pred)}')"
   ]
  },
  {
   "cell_type": "code",
   "execution_count": 23,
   "id": "53b70d65-dca8-4af3-9072-66913f2bb537",
   "metadata": {
    "tags": []
   },
   "outputs": [
    {
     "name": "stdout",
     "output_type": "stream",
     "text": [
      "\n",
      "Results for RF Regression on test data\n",
      "MAE is 3.7817339931164438\n",
      "RMSE is 5.443952796270193\n",
      "MSE is 29.636622048018058\n",
      "R^2: 0.19545717280744446\n"
     ]
    }
   ],
   "source": [
    "y_test_pred = rfmodel.predict(X_test)\n",
    "print()\n",
    "print(f'Results for RF Regression on test data')\n",
    "print(f'MAE is {mean_absolute_error(y_test, y_test_pred)}')\n",
    "print(f'RMSE is {np.sqrt(mean_squared_error(y_test, y_test_pred))}')\n",
    "print(f'MSE is {mean_squared_error(y_test, y_test_pred)}')\n",
    "print(f'R^2: {r2_score(y_test, y_test_pred)}')"
   ]
  },
  {
   "cell_type": "code",
   "execution_count": 24,
   "id": "c6f76a2c-4f9a-4cb2-898e-2e776c910fb2",
   "metadata": {
    "tags": []
   },
   "outputs": [
    {
     "name": "stdout",
     "output_type": "stream",
     "text": [
      "MAE is 1.0127762561457585\n",
      "RMSE is 3.2873119640844033\n",
      "MSE is 10.806419949212458\n",
      "R^2: 0.8164395548489752\n"
     ]
    }
   ],
   "source": [
    "from sklearn.neural_network import MLPRegressor\n",
    "from sklearn.preprocessing import StandardScaler\n",
    "\n",
    "mlpmodel = MLPRegressor(hidden_layer_sizes=(100,400,100), activation='tanh', random_state =123, max_iter=2000)\n",
    "sc_X = StandardScaler()\n",
    "X_trainscaled=sc_X.fit_transform(X)\n",
    "X_testscaled=sc_X.transform(X_test)\n",
    "mlpmodel.fit(X_trainscaled,y)\n",
    "y_pred = mlpmodel.predict(X_trainscaled)\n",
    "print(f'MAE is {mean_absolute_error(y, y_pred)}')\n",
    "print(f'RMSE is {np.sqrt(mean_squared_error(y, y_pred))}')\n",
    "print(f'MSE is {mean_squared_error(y, y_pred)}')\n",
    "print(f'R^2: {r2_score(y, y_pred)}')"
   ]
  },
  {
   "cell_type": "code",
   "execution_count": 25,
   "id": "27933f7b-fb1b-4052-93a1-b501c66ccb9b",
   "metadata": {},
   "outputs": [
    {
     "name": "stdout",
     "output_type": "stream",
     "text": [
      "\n",
      "Results for linear regression on test data\n",
      "MAE is 4.404028577490292\n",
      "RMSE is 6.011301639132784\n",
      "MSE is 36.13574739664049\n",
      "R^2: 0.019025976506205633\n"
     ]
    }
   ],
   "source": [
    "y_test_pred = mlpmodel.predict(X_testscaled)\n",
    "print()\n",
    "print(f'Results for linear regression on test data')\n",
    "print(f'MAE is {mean_absolute_error(y_test, y_test_pred)}')\n",
    "print(f'RMSE is {np.sqrt(mean_squared_error(y_test, y_test_pred))}')\n",
    "print(f'MSE is {mean_squared_error(y_test, y_test_pred)}')\n",
    "print(f'R^2: {r2_score(y_test, y_test_pred)}')"
   ]
  },
  {
   "cell_type": "code",
   "execution_count": 26,
   "id": "eebdd148-136e-4810-ba8a-e2501ceff815",
   "metadata": {},
   "outputs": [
    {
     "name": "stdout",
     "output_type": "stream",
     "text": [
      "MAE is 1.76792330682285\n",
      "RMSE is 3.876078190500755\n",
      "MSE is 15.023982138875605\n",
      "R^2: 0.7447990303621291\n"
     ]
    },
    {
     "name": "stderr",
     "output_type": "stream",
     "text": [
      "C:\\Users\\Matthew\\anaconda3\\lib\\site-packages\\sklearn\\neural_network\\_multilayer_perceptron.py:692: ConvergenceWarning: Stochastic Optimizer: Maximum iterations (2000) reached and the optimization hasn't converged yet.\n",
      "  warnings.warn(\n"
     ]
    }
   ],
   "source": [
    "from sklearn.neural_network import MLPRegressor\n",
    "from sklearn.preprocessing import StandardScaler\n",
    "\n",
    "mlpmodel = MLPRegressor(hidden_layer_sizes=(25,50,25), activation='tanh', random_state =123, max_iter=2000)\n",
    "sc_X = StandardScaler()\n",
    "X_trainscaled=sc_X.fit_transform(X)\n",
    "X_testscaled=sc_X.transform(X_test)\n",
    "mlpmodel.fit(X_trainscaled,y)\n",
    "y_pred = mlpmodel.predict(X_trainscaled)\n",
    "print(f'MAE is {mean_absolute_error(y, y_pred)}')\n",
    "print(f'RMSE is {np.sqrt(mean_squared_error(y, y_pred))}')\n",
    "print(f'MSE is {mean_squared_error(y, y_pred)}')\n",
    "print(f'R^2: {r2_score(y, y_pred)}')"
   ]
  },
  {
   "cell_type": "code",
   "execution_count": 27,
   "id": "683b74e8-bf52-457b-9e89-a5fbee9d900d",
   "metadata": {},
   "outputs": [
    {
     "name": "stdout",
     "output_type": "stream",
     "text": [
      "\n",
      "Results for linear regression on test data\n",
      "MAE is 4.0426676979987795\n",
      "RMSE is 5.540617750259498\n",
      "MSE is 30.698445054490623\n",
      "R^2: 0.16663195506766948\n"
     ]
    }
   ],
   "source": [
    "y_test_pred = mlpmodel.predict(X_testscaled)\n",
    "print()\n",
    "print(f'Results for linear regression on test data')\n",
    "print(f'MAE is {mean_absolute_error(y_test, y_test_pred)}')\n",
    "print(f'RMSE is {np.sqrt(mean_squared_error(y_test, y_test_pred))}')\n",
    "print(f'MSE is {mean_squared_error(y_test, y_test_pred)}')\n",
    "print(f'R^2: {r2_score(y_test, y_test_pred)}')"
   ]
  },
  {
   "cell_type": "code",
   "execution_count": 28,
   "id": "730ff715-f17b-4092-8590-cbe4d3fb6c8e",
   "metadata": {},
   "outputs": [
    {
     "name": "stdout",
     "output_type": "stream",
     "text": [
      "MAE is 3.9300632737915824\n",
      "RMSE is 7.081135048698817\n",
      "MSE is 50.1424735779108\n",
      "R^2: 0.14826789869427792\n"
     ]
    }
   ],
   "source": [
    "from sklearn.neural_network import MLPRegressor\n",
    "\n",
    "mlpmodel = MLPRegressor(hidden_layer_sizes=(25,50,25), activation='tanh', random_state =123, max_iter=2000)\n",
    "mlpmodel.fit(X,y)\n",
    "\n",
    "y_pred = mlpmodel.predict(X)\n",
    "print(f'MAE is {mean_absolute_error(y, y_pred)}')\n",
    "print(f'RMSE is {np.sqrt(mean_squared_error(y, y_pred))}')\n",
    "print(f'MSE is {mean_squared_error(y, y_pred)}')\n",
    "print(f'R^2: {r2_score(y, y_pred)}')"
   ]
  },
  {
   "cell_type": "code",
   "execution_count": 29,
   "id": "04af1337-da18-4aa7-b8f3-2466cdf86273",
   "metadata": {},
   "outputs": [
    {
     "name": "stdout",
     "output_type": "stream",
     "text": [
      "\n",
      "Results for model regression on test data\n",
      "MAE is 3.7179776347116276\n",
      "RMSE is 5.546062995064715\n",
      "MSE is 30.758814745226196\n",
      "R^2: 0.16499310427075864\n"
     ]
    }
   ],
   "source": [
    "y_test_pred = mlpmodel.predict(X_test)\n",
    "print()\n",
    "print(f'Results for model regression on test data')\n",
    "print(f'MAE is {mean_absolute_error(y_test, y_test_pred)}')\n",
    "print(f'RMSE is {np.sqrt(mean_squared_error(y_test, y_test_pred))}')\n",
    "print(f'MSE is {mean_squared_error(y_test, y_test_pred)}')\n",
    "print(f'R^2: {r2_score(y_test, y_test_pred)}')"
   ]
  },
  {
   "cell_type": "code",
   "execution_count": 30,
   "id": "b679ad65-d6f9-41a3-8578-a5bc3c3801b5",
   "metadata": {},
   "outputs": [
    {
     "name": "stdout",
     "output_type": "stream",
     "text": [
      "MAE is 3.924224813909053\n",
      "RMSE is 7.188351529699855\n",
      "MSE is 51.672397714538235\n",
      "R^2: 0.12228023979461655\n"
     ]
    }
   ],
   "source": [
    "from sklearn.neural_network import MLPRegressor\n",
    "\n",
    "mlpmodel = MLPRegressor(hidden_layer_sizes=(50,100,50), activation='tanh', random_state =123, max_iter=2000)\n",
    "mlpmodel.fit(X,y)\n",
    "\n",
    "y_pred = mlpmodel.predict(X)\n",
    "print(f'MAE is {mean_absolute_error(y, y_pred)}')\n",
    "print(f'RMSE is {np.sqrt(mean_squared_error(y, y_pred))}')\n",
    "print(f'MSE is {mean_squared_error(y, y_pred)}')\n",
    "print(f'R^2: {r2_score(y, y_pred)}')"
   ]
  },
  {
   "cell_type": "code",
   "execution_count": 31,
   "id": "de2e2f44-5307-4b54-bac2-ba1a95fe8da0",
   "metadata": {},
   "outputs": [
    {
     "name": "stdout",
     "output_type": "stream",
     "text": [
      "\n",
      "Results for model on test data\n",
      "MAE is 3.722428731640014\n",
      "RMSE is 5.560672332773334\n",
      "MSE is 30.92107679247083\n",
      "R^2: 0.16058819044405015\n"
     ]
    }
   ],
   "source": [
    "y_test_pred = mlpmodel.predict(X_test)\n",
    "print()\n",
    "print(f'Results for model on test data')\n",
    "print(f'MAE is {mean_absolute_error(y_test, y_test_pred)}')\n",
    "print(f'RMSE is {np.sqrt(mean_squared_error(y_test, y_test_pred))}')\n",
    "print(f'MSE is {mean_squared_error(y_test, y_test_pred)}')\n",
    "print(f'R^2: {r2_score(y_test, y_test_pred)}')"
   ]
  },
  {
   "cell_type": "code",
   "execution_count": 32,
   "id": "efbb753e-8986-4af9-8d9c-79d897b1c4a5",
   "metadata": {},
   "outputs": [
    {
     "name": "stdout",
     "output_type": "stream",
     "text": [
      "Results for linear regression on training data\n",
      "Internal Parameters:\n",
      "   Bias is 190.44153288310503\n",
      "   Coefficients: [-0.18132066 -1.38173996  0.07675422  0.09147388]\n",
      "   Score 0.15303437812371745\n",
      "MAE is 4.106448872859112\n",
      "RMSE is 7.061293458776801\n",
      "MSE is 49.861865310964035\n",
      "R^2: 0.15303437812371745\n"
     ]
    }
   ],
   "source": [
    "X = train_set[['stp', 'wind_speed', 'max_temp' , 'dewpoint']]\n",
    "y = train_set['value']\n",
    "\n",
    "X_test = test_set[['stp', 'wind_speed', 'max_temp' , 'dewpoint']]\n",
    "y_test = test_set['value']\n",
    "\n",
    "lrmodel = LinearRegression()\n",
    "lrmodel.fit(X,y)\n",
    "\n",
    "y_pred = lrmodel.predict(X)\n",
    "print(f'Results for linear regression on training data')\n",
    "print('Internal Parameters:')\n",
    "print(f'   Bias is {lrmodel.intercept_}')\n",
    "print(f'   Coefficients: {lrmodel.coef_}')\n",
    "print(f'   Score {lrmodel.score(X,y)}')\n",
    "\n",
    "print(f'MAE is {mean_absolute_error(y, y_pred)}')\n",
    "print(f'RMSE is {np.sqrt(mean_squared_error(y, y_pred))}')\n",
    "print(f'MSE is {mean_squared_error(y, y_pred)}')\n",
    "print(f'R^2: {r2_score(y, y_pred)}')"
   ]
  },
  {
   "cell_type": "code",
   "execution_count": 33,
   "id": "ca82f950-67cf-4068-bf2d-e254ffb82f30",
   "metadata": {},
   "outputs": [
    {
     "name": "stdout",
     "output_type": "stream",
     "text": [
      "Results for linear regression on training data\n",
      "    Default Settings\n",
      "Internal Parameters:\n",
      "   Bias is 20.371818944447657\n",
      "   Coefficients: [-1.12450609]\n",
      "   Score 0.0787488071227952\n",
      "MAE is 4.435974274036218\n",
      "RMSE is 7.364451405856905\n",
      "MSE is 54.23514450922775\n",
      "R^2: 0.0787488071227952\n"
     ]
    }
   ],
   "source": [
    "X = train_set[['wind_speed']]\n",
    "y = train_set['value']\n",
    "\n",
    "X_test = test_set[['wind_speed']]\n",
    "y_test = test_set['value']\n",
    "\n",
    "lrmodel = LinearRegression()\n",
    "lrmodel.fit(X,y)\n",
    "\n",
    "y_pred = lrmodel.predict(X)\n",
    "print(f'Results for linear regression on training data')\n",
    "print(f'    Default Settings')\n",
    "print('Internal Parameters:')\n",
    "print(f'   Bias is {lrmodel.intercept_}')\n",
    "print(f'   Coefficients: {lrmodel.coef_}')\n",
    "print(f'   Score {lrmodel.score(X,y)}')\n",
    "\n",
    "print(f'MAE is {mean_absolute_error(y, y_pred)}')\n",
    "print(f'RMSE is {np.sqrt(mean_squared_error(y, y_pred))}')\n",
    "print(f'MSE is {mean_squared_error(y, y_pred)}')\n",
    "print(f'R^2: {r2_score(y, y_pred)}')"
   ]
  },
  {
   "cell_type": "code",
   "execution_count": 34,
   "id": "51b5c740-cffa-4dd9-b2da-5805119c78b1",
   "metadata": {},
   "outputs": [
    {
     "name": "stdout",
     "output_type": "stream",
     "text": [
      "Results for linear regression on training data\n",
      "Internal Parameters:\n",
      "   Bias is 23.080062444272215\n",
      "   Coefficients: [-0.75126272]\n",
      "   Score 0.10246921830642874\n",
      "MAE is 4.366056633351809\n",
      "RMSE is 7.269023037539288\n",
      "MSE is 52.83869592027689\n",
      "R^2: 0.10246921830642874\n"
     ]
    }
   ],
   "source": [
    "X = train_set[['max_sustained_wind']]\n",
    "y = train_set['value']\n",
    "\n",
    "X_test = test_set[['max_sustained_wind']]\n",
    "y_test = test_set['value']\n",
    "\n",
    "lrmodel = LinearRegression()\n",
    "lrmodel.fit(X,y)\n",
    "\n",
    "y_pred = lrmodel.predict(X)\n",
    "print(f'Results for linear regression on training data')\n",
    "print('Internal Parameters:')\n",
    "print(f'   Bias is {lrmodel.intercept_}')\n",
    "print(f'   Coefficients: {lrmodel.coef_}')\n",
    "print(f'   Score {lrmodel.score(X,y)}')\n",
    "\n",
    "print(f'MAE is {mean_absolute_error(y, y_pred)}')\n",
    "print(f'RMSE is {np.sqrt(mean_squared_error(y, y_pred))}')\n",
    "print(f'MSE is {mean_squared_error(y, y_pred)}')\n",
    "print(f'R^2: {r2_score(y, y_pred)}')"
   ]
  },
  {
   "cell_type": "code",
   "execution_count": 36,
   "id": "7c601d15-e299-4ec4-8864-385a82269cb9",
   "metadata": {},
   "outputs": [
    {
     "name": "stdout",
     "output_type": "stream",
     "text": [
      "Results for linear regression on training data\n",
      "Internal Parameters:\n",
      "   Bias is 67475.17299110847\n",
      "   Coefficients: [ 3.52482779e-01 -1.37914861e+02  1.97316911e+06 -5.66065259e+03\n",
      "  5.27520002e+03  1.21827558e+03  4.85712354e+03 -8.35765396e+03\n",
      "  1.75566312e+03  6.46951665e-02 -4.10047247e+03  1.05332763e+01\n",
      " -1.01315324e+01 -3.11667345e+00 -1.01436616e+01  1.81452582e+01\n",
      " -3.51725200e+00  1.99925842e+04 -2.28241839e+04  2.07154409e+04\n",
      " -9.06990180e+03 -6.99396623e+03  8.62823811e+03  1.02922841e+04\n",
      "  7.65679862e+01 -3.91337588e+01 -3.09174879e+01  1.02607934e+01\n",
      "  3.76297158e+01 -6.70046079e+00  3.83192496e+00  3.24610054e+01\n",
      "  2.72453258e+01 -6.86695526e+01  1.26119262e+00 -3.73665453e-02\n",
      " -2.54815295e+00  3.62080298e+00  6.16298671e+00  7.93746579e+00\n",
      " -3.73253076e+00 -8.78674187e+00 -4.90495819e+00 -5.50240875e-01\n",
      " -1.59762278e-01  5.61343040e-06  2.13307758e+00 -4.87460369e-03\n",
      "  4.86520032e-03  1.90967350e-03  5.29200141e-03 -9.80049348e-03\n",
      "  1.76357990e-03 -2.08071724e+01  2.46278963e+01 -2.15190782e+01\n",
      "  9.25161978e+00  7.57139277e+00 -9.30778357e+00 -1.05729213e+01\n",
      " -7.32411138e-02  3.68670597e-02  3.28084944e-02 -9.13806208e-03\n",
      " -4.06617298e-02  6.45482880e-03 -3.46870212e-03 -3.33964786e-02\n",
      " -2.85201358e-02  7.04966410e-02 -1.24613489e-03  1.24261613e-04\n",
      "  2.24095539e-03 -3.82590288e-03 -6.04218699e-03 -8.18044125e-03\n",
      "  4.49005552e-03  8.79007412e-03  4.83227189e-03  2.67268344e-04\n",
      "  2.53192091e-04 -1.50181976e+03 -6.32884991e+01 -9.99040712e+01\n",
      "  2.37531002e+01  3.12917014e+02 -3.36801815e+02  1.21810391e+02\n",
      "  1.38465379e+00  7.44090274e-01 -1.90473157e+00  7.84401543e+01\n",
      " -6.64453437e+01 -3.56030073e+01 -4.20468909e+00 -2.86460659e+00\n",
      " -7.41612421e+01  6.39065033e+01  2.13562732e+01 -2.53096364e+00\n",
      " -1.33755170e+01  1.17093444e+01  7.19638320e+00 -4.00207666e+00\n",
      "  3.90281341e+01 -2.10364404e+01 -2.47857510e+01  5.73936951e+00\n",
      "  3.38821158e+00 -1.98977914e-01  9.86526696e-02  4.87612825e-02\n",
      " -1.28215433e-02 -4.93595721e-02 -4.16026140e-02  2.63825563e-04\n",
      " -7.10772249e-02 -9.09581579e-03  1.02062281e-01  2.47821782e-02\n",
      " -8.35284104e-03 -7.62554638e-03  1.63198988e-02 -8.92882283e-03\n",
      " -3.33638782e-02  2.80319807e-02  3.41197308e-02 -6.92893196e-03\n",
      " -3.62025374e-03 -5.40740594e-03 -9.07108915e-03  9.06733388e-03\n",
      "  4.02388356e-03 -1.30234445e-02 -1.09335930e-04  7.46337027e-03\n",
      "  7.52577445e-03 -1.18043507e-02 -4.37923199e-03  2.49047082e-02\n",
      " -2.48820385e-02 -1.68663864e-02  3.51198517e-03  1.40583001e-02\n",
      "  2.30853601e-03  4.20118828e-03  1.39274546e-02 -2.55432704e-02\n",
      " -5.61698539e-03 -8.19838238e-04 -2.95408974e-02  3.06169141e-04\n",
      "  4.11355482e-02  1.42182633e-02 -1.57517615e-03 -1.53327448e-03\n",
      "  3.38762485e-03  3.41197385e-04  1.25520250e-02  1.19460059e-03\n",
      "  2.21957811e-04 -1.84369930e-02 -8.59393452e-03 -5.29920628e-05\n",
      "  2.63253761e-04]\n",
      "   Score 0.3692745071603729\n",
      "MAE is 3.241872366031351\n",
      "RMSE is 6.0935665927050255\n",
      "MSE is 37.13155381973073\n",
      "R^2: 0.3692745071603729\n"
     ]
    }
   ],
   "source": [
    "power = 2\n",
    "X = train_set[['stp', 'precipitation' ,'wind_speed', 'max_sustained_wind', 'max_temp', 'min_temp','temperature', 'dewpoint']]\n",
    "y = train_set['value']\n",
    "\n",
    "X_poly = poly_process.fit_transform(X)\n",
    "\n",
    "X_test = test_set[['stp', 'precipitation', 'wind_speed', 'max_sustained_wind', 'max_temp', 'min_temp','temperature', 'dewpoint']]\n",
    "y_test = test_set['value']\n",
    "\n",
    "X_poly_test = poly_process.fit_transform(X_test)\n",
    "\n",
    "lrmodel = LinearRegression()\n",
    "lrmodel.fit(X_poly ,y)\n",
    "\n",
    "y_pred = lrmodel.predict(X_poly)\n",
    "print(f'Results for linear regression on training data')\n",
    "print('Internal Parameters:')\n",
    "print(f'   Bias is {lrmodel.intercept_}')\n",
    "print(f'   Coefficients: {lrmodel.coef_}')\n",
    "print(f'   Score {lrmodel.score(X_poly,y)}')\n",
    "\n",
    "print(f'MAE is {mean_absolute_error(y, y_pred)}')\n",
    "print(f'RMSE is {np.sqrt(mean_squared_error(y, y_pred))}')\n",
    "print(f'MSE is {mean_squared_error(y, y_pred)}')\n",
    "print(f'R^2: {r2_score(y, y_pred)}')"
   ]
  },
  {
   "cell_type": "code",
   "execution_count": 37,
   "id": "473dbb24-7abe-4ff4-bd9d-266bece0f824",
   "metadata": {},
   "outputs": [
    {
     "name": "stdout",
     "output_type": "stream",
     "text": [
      "\n",
      "Results for linear regression on test data\n",
      "    Polynomial regression with degree 2\n",
      "MAE is 65.31749670137104\n",
      "RMSE is 528.8910847265206\n",
      "MSE is 279725.7795031956\n",
      "R^2: -7592.69165337089\n"
     ]
    }
   ],
   "source": [
    "y_test_pred = lrmodel.predict(X_poly_test)\n",
    "print()\n",
    "print(f'Results for linear regression on test data')\n",
    "print(f'    Polynomial regression with degree {power}')\n",
    "print(f'MAE is {mean_absolute_error(y_test, y_test_pred)}')\n",
    "print(f'RMSE is {np.sqrt(mean_squared_error(y_test, y_test_pred))}')\n",
    "print(f'MSE is {mean_squared_error(y_test, y_test_pred)}')\n",
    "print(f'R^2: {r2_score(y_test, y_test_pred)}')"
   ]
  },
  {
   "cell_type": "code",
   "execution_count": null,
   "id": "1117d4d6-ec9b-436d-b624-52ab3383cc7a",
   "metadata": {},
   "outputs": [],
   "source": []
  }
 ],
 "metadata": {
  "kernelspec": {
   "display_name": "Python 3 (ipykernel)",
   "language": "python",
   "name": "python3"
  },
  "language_info": {
   "codemirror_mode": {
    "name": "ipython",
    "version": 3
   },
   "file_extension": ".py",
   "mimetype": "text/x-python",
   "name": "python",
   "nbconvert_exporter": "python",
   "pygments_lexer": "ipython3",
   "version": "3.9.13"
  }
 },
 "nbformat": 4,
 "nbformat_minor": 5
}
